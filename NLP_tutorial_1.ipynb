{
  "nbformat": 4,
  "nbformat_minor": 0,
  "metadata": {
    "colab": {
      "provenance": [],
      "authorship_tag": "ABX9TyOu6x/vZaCniwk9y7vLfzzM",
      "include_colab_link": true
    },
    "kernelspec": {
      "name": "python3",
      "display_name": "Python 3"
    },
    "language_info": {
      "name": "python"
    },
    "accelerator": "GPU",
    "gpuClass": "standard"
  },
  "cells": [
    {
      "cell_type": "markdown",
      "metadata": {
        "id": "view-in-github",
        "colab_type": "text"
      },
      "source": [
        "<a href=\"https://colab.research.google.com/github/SarinaMashreghi/ML-notebooks/blob/main/NLP_tutorial_1.ipynb\" target=\"_parent\"><img src=\"https://colab.research.google.com/assets/colab-badge.svg\" alt=\"Open In Colab\"/></a>"
      ]
    },
    {
      "cell_type": "markdown",
      "source": [
        "##data\n"
      ],
      "metadata": {
        "id": "zp0_OLULUV6H"
      }
    },
    {
      "cell_type": "code",
      "execution_count": null,
      "metadata": {
        "colab": {
          "base_uri": "https://localhost:8080/"
        },
        "id": "HRkdchRQTKT6",
        "outputId": "8b0057a9-79ed-41ef-d207-084e02b067c5"
      },
      "outputs": [
        {
          "output_type": "stream",
          "name": "stdout",
          "text": [
            "--2023-03-07 16:16:14--  https://storage.googleapis.com/ztm_tf_course/nlp_getting_started.zip\n",
            "Resolving storage.googleapis.com (storage.googleapis.com)... 64.233.182.128, 173.194.193.128, 173.194.194.128, ...\n",
            "Connecting to storage.googleapis.com (storage.googleapis.com)|64.233.182.128|:443... connected.\n",
            "HTTP request sent, awaiting response... 200 OK\n",
            "Length: 607343 (593K) [application/zip]\n",
            "Saving to: ‘nlp_getting_started.zip’\n",
            "\n",
            "\rnlp_getting_started   0%[                    ]       0  --.-KB/s               \rnlp_getting_started 100%[===================>] 593.11K  --.-KB/s    in 0.006s  \n",
            "\n",
            "2023-03-07 16:16:14 (105 MB/s) - ‘nlp_getting_started.zip’ saved [607343/607343]\n",
            "\n"
          ]
        }
      ],
      "source": [
        "!wget https://storage.googleapis.com/ztm_tf_course/nlp_getting_started.zip"
      ]
    },
    {
      "cell_type": "code",
      "source": [
        "import zipfile\n",
        "\n",
        "zip_ref = zipfile.ZipFile(\"nlp_getting_started.zip\")\n",
        "zip_ref.extractall()\n",
        "zip_ref.close()"
      ],
      "metadata": {
        "id": "HiWEEAC3U03F"
      },
      "execution_count": null,
      "outputs": []
    },
    {
      "cell_type": "code",
      "source": [
        "import pandas as pd\n",
        "\n",
        "train = pd.read_csv(\"/content/train.csv\")\n",
        "test = pd.read_csv(\"/content/test.csv\")"
      ],
      "metadata": {
        "id": "mhX6SnNDVeLG"
      },
      "execution_count": null,
      "outputs": []
    },
    {
      "cell_type": "code",
      "source": [
        "train.target.value_counts()"
      ],
      "metadata": {
        "colab": {
          "base_uri": "https://localhost:8080/"
        },
        "id": "qKLOvgw8WM2L",
        "outputId": "c2701960-2a66-4756-8ebd-b991b55f5cd5"
      },
      "execution_count": null,
      "outputs": [
        {
          "output_type": "execute_result",
          "data": {
            "text/plain": [
              "0    4342\n",
              "1    3271\n",
              "Name: target, dtype: int64"
            ]
          },
          "metadata": {},
          "execution_count": 5
        }
      ]
    },
    {
      "cell_type": "code",
      "source": [
        "len(train), len(test)"
      ],
      "metadata": {
        "colab": {
          "base_uri": "https://localhost:8080/"
        },
        "id": "tuDmLSDmYDHP",
        "outputId": "2c091fd2-bb05-413c-c50f-0a14558f2004"
      },
      "execution_count": null,
      "outputs": [
        {
          "output_type": "execute_result",
          "data": {
            "text/plain": [
              "(7613, 3263)"
            ]
          },
          "metadata": {},
          "execution_count": 6
        }
      ]
    },
    {
      "cell_type": "code",
      "source": [
        "import random\n",
        "train[\"text\"][random.randint(0, len(train)-1)]"
      ],
      "metadata": {
        "colab": {
          "base_uri": "https://localhost:8080/",
          "height": 52
        },
        "id": "0vQoI3e4Znqh",
        "outputId": "362f3d9e-5206-4b2a-c1e2-950a34762230"
      },
      "execution_count": null,
      "outputs": [
        {
          "output_type": "execute_result",
          "data": {
            "text/plain": [
              "'@accionempresa China\\x89Ûªs stock market crash this summer has sparked interest from bargain hunt... http://t.co/gO0pkrFzMF @gerenciatodos å¨'"
            ],
            "application/vnd.google.colaboratory.intrinsic+json": {
              "type": "string"
            }
          },
          "metadata": {},
          "execution_count": 4
        }
      ]
    },
    {
      "cell_type": "code",
      "source": [
        "from sklearn.model_selection import train_test_split\n",
        "\n",
        "train_text, valid_text, train_labels, valid_labels = train_test_split(train[\"text\"].to_numpy(), \n",
        "                                                                     train[\"target\"].to_numpy(),\n",
        "                                                                     test_size=0.1,\n",
        "                                                                     random_state=42)\n",
        "\n",
        "test_text = test[\"text\"]"
      ],
      "metadata": {
        "id": "siDz4hM3bjJI"
      },
      "execution_count": null,
      "outputs": []
    },
    {
      "cell_type": "code",
      "source": [
        "len(train_text), len(valid_text)"
      ],
      "metadata": {
        "colab": {
          "base_uri": "https://localhost:8080/"
        },
        "id": "GIW7xwkTcn7s",
        "outputId": "a3a05f78-ceb3-4be1-f550-c81786753355"
      },
      "execution_count": null,
      "outputs": [
        {
          "output_type": "execute_result",
          "data": {
            "text/plain": [
              "(6851, 762)"
            ]
          },
          "metadata": {},
          "execution_count": 9
        }
      ]
    },
    {
      "cell_type": "markdown",
      "source": [
        "##tokenization"
      ],
      "metadata": {
        "id": "shF5eSvJdE_v"
      }
    },
    {
      "cell_type": "code",
      "source": [
        "import tensorflow as tf\n",
        "from tensorflow.keras.layers.experimental.preprocessing import TextVectorization\n",
        "\n",
        "#default\n",
        "text_vectorizer = TextVectorization(max_tokens=None,\n",
        "                                    standardize=\"lower_and_strip_punctuation\",\n",
        "                                    split=\"whitespace\",\n",
        "                                    ngrams=None, \n",
        "                                    output_mode=\"int\",\n",
        "                                    output_sequence_length=None)"
      ],
      "metadata": {
        "id": "CA9qHe-qdHUY"
      },
      "execution_count": null,
      "outputs": []
    },
    {
      "cell_type": "code",
      "source": [
        "avg_len = round(sum(len(i.split()) for i in train_text)/len(train_text))\n",
        "avg_len"
      ],
      "metadata": {
        "colab": {
          "base_uri": "https://localhost:8080/"
        },
        "id": "vnVAXXJfgK0W",
        "outputId": "ec4d7f09-df16-442f-8996-4cbe17feb01f"
      },
      "execution_count": null,
      "outputs": [
        {
          "output_type": "execute_result",
          "data": {
            "text/plain": [
              "15"
            ]
          },
          "metadata": {},
          "execution_count": 6
        }
      ]
    },
    {
      "cell_type": "code",
      "source": [
        "max_vocab_length = 10000"
      ],
      "metadata": {
        "id": "mt4t39s2hPRN"
      },
      "execution_count": null,
      "outputs": []
    },
    {
      "cell_type": "code",
      "source": [
        "text_vectorizer = TextVectorization(max_tokens=max_vocab_length,\n",
        "                                    output_mode=\"int\",\n",
        "                                    output_sequence_length=avg_len)"
      ],
      "metadata": {
        "id": "3SLE1aVYhhTG"
      },
      "execution_count": null,
      "outputs": []
    },
    {
      "cell_type": "code",
      "source": [
        "text_vectorizer.adapt(train_text)"
      ],
      "metadata": {
        "id": "iXF8od4UiJR1"
      },
      "execution_count": null,
      "outputs": []
    },
    {
      "cell_type": "code",
      "source": [
        "rand_sentence = random.choice(train_text)\n",
        "print(f\"original sentence: {rand_sentence} \\n\\n vectorized: \")\n",
        "text_vectorizer([rand_sentence])"
      ],
      "metadata": {
        "colab": {
          "base_uri": "https://localhost:8080/",
          "height": 201
        },
        "id": "Trgps8wGikr2",
        "outputId": "2095696a-bf1a-4fa0-ed6f-848629d465eb"
      },
      "execution_count": null,
      "outputs": [
        {
          "output_type": "error",
          "ename": "NameError",
          "evalue": "ignored",
          "traceback": [
            "\u001b[0;31m---------------------------------------------------------------------------\u001b[0m",
            "\u001b[0;31mNameError\u001b[0m                                 Traceback (most recent call last)",
            "\u001b[0;32m<ipython-input-10-2bfb7ebadebb>\u001b[0m in \u001b[0;36m<module>\u001b[0;34m\u001b[0m\n\u001b[0;32m----> 1\u001b[0;31m \u001b[0mrand_sentence\u001b[0m \u001b[0;34m=\u001b[0m \u001b[0mrandom\u001b[0m\u001b[0;34m.\u001b[0m\u001b[0mchoice\u001b[0m\u001b[0;34m(\u001b[0m\u001b[0mtrain_text\u001b[0m\u001b[0;34m)\u001b[0m\u001b[0;34m\u001b[0m\u001b[0;34m\u001b[0m\u001b[0m\n\u001b[0m\u001b[1;32m      2\u001b[0m \u001b[0mprint\u001b[0m\u001b[0;34m(\u001b[0m\u001b[0;34mf\"original sentence: {rand_sentence} \\n\\n vectorized: \"\u001b[0m\u001b[0;34m)\u001b[0m\u001b[0;34m\u001b[0m\u001b[0;34m\u001b[0m\u001b[0m\n\u001b[1;32m      3\u001b[0m \u001b[0mtext_vectorizer\u001b[0m\u001b[0;34m(\u001b[0m\u001b[0;34m[\u001b[0m\u001b[0mrand_sentence\u001b[0m\u001b[0;34m]\u001b[0m\u001b[0;34m)\u001b[0m\u001b[0;34m\u001b[0m\u001b[0;34m\u001b[0m\u001b[0m\n",
            "\u001b[0;31mNameError\u001b[0m: name 'random' is not defined"
          ]
        }
      ]
    },
    {
      "cell_type": "markdown",
      "source": [
        "##embeddings\n"
      ],
      "metadata": {
        "id": "CgThSP7WkbRJ"
      }
    },
    {
      "cell_type": "code",
      "source": [
        "from tensorflow.keras import layers\n",
        "\n",
        "embedding = layers.Embedding(input_dim=max_vocab_length,\n",
        "                             output_dim=128,\n",
        "                             input_length=avg_len)"
      ],
      "metadata": {
        "id": "huPBulQvkdw7"
      },
      "execution_count": null,
      "outputs": []
    },
    {
      "cell_type": "code",
      "source": [
        "rand_sentence = random.choice(train_text)\n",
        "print(rand_sentence)\n",
        "embedding(text_vectorizer([rand_sentence]))"
      ],
      "metadata": {
        "colab": {
          "base_uri": "https://localhost:8080/",
          "height": 201
        },
        "id": "lts6P60PVDCt",
        "outputId": "e80fd8ee-afb1-4b84-f0fa-f108ea25aa5a"
      },
      "execution_count": null,
      "outputs": [
        {
          "output_type": "error",
          "ename": "NameError",
          "evalue": "ignored",
          "traceback": [
            "\u001b[0;31m---------------------------------------------------------------------------\u001b[0m",
            "\u001b[0;31mNameError\u001b[0m                                 Traceback (most recent call last)",
            "\u001b[0;32m<ipython-input-12-31fd1308414c>\u001b[0m in \u001b[0;36m<module>\u001b[0;34m\u001b[0m\n\u001b[0;32m----> 1\u001b[0;31m \u001b[0mrand_sentence\u001b[0m \u001b[0;34m=\u001b[0m \u001b[0mrandom\u001b[0m\u001b[0;34m.\u001b[0m\u001b[0mchoice\u001b[0m\u001b[0;34m(\u001b[0m\u001b[0mtrain_text\u001b[0m\u001b[0;34m)\u001b[0m\u001b[0;34m\u001b[0m\u001b[0;34m\u001b[0m\u001b[0m\n\u001b[0m\u001b[1;32m      2\u001b[0m \u001b[0mprint\u001b[0m\u001b[0;34m(\u001b[0m\u001b[0mrand_sentence\u001b[0m\u001b[0;34m)\u001b[0m\u001b[0;34m\u001b[0m\u001b[0;34m\u001b[0m\u001b[0m\n\u001b[1;32m      3\u001b[0m \u001b[0membedding\u001b[0m\u001b[0;34m(\u001b[0m\u001b[0mtext_vectorizer\u001b[0m\u001b[0;34m(\u001b[0m\u001b[0;34m[\u001b[0m\u001b[0mrand_sentence\u001b[0m\u001b[0;34m]\u001b[0m\u001b[0;34m)\u001b[0m\u001b[0;34m)\u001b[0m\u001b[0;34m\u001b[0m\u001b[0;34m\u001b[0m\u001b[0m\n",
            "\u001b[0;31mNameError\u001b[0m: name 'random' is not defined"
          ]
        }
      ]
    },
    {
      "cell_type": "markdown",
      "source": [
        "##Naive Bayes _ tf-idf"
      ],
      "metadata": {
        "id": "NwtLlgSiXNQ_"
      }
    },
    {
      "cell_type": "code",
      "source": [
        "from sklearn.feature_extraction.text import TfidfVectorizer\n",
        "from sklearn.naive_bayes import MultinomialNB\n",
        "from sklearn.pipeline import Pipeline\n",
        "\n",
        "model_nb = Pipeline([\n",
        "    (\"tfidf\", TfidfVectorizer()),\n",
        "    (\"clf\", MultinomialNB())\n",
        "])\n",
        "\n",
        "model_nb.fit(train_text, train_labels)"
      ],
      "metadata": {
        "colab": {
          "base_uri": "https://localhost:8080/",
          "height": 124
        },
        "id": "REJSgVNhXQrY",
        "outputId": "a9dbceb4-397f-4a64-a658-bcbf100da868"
      },
      "execution_count": null,
      "outputs": [
        {
          "output_type": "execute_result",
          "data": {
            "text/plain": [
              "Pipeline(steps=[('tfidf', TfidfVectorizer()), ('clf', MultinomialNB())])"
            ],
            "text/html": [
              "<style>#sk-container-id-1 {color: black;background-color: white;}#sk-container-id-1 pre{padding: 0;}#sk-container-id-1 div.sk-toggleable {background-color: white;}#sk-container-id-1 label.sk-toggleable__label {cursor: pointer;display: block;width: 100%;margin-bottom: 0;padding: 0.3em;box-sizing: border-box;text-align: center;}#sk-container-id-1 label.sk-toggleable__label-arrow:before {content: \"▸\";float: left;margin-right: 0.25em;color: #696969;}#sk-container-id-1 label.sk-toggleable__label-arrow:hover:before {color: black;}#sk-container-id-1 div.sk-estimator:hover label.sk-toggleable__label-arrow:before {color: black;}#sk-container-id-1 div.sk-toggleable__content {max-height: 0;max-width: 0;overflow: hidden;text-align: left;background-color: #f0f8ff;}#sk-container-id-1 div.sk-toggleable__content pre {margin: 0.2em;color: black;border-radius: 0.25em;background-color: #f0f8ff;}#sk-container-id-1 input.sk-toggleable__control:checked~div.sk-toggleable__content {max-height: 200px;max-width: 100%;overflow: auto;}#sk-container-id-1 input.sk-toggleable__control:checked~label.sk-toggleable__label-arrow:before {content: \"▾\";}#sk-container-id-1 div.sk-estimator input.sk-toggleable__control:checked~label.sk-toggleable__label {background-color: #d4ebff;}#sk-container-id-1 div.sk-label input.sk-toggleable__control:checked~label.sk-toggleable__label {background-color: #d4ebff;}#sk-container-id-1 input.sk-hidden--visually {border: 0;clip: rect(1px 1px 1px 1px);clip: rect(1px, 1px, 1px, 1px);height: 1px;margin: -1px;overflow: hidden;padding: 0;position: absolute;width: 1px;}#sk-container-id-1 div.sk-estimator {font-family: monospace;background-color: #f0f8ff;border: 1px dotted black;border-radius: 0.25em;box-sizing: border-box;margin-bottom: 0.5em;}#sk-container-id-1 div.sk-estimator:hover {background-color: #d4ebff;}#sk-container-id-1 div.sk-parallel-item::after {content: \"\";width: 100%;border-bottom: 1px solid gray;flex-grow: 1;}#sk-container-id-1 div.sk-label:hover label.sk-toggleable__label {background-color: #d4ebff;}#sk-container-id-1 div.sk-serial::before {content: \"\";position: absolute;border-left: 1px solid gray;box-sizing: border-box;top: 0;bottom: 0;left: 50%;z-index: 0;}#sk-container-id-1 div.sk-serial {display: flex;flex-direction: column;align-items: center;background-color: white;padding-right: 0.2em;padding-left: 0.2em;position: relative;}#sk-container-id-1 div.sk-item {position: relative;z-index: 1;}#sk-container-id-1 div.sk-parallel {display: flex;align-items: stretch;justify-content: center;background-color: white;position: relative;}#sk-container-id-1 div.sk-item::before, #sk-container-id-1 div.sk-parallel-item::before {content: \"\";position: absolute;border-left: 1px solid gray;box-sizing: border-box;top: 0;bottom: 0;left: 50%;z-index: -1;}#sk-container-id-1 div.sk-parallel-item {display: flex;flex-direction: column;z-index: 1;position: relative;background-color: white;}#sk-container-id-1 div.sk-parallel-item:first-child::after {align-self: flex-end;width: 50%;}#sk-container-id-1 div.sk-parallel-item:last-child::after {align-self: flex-start;width: 50%;}#sk-container-id-1 div.sk-parallel-item:only-child::after {width: 0;}#sk-container-id-1 div.sk-dashed-wrapped {border: 1px dashed gray;margin: 0 0.4em 0.5em 0.4em;box-sizing: border-box;padding-bottom: 0.4em;background-color: white;}#sk-container-id-1 div.sk-label label {font-family: monospace;font-weight: bold;display: inline-block;line-height: 1.2em;}#sk-container-id-1 div.sk-label-container {text-align: center;}#sk-container-id-1 div.sk-container {/* jupyter's `normalize.less` sets `[hidden] { display: none; }` but bootstrap.min.css set `[hidden] { display: none !important; }` so we also need the `!important` here to be able to override the default hidden behavior on the sphinx rendered scikit-learn.org. See: https://github.com/scikit-learn/scikit-learn/issues/21755 */display: inline-block !important;position: relative;}#sk-container-id-1 div.sk-text-repr-fallback {display: none;}</style><div id=\"sk-container-id-1\" class=\"sk-top-container\"><div class=\"sk-text-repr-fallback\"><pre>Pipeline(steps=[(&#x27;tfidf&#x27;, TfidfVectorizer()), (&#x27;clf&#x27;, MultinomialNB())])</pre><b>In a Jupyter environment, please rerun this cell to show the HTML representation or trust the notebook. <br />On GitHub, the HTML representation is unable to render, please try loading this page with nbviewer.org.</b></div><div class=\"sk-container\" hidden><div class=\"sk-item sk-dashed-wrapped\"><div class=\"sk-label-container\"><div class=\"sk-label sk-toggleable\"><input class=\"sk-toggleable__control sk-hidden--visually\" id=\"sk-estimator-id-1\" type=\"checkbox\" ><label for=\"sk-estimator-id-1\" class=\"sk-toggleable__label sk-toggleable__label-arrow\">Pipeline</label><div class=\"sk-toggleable__content\"><pre>Pipeline(steps=[(&#x27;tfidf&#x27;, TfidfVectorizer()), (&#x27;clf&#x27;, MultinomialNB())])</pre></div></div></div><div class=\"sk-serial\"><div class=\"sk-item\"><div class=\"sk-estimator sk-toggleable\"><input class=\"sk-toggleable__control sk-hidden--visually\" id=\"sk-estimator-id-2\" type=\"checkbox\" ><label for=\"sk-estimator-id-2\" class=\"sk-toggleable__label sk-toggleable__label-arrow\">TfidfVectorizer</label><div class=\"sk-toggleable__content\"><pre>TfidfVectorizer()</pre></div></div></div><div class=\"sk-item\"><div class=\"sk-estimator sk-toggleable\"><input class=\"sk-toggleable__control sk-hidden--visually\" id=\"sk-estimator-id-3\" type=\"checkbox\" ><label for=\"sk-estimator-id-3\" class=\"sk-toggleable__label sk-toggleable__label-arrow\">MultinomialNB</label><div class=\"sk-toggleable__content\"><pre>MultinomialNB()</pre></div></div></div></div></div></div></div>"
            ]
          },
          "metadata": {},
          "execution_count": 62
        }
      ]
    },
    {
      "cell_type": "code",
      "source": [
        "nb_score = model_nb.score(valid_text, valid_labels)\n",
        "nb_score"
      ],
      "metadata": {
        "colab": {
          "base_uri": "https://localhost:8080/"
        },
        "id": "pYGiPQ6mYRC0",
        "outputId": "d4413e0a-8b9c-4dfb-9dbc-e8eb38316042"
      },
      "execution_count": null,
      "outputs": [
        {
          "output_type": "execute_result",
          "data": {
            "text/plain": [
              "0.7782152230971129"
            ]
          },
          "metadata": {},
          "execution_count": 24
        }
      ]
    },
    {
      "cell_type": "code",
      "source": [
        "#evaluation function\n",
        "\n",
        "from sklearn.metrics import accuracy_score, precision_score, recall_score, f1_score\n",
        "def evaluation(y_true, y_pred):\n",
        "  eval = {}\n",
        "  eval[\"accuracy\"] = accuracy_score(y_true, y_pred)\n",
        "  eval[\"f1\"] = f1_score(y_true, y_pred)\n",
        "  eval[\"precision\"] = precision_score(y_true, y_pred)\n",
        "  eval[\"recall\"] = recall_score(y_true, y_pred)\n",
        "\n",
        "  return eval\n"
      ],
      "metadata": {
        "id": "-zUbnS0PY9ak"
      },
      "execution_count": null,
      "outputs": []
    },
    {
      "cell_type": "code",
      "source": [
        "y_pred = model_nb.predict(valid_text)\n",
        "evaluation(valid_labels, y_pred)"
      ],
      "metadata": {
        "colab": {
          "base_uri": "https://localhost:8080/"
        },
        "id": "VxD4XyOkaFu4",
        "outputId": "bb7e42a3-f40c-4c7b-b9aa-469a608fdeff"
      },
      "execution_count": null,
      "outputs": [
        {
          "output_type": "execute_result",
          "data": {
            "text/plain": [
              "{'accuracy': 0.7782152230971129,\n",
              " 'f1': 0.7703527809038113,\n",
              " 'precision': 0.792992256322435,\n",
              " 'recall': 0.7782152230971129}"
            ]
          },
          "metadata": {},
          "execution_count": 50
        }
      ]
    },
    {
      "cell_type": "markdown",
      "source": [
        "##feed forward neural network"
      ],
      "metadata": {
        "id": "CjbpGxvBYP8N"
      }
    },
    {
      "cell_type": "code",
      "source": [
        "from tensorflow.keras import layers\n",
        "\n",
        "inputs = layers.Input(shape=(1,), dtype=tf.string)\n",
        "x = text_vectorizer(inputs)\n",
        "x = embedding(x)\n",
        "x = layers.GlobalAveragePooling1D()(x)\n",
        "outputs = layers.Dense(1)(x)\n",
        "model_dense = tf.keras.Model(inputs, outputs)"
      ],
      "metadata": {
        "id": "0PNNJnm1byvG"
      },
      "execution_count": null,
      "outputs": []
    },
    {
      "cell_type": "code",
      "source": [
        "model_dense.summary()"
      ],
      "metadata": {
        "colab": {
          "base_uri": "https://localhost:8080/"
        },
        "id": "Lwr9JNQbf3qN",
        "outputId": "3079f3f5-fa0e-46cf-f05c-8641b62171cf"
      },
      "execution_count": null,
      "outputs": [
        {
          "output_type": "stream",
          "name": "stdout",
          "text": [
            "Model: \"model_1\"\n",
            "_________________________________________________________________\n",
            " Layer (type)                Output Shape              Param #   \n",
            "=================================================================\n",
            " input_4 (InputLayer)        [(None, 1)]               0         \n",
            "                                                                 \n",
            " text_vectorization_1 (TextV  (None, 15)               0         \n",
            " ectorization)                                                   \n",
            "                                                                 \n",
            " embedding_1 (Embedding)     (None, 15, 128)           1280000   \n",
            "                                                                 \n",
            " global_average_pooling1d (G  (None, 128)              0         \n",
            " lobalAveragePooling1D)                                          \n",
            "                                                                 \n",
            " dense_1 (Dense)             (None, 1)                 129       \n",
            "                                                                 \n",
            "=================================================================\n",
            "Total params: 1,280,129\n",
            "Trainable params: 1,280,129\n",
            "Non-trainable params: 0\n",
            "_________________________________________________________________\n"
          ]
        }
      ]
    },
    {
      "cell_type": "code",
      "source": [
        "model_dense.compile(loss=tf.keras.losses.BinaryCrossentropy(from_logits=True),\n",
        "                    optimizer=\"adam\",\n",
        "                    metrics=[\"accuracy\"])\n",
        "model_dense.fit(train_text, train_labels, epochs=10, \n",
        "                validation_data=(valid_text, valid_labels))"
      ],
      "metadata": {
        "colab": {
          "base_uri": "https://localhost:8080/"
        },
        "id": "4Fzv4GIydMyQ",
        "outputId": "528352e8-6c93-4b37-973b-ede13192b63a"
      },
      "execution_count": null,
      "outputs": [
        {
          "output_type": "stream",
          "name": "stdout",
          "text": [
            "Epoch 1/10\n",
            "215/215 [==============================] - 10s 39ms/step - loss: 0.6200 - accuracy: 0.6071 - val_loss: 0.5517 - val_accuracy: 0.7021\n",
            "Epoch 2/10\n",
            "215/215 [==============================] - 2s 11ms/step - loss: 0.4519 - accuracy: 0.7749 - val_loss: 0.4899 - val_accuracy: 0.7612\n",
            "Epoch 3/10\n",
            "215/215 [==============================] - 3s 13ms/step - loss: 0.3555 - accuracy: 0.8365 - val_loss: 0.4762 - val_accuracy: 0.7992\n",
            "Epoch 4/10\n",
            "215/215 [==============================] - 1s 7ms/step - loss: 0.2922 - accuracy: 0.8667 - val_loss: 0.4830 - val_accuracy: 0.7940\n",
            "Epoch 5/10\n",
            "215/215 [==============================] - 2s 8ms/step - loss: 0.2454 - accuracy: 0.8933 - val_loss: 0.4945 - val_accuracy: 0.8005\n",
            "Epoch 6/10\n",
            "215/215 [==============================] - 1s 6ms/step - loss: 0.2083 - accuracy: 0.9111 - val_loss: 0.5136 - val_accuracy: 0.7874\n",
            "Epoch 7/10\n",
            "215/215 [==============================] - 1s 5ms/step - loss: 0.1785 - accuracy: 0.9261 - val_loss: 0.5444 - val_accuracy: 0.7861\n",
            "Epoch 8/10\n",
            "215/215 [==============================] - 1s 6ms/step - loss: 0.1553 - accuracy: 0.9361 - val_loss: 0.5720 - val_accuracy: 0.7822\n",
            "Epoch 9/10\n",
            "215/215 [==============================] - 1s 7ms/step - loss: 0.1358 - accuracy: 0.9467 - val_loss: 0.6049 - val_accuracy: 0.7848\n",
            "Epoch 10/10\n",
            "215/215 [==============================] - 2s 8ms/step - loss: 0.1204 - accuracy: 0.9536 - val_loss: 0.6329 - val_accuracy: 0.7756\n"
          ]
        },
        {
          "output_type": "execute_result",
          "data": {
            "text/plain": [
              "<keras.callbacks.History at 0x7fc6930fda60>"
            ]
          },
          "metadata": {},
          "execution_count": 43
        }
      ]
    },
    {
      "cell_type": "code",
      "source": [
        "model_dense.evaluate(valid_text, valid_labels)"
      ],
      "metadata": {
        "colab": {
          "base_uri": "https://localhost:8080/"
        },
        "id": "O7MGFDUZganp",
        "outputId": "2d29fc1c-2ae8-48f9-b44e-45c3d914ab9a"
      },
      "execution_count": null,
      "outputs": [
        {
          "output_type": "stream",
          "name": "stdout",
          "text": [
            "24/24 [==============================] - 0s 8ms/step - loss: 0.6329 - accuracy: 0.7756\n"
          ]
        },
        {
          "output_type": "execute_result",
          "data": {
            "text/plain": [
              "[0.6328520774841309, 0.7755905389785767]"
            ]
          },
          "metadata": {},
          "execution_count": 44
        }
      ]
    },
    {
      "cell_type": "code",
      "source": [
        "preds = tf.keras.activations.sigmoid(model_dense.predict(valid_text))\n",
        "preds = tf.squeeze(tf.cast(tf.round(preds), tf.int32))\n",
        "# preds\n",
        "evaluation(valid_labels, preds)"
      ],
      "metadata": {
        "colab": {
          "base_uri": "https://localhost:8080/"
        },
        "id": "rLH1rLugfJuU",
        "outputId": "9d50a5a9-063c-4fd9-d2d6-5ae1133b2cbc"
      },
      "execution_count": null,
      "outputs": [
        {
          "output_type": "stream",
          "name": "stdout",
          "text": [
            "24/24 [==============================] - 0s 5ms/step\n"
          ]
        },
        {
          "output_type": "execute_result",
          "data": {
            "text/plain": [
              "{'accuracy': 0.7650918635170604,\n",
              " 'f1': 0.7198748043818467,\n",
              " 'precision': 0.759075907590759,\n",
              " 'recall': 0.6845238095238095}"
            ]
          },
          "metadata": {},
          "execution_count": 60
        }
      ]
    },
    {
      "cell_type": "code",
      "source": [
        "model_dense.summary()"
      ],
      "metadata": {
        "colab": {
          "base_uri": "https://localhost:8080/"
        },
        "id": "tsZyCTPPjjO-",
        "outputId": "0910c969-6997-4bfc-a449-5565b7524939"
      },
      "execution_count": null,
      "outputs": [
        {
          "output_type": "stream",
          "name": "stdout",
          "text": [
            "Model: \"model_2\"\n",
            "_________________________________________________________________\n",
            " Layer (type)                Output Shape              Param #   \n",
            "=================================================================\n",
            " input_5 (InputLayer)        [(None, 1)]               0         \n",
            "                                                                 \n",
            " text_vectorization_1 (TextV  (None, 15)               0         \n",
            " ectorization)                                                   \n",
            "                                                                 \n",
            " embedding_1 (Embedding)     (None, 15, 128)           1280000   \n",
            "                                                                 \n",
            " global_average_pooling1d_1   (None, 128)              0         \n",
            " (GlobalAveragePooling1D)                                        \n",
            "                                                                 \n",
            " dense_2 (Dense)             (None, 1)                 129       \n",
            "                                                                 \n",
            "=================================================================\n",
            "Total params: 1,280,129\n",
            "Trainable params: 1,280,129\n",
            "Non-trainable params: 0\n",
            "_________________________________________________________________\n"
          ]
        }
      ]
    },
    {
      "cell_type": "markdown",
      "source": [
        "###embedding projector"
      ],
      "metadata": {
        "id": "udoebg0bnK3f"
      }
    },
    {
      "cell_type": "code",
      "source": [
        "embed_weights = model_dense.get_layer(\"embedding_1\").get_weights()\n",
        "embed_weights"
      ],
      "metadata": {
        "colab": {
          "base_uri": "https://localhost:8080/"
        },
        "id": "_uT9KNoqjpxR",
        "outputId": "7556eaeb-c7b3-4139-c740-6c39ce81ecdc"
      },
      "execution_count": null,
      "outputs": [
        {
          "output_type": "execute_result",
          "data": {
            "text/plain": [
              "[array([[ 0.00888562, -0.09413256,  0.07076585, ..., -0.0352413 ,\n",
              "         -0.00812659, -0.02846153],\n",
              "        [-0.02164671, -0.03582695, -0.01340451, ..., -0.0601631 ,\n",
              "          0.07407307, -0.0132545 ],\n",
              "        [-0.03160125, -0.00958726,  0.02159344, ..., -0.0484019 ,\n",
              "          0.0558673 ,  0.00854502],\n",
              "        ...,\n",
              "        [-0.05878653,  0.06276495, -0.09682883, ..., -0.08860903,\n",
              "         -0.01544397, -0.11498877],\n",
              "        [-0.04951746, -0.03317036,  0.03308517, ..., -0.00350804,\n",
              "          0.04423368,  0.01025897],\n",
              "        [-0.01844122,  0.01108814, -0.0166669 , ..., -0.02731975,\n",
              "         -0.01029252, -0.03976574]], dtype=float32)]"
            ]
          },
          "metadata": {},
          "execution_count": 62
        }
      ]
    },
    {
      "cell_type": "code",
      "source": [
        "import io\n",
        "out_v = io.open('vectors.tsv', 'w', encoding='utf-8')\n",
        "out_m = io.open('metadata.tsv', 'w', encoding='utf-8')\n",
        "\n",
        "for index, word in enumerate(text_vectorizer.get_vocabulary()):\n",
        "  if index == 0:\n",
        "    continue  # skip 0, it's padding.\n",
        "  vec = embed_weights[0][index]\n",
        "  out_v.write('\\t'.join([str(x) for x in vec]) + \"\\n\")\n",
        "  out_m.write(word + \"\\n\")\n",
        "out_v.close()\n",
        "out_m.close()"
      ],
      "metadata": {
        "id": "wkTQF75nkt6E"
      },
      "execution_count": null,
      "outputs": []
    },
    {
      "cell_type": "code",
      "source": [
        "try:\n",
        "  from google.colab import files\n",
        "  files.download('vectors.tsv')\n",
        "  # files.download('metadata.tsv')\n",
        "except Exception:\n",
        "  pass"
      ],
      "metadata": {
        "colab": {
          "base_uri": "https://localhost:8080/",
          "height": 17
        },
        "id": "tkowhpusl9s0",
        "outputId": "89800698-01b6-4afd-a542-91d854aba516"
      },
      "execution_count": null,
      "outputs": [
        {
          "output_type": "display_data",
          "data": {
            "text/plain": [
              "<IPython.core.display.Javascript object>"
            ],
            "application/javascript": [
              "\n",
              "    async function download(id, filename, size) {\n",
              "      if (!google.colab.kernel.accessAllowed) {\n",
              "        return;\n",
              "      }\n",
              "      const div = document.createElement('div');\n",
              "      const label = document.createElement('label');\n",
              "      label.textContent = `Downloading \"${filename}\": `;\n",
              "      div.appendChild(label);\n",
              "      const progress = document.createElement('progress');\n",
              "      progress.max = size;\n",
              "      div.appendChild(progress);\n",
              "      document.body.appendChild(div);\n",
              "\n",
              "      const buffers = [];\n",
              "      let downloaded = 0;\n",
              "\n",
              "      const channel = await google.colab.kernel.comms.open(id);\n",
              "      // Send a message to notify the kernel that we're ready.\n",
              "      channel.send({})\n",
              "\n",
              "      for await (const message of channel.messages) {\n",
              "        // Send a message to notify the kernel that we're ready.\n",
              "        channel.send({})\n",
              "        if (message.buffers) {\n",
              "          for (const buffer of message.buffers) {\n",
              "            buffers.push(buffer);\n",
              "            downloaded += buffer.byteLength;\n",
              "            progress.value = downloaded;\n",
              "          }\n",
              "        }\n",
              "      }\n",
              "      const blob = new Blob(buffers, {type: 'application/binary'});\n",
              "      const a = document.createElement('a');\n",
              "      a.href = window.URL.createObjectURL(blob);\n",
              "      a.download = filename;\n",
              "      div.appendChild(a);\n",
              "      a.click();\n",
              "      div.remove();\n",
              "    }\n",
              "  "
            ]
          },
          "metadata": {}
        },
        {
          "output_type": "display_data",
          "data": {
            "text/plain": [
              "<IPython.core.display.Javascript object>"
            ],
            "application/javascript": [
              "download(\"download_e8f891de-86f9-4d4f-a652-571155b73510\", \"vectors.tsv\", 15137193)"
            ]
          },
          "metadata": {}
        }
      ]
    },
    {
      "cell_type": "markdown",
      "source": [
        "##LSTM model"
      ],
      "metadata": {
        "id": "uINbQhZynRR1"
      }
    },
    {
      "cell_type": "code",
      "source": [
        "import tensorflow as tf\n",
        "from tensorflow.keras import layers\n",
        "\n",
        "inputs = layers.Input(shape=(1,), dtype=\"string\")\n",
        "x = text_vectorizer(inputs)\n",
        "x = embedding(x)\n",
        "# x = layers.LSTM(64, return_sequences=True)(x)\n",
        "x = layers.LSTM(64)(x)\n",
        "# x = layers.Dense(64, activation=\"relu\")(x)\n",
        "outputs = layers.Dense(1)(x)\n",
        "model_lstm = tf.keras.Model(inputs, outputs)\n",
        "model_lstm.summary()\n"
      ],
      "metadata": {
        "id": "b-70CxJknkYh",
        "colab": {
          "base_uri": "https://localhost:8080/"
        },
        "outputId": "e435be09-ec77-43a5-a409-e33c1c2276a4"
      },
      "execution_count": null,
      "outputs": [
        {
          "output_type": "stream",
          "name": "stdout",
          "text": [
            "Model: \"model_2\"\n",
            "_________________________________________________________________\n",
            " Layer (type)                Output Shape              Param #   \n",
            "=================================================================\n",
            " input_5 (InputLayer)        [(None, 1)]               0         \n",
            "                                                                 \n",
            " text_vectorization_1 (TextV  (None, 15)               0         \n",
            " ectorization)                                                   \n",
            "                                                                 \n",
            " embedding (Embedding)       (None, 15, 128)           1280000   \n",
            "                                                                 \n",
            " lstm_6 (LSTM)               (None, 64)                49408     \n",
            "                                                                 \n",
            " dense_4 (Dense)             (None, 1)                 65        \n",
            "                                                                 \n",
            "=================================================================\n",
            "Total params: 1,329,473\n",
            "Trainable params: 1,329,473\n",
            "Non-trainable params: 0\n",
            "_________________________________________________________________\n"
          ]
        }
      ]
    },
    {
      "cell_type": "code",
      "source": [
        "model_lstm.compile(loss=tf.keras.losses.BinaryCrossentropy(from_logits=True),\n",
        "                   optimizer=\"adam\",\n",
        "                   metrics=[\"accuracy\"])\n",
        "\n",
        "model_lstm.fit(train_text, train_labels, validation_split=0.1, epochs=10)"
      ],
      "metadata": {
        "colab": {
          "base_uri": "https://localhost:8080/"
        },
        "id": "qCPwzdVDjrPi",
        "outputId": "d6755c4d-673a-401a-ae22-8d09035f5962"
      },
      "execution_count": null,
      "outputs": [
        {
          "output_type": "stream",
          "name": "stdout",
          "text": [
            "Epoch 1/10\n",
            "193/193 [==============================] - 21s 64ms/step - loss: 0.5144 - accuracy: 0.7319 - val_loss: 0.4473 - val_accuracy: 0.7915\n",
            "Epoch 2/10\n",
            "193/193 [==============================] - 3s 15ms/step - loss: 0.3184 - accuracy: 0.8660 - val_loss: 0.5247 - val_accuracy: 0.7784\n",
            "Epoch 3/10\n",
            "193/193 [==============================] - 2s 11ms/step - loss: 0.2132 - accuracy: 0.9158 - val_loss: 0.5415 - val_accuracy: 0.7959\n",
            "Epoch 4/10\n",
            "193/193 [==============================] - 2s 11ms/step - loss: 0.1484 - accuracy: 0.9463 - val_loss: 0.6729 - val_accuracy: 0.7711\n",
            "Epoch 5/10\n",
            "193/193 [==============================] - 2s 10ms/step - loss: 0.0989 - accuracy: 0.9599 - val_loss: 0.8484 - val_accuracy: 0.7726\n",
            "Epoch 6/10\n",
            "193/193 [==============================] - 2s 8ms/step - loss: 0.0784 - accuracy: 0.9684 - val_loss: 0.6174 - val_accuracy: 0.7799\n",
            "Epoch 7/10\n",
            "193/193 [==============================] - 2s 8ms/step - loss: 0.0727 - accuracy: 0.9671 - val_loss: 1.0859 - val_accuracy: 0.7580\n",
            "Epoch 8/10\n",
            "193/193 [==============================] - 2s 8ms/step - loss: 0.0570 - accuracy: 0.9731 - val_loss: 1.0824 - val_accuracy: 0.7682\n",
            "Epoch 9/10\n",
            "193/193 [==============================] - 1s 7ms/step - loss: 0.0452 - accuracy: 0.9794 - val_loss: 1.3505 - val_accuracy: 0.7609\n",
            "Epoch 10/10\n",
            "193/193 [==============================] - 2s 8ms/step - loss: 0.0496 - accuracy: 0.9770 - val_loss: 1.0678 - val_accuracy: 0.7682\n"
          ]
        },
        {
          "output_type": "execute_result",
          "data": {
            "text/plain": [
              "<keras.callbacks.History at 0x7f4da34d0310>"
            ]
          },
          "metadata": {},
          "execution_count": 19
        }
      ]
    },
    {
      "cell_type": "code",
      "source": [
        "model_lstm.evaluate(valid_text, valid_labels)"
      ],
      "metadata": {
        "colab": {
          "base_uri": "https://localhost:8080/"
        },
        "id": "CDXh0I-fkP5K",
        "outputId": "6f0ce18b-bc9b-462d-f9b9-8b93838b65fc"
      },
      "execution_count": null,
      "outputs": [
        {
          "output_type": "stream",
          "name": "stdout",
          "text": [
            "24/24 [==============================] - 0s 6ms/step - loss: 1.2426 - accuracy: 0.7467\n"
          ]
        },
        {
          "output_type": "execute_result",
          "data": {
            "text/plain": [
              "[1.2426118850708008, 0.7467191815376282]"
            ]
          },
          "metadata": {},
          "execution_count": 20
        }
      ]
    },
    {
      "cell_type": "code",
      "source": [
        "preds = tf.keras.activations.sigmoid(model_lstm.predict(valid_text))\n",
        "preds = tf.squeeze(tf.round(preds))\n",
        "evaluation(valid_labels, preds)"
      ],
      "metadata": {
        "colab": {
          "base_uri": "https://localhost:8080/"
        },
        "id": "LoM71ST8kWBw",
        "outputId": "35f365c6-3319-410e-c7cf-1d2ea424a829"
      },
      "execution_count": null,
      "outputs": [
        {
          "output_type": "stream",
          "name": "stdout",
          "text": [
            "24/24 [==============================] - 1s 5ms/step\n"
          ]
        },
        {
          "output_type": "execute_result",
          "data": {
            "text/plain": [
              "{'accuracy': 0.7362204724409449,\n",
              " 'f1': 0.6968325791855203,\n",
              " 'precision': 0.7064220183486238,\n",
              " 'recall': 0.6875}"
            ]
          },
          "metadata": {},
          "execution_count": 21
        }
      ]
    },
    {
      "cell_type": "markdown",
      "source": [
        "##GRU model"
      ],
      "metadata": {
        "id": "6MibLloSlBmP"
      }
    },
    {
      "cell_type": "code",
      "source": [
        "import tensorflow as tf\n",
        "from tensorflow.keras import layers\n",
        "\n",
        "inputs = layers.Input(shape=(1,), dtype=tf.string)\n",
        "x = text_vectorizer(inputs)\n",
        "x = embedding(x)\n",
        "x = layers.GRU(64)(x)\n",
        "outputs = layers.Dense(1)(x)\n",
        "model_gru = tf.keras.Model(inputs, outputs)\n",
        "model_gru.summary()"
      ],
      "metadata": {
        "colab": {
          "base_uri": "https://localhost:8080/"
        },
        "id": "drZqKXBLlDQs",
        "outputId": "6c4ea66a-2eb4-4344-da9e-45c6ee900701"
      },
      "execution_count": null,
      "outputs": [
        {
          "output_type": "stream",
          "name": "stdout",
          "text": [
            "Model: \"model_4\"\n",
            "_________________________________________________________________\n",
            " Layer (type)                Output Shape              Param #   \n",
            "=================================================================\n",
            " input_7 (InputLayer)        [(None, 1)]               0         \n",
            "                                                                 \n",
            " text_vectorization_1 (TextV  (None, 15)               0         \n",
            " ectorization)                                                   \n",
            "                                                                 \n",
            " embedding (Embedding)       (None, 15, 128)           1280000   \n",
            "                                                                 \n",
            " gru_1 (GRU)                 (None, 64)                37248     \n",
            "                                                                 \n",
            " dense_6 (Dense)             (None, 1)                 65        \n",
            "                                                                 \n",
            "=================================================================\n",
            "Total params: 1,317,313\n",
            "Trainable params: 1,317,313\n",
            "Non-trainable params: 0\n",
            "_________________________________________________________________\n"
          ]
        }
      ]
    },
    {
      "cell_type": "code",
      "source": [
        "model_gru.compile(loss=tf.keras.losses.BinaryCrossentropy(from_logits=True),\n",
        "                  optimizer=\"adam\",\n",
        "                  metrics=[\"accuracy\"])\n",
        "model_gru.fit(train_text, train_labels, validation_split=0.1, epochs=10)"
      ],
      "metadata": {
        "colab": {
          "base_uri": "https://localhost:8080/"
        },
        "id": "a_AzJeAQnEpp",
        "outputId": "2d2d90d9-9a8b-4286-a902-4663c4c9e0b8"
      },
      "execution_count": null,
      "outputs": [
        {
          "output_type": "stream",
          "name": "stdout",
          "text": [
            "Epoch 1/10\n",
            "193/193 [==============================] - 12s 43ms/step - loss: 0.2065 - accuracy: 0.8970 - val_loss: 0.6699 - val_accuracy: 0.7711\n",
            "Epoch 2/10\n",
            "193/193 [==============================] - 3s 14ms/step - loss: 0.0824 - accuracy: 0.9702 - val_loss: 0.9032 - val_accuracy: 0.7770\n",
            "Epoch 3/10\n",
            "193/193 [==============================] - 2s 11ms/step - loss: 0.0530 - accuracy: 0.9763 - val_loss: 1.1930 - val_accuracy: 0.7624\n",
            "Epoch 4/10\n",
            "193/193 [==============================] - 3s 14ms/step - loss: 0.0456 - accuracy: 0.9796 - val_loss: 1.2305 - val_accuracy: 0.7624\n",
            "Epoch 5/10\n",
            "193/193 [==============================] - 2s 9ms/step - loss: 0.0444 - accuracy: 0.9794 - val_loss: 1.2949 - val_accuracy: 0.7609\n",
            "Epoch 6/10\n",
            "193/193 [==============================] - 1s 7ms/step - loss: 0.0378 - accuracy: 0.9809 - val_loss: 1.1727 - val_accuracy: 0.7624\n",
            "Epoch 7/10\n",
            "193/193 [==============================] - 2s 10ms/step - loss: 0.0489 - accuracy: 0.9779 - val_loss: 1.0343 - val_accuracy: 0.7522\n",
            "Epoch 8/10\n",
            "193/193 [==============================] - 2s 8ms/step - loss: 0.0404 - accuracy: 0.9812 - val_loss: 1.3848 - val_accuracy: 0.7536\n",
            "Epoch 9/10\n",
            "193/193 [==============================] - 2s 11ms/step - loss: 0.0371 - accuracy: 0.9802 - val_loss: 1.2699 - val_accuracy: 0.7624\n",
            "Epoch 10/10\n",
            "193/193 [==============================] - 2s 10ms/step - loss: 0.0375 - accuracy: 0.9818 - val_loss: 1.2604 - val_accuracy: 0.7624\n"
          ]
        },
        {
          "output_type": "execute_result",
          "data": {
            "text/plain": [
              "<keras.callbacks.History at 0x7f4dac616070>"
            ]
          },
          "metadata": {},
          "execution_count": 25
        }
      ]
    },
    {
      "cell_type": "code",
      "source": [
        "model_gru.evaluate(valid_text, valid_labels)"
      ],
      "metadata": {
        "colab": {
          "base_uri": "https://localhost:8080/"
        },
        "id": "JFGGuzsCnhl_",
        "outputId": "2a23800b-c1b4-44c4-e462-3543a189d6b5"
      },
      "execution_count": null,
      "outputs": [
        {
          "output_type": "stream",
          "name": "stdout",
          "text": [
            "24/24 [==============================] - 0s 6ms/step - loss: 1.3279 - accuracy: 0.7572\n"
          ]
        },
        {
          "output_type": "execute_result",
          "data": {
            "text/plain": [
              "[1.3279330730438232, 0.7572178244590759]"
            ]
          },
          "metadata": {},
          "execution_count": 26
        }
      ]
    },
    {
      "cell_type": "code",
      "source": [
        "preds = tf.keras.activations.sigmoid(model_gru.predict(valid_text))\n",
        "preds = tf.squeeze(tf.round(preds))\n",
        "evaluation(valid_labels, preds)"
      ],
      "metadata": {
        "colab": {
          "base_uri": "https://localhost:8080/"
        },
        "id": "Wu4i3eaXnn3T",
        "outputId": "bd51c032-c617-429c-cd80-3df3c45b7e89"
      },
      "execution_count": null,
      "outputs": [
        {
          "output_type": "stream",
          "name": "stdout",
          "text": [
            "24/24 [==============================] - 1s 3ms/step\n"
          ]
        },
        {
          "output_type": "execute_result",
          "data": {
            "text/plain": [
              "{'accuracy': 0.7519685039370079,\n",
              " 'f1': 0.6936790923824959,\n",
              " 'precision': 0.7615658362989324,\n",
              " 'recall': 0.6369047619047619}"
            ]
          },
          "metadata": {},
          "execution_count": 27
        }
      ]
    },
    {
      "cell_type": "markdown",
      "source": [
        "##bidirectional RNN"
      ],
      "metadata": {
        "id": "qVsk5MmToZHp"
      }
    },
    {
      "cell_type": "code",
      "source": [
        "import tensorflow as tf\n",
        "from tensorflow.keras import layers\n",
        "\n",
        "inputs = layers.Input(shape=(1,), dtype=tf.string)\n",
        "x = text_vectorizer(inputs)\n",
        "x = embedding(x)\n",
        "x = layers.Bidirectional(layers.LSTM(64, return_sequences=True))(x)\n",
        "x = layers.Bidirectional(layers.GRU(64))(x)\n",
        "outputs = layers.Dense(1)(x)\n",
        "\n",
        "model_bi = tf.keras.Model(inputs, outputs)\n",
        "model_bi.summary()"
      ],
      "metadata": {
        "colab": {
          "base_uri": "https://localhost:8080/"
        },
        "id": "r38RpTMJocYL",
        "outputId": "da52e12f-c348-40b8-9987-3dd6684e2af0"
      },
      "execution_count": null,
      "outputs": [
        {
          "output_type": "stream",
          "name": "stdout",
          "text": [
            "Model: \"model_5\"\n",
            "_________________________________________________________________\n",
            " Layer (type)                Output Shape              Param #   \n",
            "=================================================================\n",
            " input_8 (InputLayer)        [(None, 1)]               0         \n",
            "                                                                 \n",
            " text_vectorization_1 (TextV  (None, 15)               0         \n",
            " ectorization)                                                   \n",
            "                                                                 \n",
            " embedding (Embedding)       (None, 15, 128)           1280000   \n",
            "                                                                 \n",
            " bidirectional (Bidirectiona  (None, 15, 128)          98816     \n",
            " l)                                                              \n",
            "                                                                 \n",
            " bidirectional_1 (Bidirectio  (None, 128)              74496     \n",
            " nal)                                                            \n",
            "                                                                 \n",
            " dense_7 (Dense)             (None, 1)                 129       \n",
            "                                                                 \n",
            "=================================================================\n",
            "Total params: 1,453,441\n",
            "Trainable params: 1,453,441\n",
            "Non-trainable params: 0\n",
            "_________________________________________________________________\n"
          ]
        }
      ]
    },
    {
      "cell_type": "code",
      "source": [
        "model_bi.compile(loss=tf.keras.losses.BinaryCrossentropy(from_logits=True),\n",
        "                 optimizer=\"adam\",\n",
        "                 metrics=[\"accuracy\"])\n",
        "\n",
        "model_bi.fit(train_text, train_labels, validation_split=0.1, epochs=10)"
      ],
      "metadata": {
        "colab": {
          "base_uri": "https://localhost:8080/"
        },
        "id": "GDhe67ybqIQe",
        "outputId": "5d5f98ea-76cf-4a1a-8cde-a252c562e768"
      },
      "execution_count": null,
      "outputs": [
        {
          "output_type": "stream",
          "name": "stdout",
          "text": [
            "Epoch 1/10\n",
            "193/193 [==============================] - 21s 67ms/step - loss: 0.1130 - accuracy: 0.9461 - val_loss: 1.3260 - val_accuracy: 0.7507\n",
            "Epoch 2/10\n",
            "193/193 [==============================] - 5s 25ms/step - loss: 0.0389 - accuracy: 0.9810 - val_loss: 1.2082 - val_accuracy: 0.7595\n",
            "Epoch 3/10\n",
            "193/193 [==============================] - 6s 31ms/step - loss: 0.0389 - accuracy: 0.9810 - val_loss: 1.4179 - val_accuracy: 0.7668\n",
            "Epoch 4/10\n",
            "193/193 [==============================] - 5s 24ms/step - loss: 0.0367 - accuracy: 0.9831 - val_loss: 1.4170 - val_accuracy: 0.7566\n",
            "Epoch 5/10\n",
            "193/193 [==============================] - 5s 28ms/step - loss: 0.0385 - accuracy: 0.9804 - val_loss: 1.3034 - val_accuracy: 0.7609\n",
            "Epoch 6/10\n",
            "193/193 [==============================] - 4s 20ms/step - loss: 0.0341 - accuracy: 0.9818 - val_loss: 1.3003 - val_accuracy: 0.7420\n",
            "Epoch 7/10\n",
            "193/193 [==============================] - 4s 18ms/step - loss: 0.0332 - accuracy: 0.9825 - val_loss: 1.7910 - val_accuracy: 0.7551\n",
            "Epoch 8/10\n",
            "193/193 [==============================] - 4s 23ms/step - loss: 0.0348 - accuracy: 0.9830 - val_loss: 1.4296 - val_accuracy: 0.7566\n",
            "Epoch 9/10\n",
            "193/193 [==============================] - 5s 25ms/step - loss: 0.0369 - accuracy: 0.9818 - val_loss: 1.1452 - val_accuracy: 0.7595\n",
            "Epoch 10/10\n",
            "193/193 [==============================] - 5s 24ms/step - loss: 0.0356 - accuracy: 0.9826 - val_loss: 1.6592 - val_accuracy: 0.7522\n"
          ]
        },
        {
          "output_type": "execute_result",
          "data": {
            "text/plain": [
              "<keras.callbacks.History at 0x7f4dad5fe280>"
            ]
          },
          "metadata": {},
          "execution_count": 29
        }
      ]
    },
    {
      "cell_type": "code",
      "source": [
        "model_bi.evaluate(valid_text, valid_labels)"
      ],
      "metadata": {
        "colab": {
          "base_uri": "https://localhost:8080/"
        },
        "id": "vTVInCj1qeuu",
        "outputId": "3616b2e4-5666-456d-b56a-9b79f3fb818a"
      },
      "execution_count": null,
      "outputs": [
        {
          "output_type": "stream",
          "name": "stdout",
          "text": [
            "24/24 [==============================] - 0s 6ms/step - loss: 1.9372 - accuracy: 0.7113\n"
          ]
        },
        {
          "output_type": "execute_result",
          "data": {
            "text/plain": [
              "[1.9371700286865234, 0.7112860679626465]"
            ]
          },
          "metadata": {},
          "execution_count": 30
        }
      ]
    },
    {
      "cell_type": "code",
      "source": [
        "preds = tf.keras.activations.sigmoid(model_bi.predict(valid_text))\n",
        "preds = tf.squeeze(tf.round(preds))\n",
        "evaluation(valid_labels, preds)"
      ],
      "metadata": {
        "colab": {
          "base_uri": "https://localhost:8080/"
        },
        "id": "ajl8Eq-iqnXA",
        "outputId": "f84cd990-f947-4924-a5c8-4e642281629c"
      },
      "execution_count": null,
      "outputs": [
        {
          "output_type": "stream",
          "name": "stdout",
          "text": [
            "24/24 [==============================] - 2s 5ms/step\n"
          ]
        },
        {
          "output_type": "execute_result",
          "data": {
            "text/plain": [
              "{'accuracy': 0.7007874015748031,\n",
              " 'f1': 0.6779661016949152,\n",
              " 'precision': 0.6451612903225806,\n",
              " 'recall': 0.7142857142857143}"
            ]
          },
          "metadata": {},
          "execution_count": 31
        }
      ]
    },
    {
      "cell_type": "markdown",
      "source": [
        "##conv1D model"
      ],
      "metadata": {
        "id": "bQ4x7MB7t-OD"
      }
    },
    {
      "cell_type": "code",
      "source": [
        "import tensorflow as tf\n",
        "from tensorflow.keras import layers\n",
        "\n",
        "inputs = layers.Input(shape=(1,), dtype=tf.string)\n",
        "x = text_vectorizer(inputs)\n",
        "x = embedding(x)\n",
        "x = layers.Conv1D(filters=64, kernel_size=5, activation=\"relu\", padding=\"same\")(x)\n",
        "x = layers.GlobalMaxPool1D()(x)\n",
        "outputs = layers.Dense(1, activation=\"sigmoid\")(x)\n",
        "\n",
        "model_conv1 = tf.keras.Model(inputs, outputs)\n",
        "model_conv1.summary()"
      ],
      "metadata": {
        "colab": {
          "base_uri": "https://localhost:8080/"
        },
        "id": "c4-7HgP5uA2G",
        "outputId": "2a8da80b-5db9-4bb4-c4e0-b3c7c090353e"
      },
      "execution_count": null,
      "outputs": [
        {
          "output_type": "stream",
          "name": "stdout",
          "text": [
            "Model: \"model_6\"\n",
            "_________________________________________________________________\n",
            " Layer (type)                Output Shape              Param #   \n",
            "=================================================================\n",
            " input_10 (InputLayer)       [(None, 1)]               0         \n",
            "                                                                 \n",
            " text_vectorization_1 (TextV  (None, 15)               0         \n",
            " ectorization)                                                   \n",
            "                                                                 \n",
            " embedding (Embedding)       (None, 15, 128)           1280000   \n",
            "                                                                 \n",
            " conv1d_1 (Conv1D)           (None, 15, 64)            41024     \n",
            "                                                                 \n",
            " global_max_pooling1d_1 (Glo  (None, 64)               0         \n",
            " balMaxPooling1D)                                                \n",
            "                                                                 \n",
            " dense_9 (Dense)             (None, 1)                 65        \n",
            "                                                                 \n",
            "=================================================================\n",
            "Total params: 1,321,089\n",
            "Trainable params: 1,321,089\n",
            "Non-trainable params: 0\n",
            "_________________________________________________________________\n"
          ]
        }
      ]
    },
    {
      "cell_type": "code",
      "source": [
        "model_conv1.compile(loss=\"binary_crossentropy\",\n",
        "                    optimizer=\"adam\",\n",
        "                    metrics=[\"accuracy\"])\n",
        "\n",
        "model_conv1.fit(train_text, train_labels, validation_split=0.1, epochs=10)"
      ],
      "metadata": {
        "colab": {
          "base_uri": "https://localhost:8080/"
        },
        "id": "O3njtAPRu2mx",
        "outputId": "e2296c7e-8708-449c-bcce-b80c0824204b"
      },
      "execution_count": null,
      "outputs": [
        {
          "output_type": "stream",
          "name": "stdout",
          "text": [
            "Epoch 1/10\n",
            "193/193 [==============================] - 17s 58ms/step - loss: 0.1428 - accuracy: 0.9666 - val_loss: 0.8631 - val_accuracy: 0.7668\n",
            "Epoch 2/10\n",
            "193/193 [==============================] - 5s 26ms/step - loss: 0.0689 - accuracy: 0.9752 - val_loss: 1.0001 - val_accuracy: 0.7536\n",
            "Epoch 3/10\n",
            "193/193 [==============================] - 2s 8ms/step - loss: 0.0535 - accuracy: 0.9794 - val_loss: 1.0969 - val_accuracy: 0.7464\n",
            "Epoch 4/10\n",
            "193/193 [==============================] - 2s 11ms/step - loss: 0.0482 - accuracy: 0.9805 - val_loss: 1.1559 - val_accuracy: 0.7493\n",
            "Epoch 5/10\n",
            "193/193 [==============================] - 2s 11ms/step - loss: 0.0447 - accuracy: 0.9800 - val_loss: 1.2206 - val_accuracy: 0.7507\n",
            "Epoch 6/10\n",
            "193/193 [==============================] - 2s 10ms/step - loss: 0.0437 - accuracy: 0.9812 - val_loss: 1.1997 - val_accuracy: 0.7507\n",
            "Epoch 7/10\n",
            "193/193 [==============================] - 3s 13ms/step - loss: 0.0401 - accuracy: 0.9822 - val_loss: 1.2664 - val_accuracy: 0.7478\n",
            "Epoch 8/10\n",
            "193/193 [==============================] - 2s 11ms/step - loss: 0.0387 - accuracy: 0.9826 - val_loss: 1.2717 - val_accuracy: 0.7536\n",
            "Epoch 9/10\n",
            "193/193 [==============================] - 2s 13ms/step - loss: 0.0376 - accuracy: 0.9820 - val_loss: 1.2970 - val_accuracy: 0.7580\n",
            "Epoch 10/10\n",
            "193/193 [==============================] - 2s 13ms/step - loss: 0.0362 - accuracy: 0.9828 - val_loss: 1.3298 - val_accuracy: 0.7536\n"
          ]
        },
        {
          "output_type": "execute_result",
          "data": {
            "text/plain": [
              "<keras.callbacks.History at 0x7f4da0178ac0>"
            ]
          },
          "metadata": {},
          "execution_count": 34
        }
      ]
    },
    {
      "cell_type": "code",
      "source": [
        "model_conv1.evaluate(valid_text, valid_labels)"
      ],
      "metadata": {
        "colab": {
          "base_uri": "https://localhost:8080/"
        },
        "id": "YNw6rAO8vMIE",
        "outputId": "8bafa3a1-bf04-4f9c-d9f1-dbd2ff50dfdd"
      },
      "execution_count": null,
      "outputs": [
        {
          "output_type": "stream",
          "name": "stdout",
          "text": [
            "24/24 [==============================] - 0s 4ms/step - loss: 1.4043 - accuracy: 0.7257\n"
          ]
        },
        {
          "output_type": "execute_result",
          "data": {
            "text/plain": [
              "[1.4042891263961792, 0.7257217764854431]"
            ]
          },
          "metadata": {},
          "execution_count": 35
        }
      ]
    },
    {
      "cell_type": "code",
      "source": [
        "preds = tf.squeeze(tf.round(model_conv1.predict(valid_text)))\n",
        "evaluation(valid_labels, preds)"
      ],
      "metadata": {
        "colab": {
          "base_uri": "https://localhost:8080/"
        },
        "id": "QXdI1eBzvTif",
        "outputId": "36f48e35-ad48-4825-c2e6-bbdfffc5fb01"
      },
      "execution_count": null,
      "outputs": [
        {
          "output_type": "stream",
          "name": "stdout",
          "text": [
            "24/24 [==============================] - 1s 13ms/step\n"
          ]
        },
        {
          "output_type": "execute_result",
          "data": {
            "text/plain": [
              "{'accuracy': 0.7257217847769029,\n",
              " 'f1': 0.6912850812407679,\n",
              " 'precision': 0.6862170087976539,\n",
              " 'recall': 0.6964285714285714}"
            ]
          },
          "metadata": {},
          "execution_count": 38
        }
      ]
    },
    {
      "cell_type": "markdown",
      "source": [
        "##tf hub feature extractor"
      ],
      "metadata": {
        "id": "63ZsLMe8v-zD"
      }
    },
    {
      "cell_type": "code",
      "source": [
        "import tensorflow_hub as hub\n",
        "\n",
        "url=\"https://tfhub.dev/google/universal-sentence-encoder/4\"\n",
        "embed = hub.load(url)"
      ],
      "metadata": {
        "id": "knXGYtcdwBZI"
      },
      "execution_count": null,
      "outputs": []
    },
    {
      "cell_type": "code",
      "source": [
        "sentence_encoder_layer = hub.KerasLayer(url,\n",
        "                                        input_shape=[],\n",
        "                                        dtype=tf.string,\n",
        "                                        trainable=False)"
      ],
      "metadata": {
        "colab": {
          "base_uri": "https://localhost:8080/"
        },
        "id": "MZi9WqLQyK7Y",
        "outputId": "c3643e82-cbea-4ac4-90f4-0d16fa354897"
      },
      "execution_count": null,
      "outputs": [
        {
          "output_type": "stream",
          "name": "stderr",
          "text": [
            "WARNING:tensorflow:Please fix your imports. Module tensorflow.python.training.tracking.data_structures has been moved to tensorflow.python.trackable.data_structures. The old module will be deleted in version 2.11.\n"
          ]
        }
      ]
    },
    {
      "cell_type": "code",
      "source": [
        "model_tl = tf.keras.Sequential([\n",
        "    sentence_encoder_layer,\n",
        "    layers.Dense(64, activation=\"relu\"),\n",
        "    layers.Dense(1, activation=\"sigmoid\")\n",
        "])\n",
        "\n",
        "model_tl.summary()"
      ],
      "metadata": {
        "colab": {
          "base_uri": "https://localhost:8080/"
        },
        "id": "2pndHk9Dyzgm",
        "outputId": "7aaad575-845b-4a9f-e057-b4a667e181c0"
      },
      "execution_count": null,
      "outputs": [
        {
          "output_type": "stream",
          "name": "stdout",
          "text": [
            "Model: \"sequential_5\"\n",
            "_________________________________________________________________\n",
            " Layer (type)                Output Shape              Param #   \n",
            "=================================================================\n",
            " keras_layer (KerasLayer)    (None, 512)               256797824 \n",
            "                                                                 \n",
            " dense_8 (Dense)             (None, 64)                32832     \n",
            "                                                                 \n",
            " dense_9 (Dense)             (None, 1)                 65        \n",
            "                                                                 \n",
            "=================================================================\n",
            "Total params: 256,830,721\n",
            "Trainable params: 32,897\n",
            "Non-trainable params: 256,797,824\n",
            "_________________________________________________________________\n"
          ]
        }
      ]
    },
    {
      "cell_type": "code",
      "source": [
        "model_tl.compile(loss=\"binary_crossentropy\",\n",
        "                 optimizer=\"adam\",\n",
        "                 metrics=[\"accuracy\"])\n",
        "\n",
        "model_tl.fit(train_text, train_labels, validation_split=0.1, epochs=10)"
      ],
      "metadata": {
        "colab": {
          "base_uri": "https://localhost:8080/"
        },
        "id": "Ii5C18-QzTSg",
        "outputId": "680dd34f-8018-489d-9616-dc1ec4ee472f"
      },
      "execution_count": null,
      "outputs": [
        {
          "output_type": "stream",
          "name": "stdout",
          "text": [
            "Epoch 1/10\n",
            "193/193 [==============================] - 5s 20ms/step - loss: 0.5173 - accuracy: 0.7844 - val_loss: 0.4402 - val_accuracy: 0.7974\n",
            "Epoch 2/10\n",
            "193/193 [==============================] - 2s 12ms/step - loss: 0.4197 - accuracy: 0.8125 - val_loss: 0.4249 - val_accuracy: 0.8163\n",
            "Epoch 3/10\n",
            "193/193 [==============================] - 2s 12ms/step - loss: 0.4038 - accuracy: 0.8227 - val_loss: 0.4242 - val_accuracy: 0.8149\n",
            "Epoch 4/10\n",
            "193/193 [==============================] - 2s 12ms/step - loss: 0.3946 - accuracy: 0.8274 - val_loss: 0.4223 - val_accuracy: 0.8192\n",
            "Epoch 5/10\n",
            "193/193 [==============================] - 2s 12ms/step - loss: 0.3868 - accuracy: 0.8315 - val_loss: 0.4234 - val_accuracy: 0.8236\n",
            "Epoch 6/10\n",
            "193/193 [==============================] - 3s 18ms/step - loss: 0.3802 - accuracy: 0.8334 - val_loss: 0.4243 - val_accuracy: 0.8251\n",
            "Epoch 7/10\n",
            "193/193 [==============================] - 2s 13ms/step - loss: 0.3739 - accuracy: 0.8373 - val_loss: 0.4243 - val_accuracy: 0.8265\n",
            "Epoch 8/10\n",
            "193/193 [==============================] - 2s 13ms/step - loss: 0.3672 - accuracy: 0.8402 - val_loss: 0.4280 - val_accuracy: 0.8265\n",
            "Epoch 9/10\n",
            "193/193 [==============================] - 2s 12ms/step - loss: 0.3610 - accuracy: 0.8428 - val_loss: 0.4311 - val_accuracy: 0.8178\n",
            "Epoch 10/10\n",
            "193/193 [==============================] - 3s 16ms/step - loss: 0.3550 - accuracy: 0.8444 - val_loss: 0.4320 - val_accuracy: 0.8222\n"
          ]
        },
        {
          "output_type": "execute_result",
          "data": {
            "text/plain": [
              "<keras.callbacks.History at 0x7f00ec38db50>"
            ]
          },
          "metadata": {},
          "execution_count": 34
        }
      ]
    },
    {
      "cell_type": "code",
      "source": [
        "model_tl.evaluate(valid_text, valid_labels)"
      ],
      "metadata": {
        "colab": {
          "base_uri": "https://localhost:8080/"
        },
        "id": "N-O4II2ZzmQ0",
        "outputId": "f0f10957-d743-4e6d-e758-f540f1afcc5c"
      },
      "execution_count": null,
      "outputs": [
        {
          "output_type": "stream",
          "name": "stdout",
          "text": [
            "24/24 [==============================] - 0s 11ms/step - loss: 0.4019 - accuracy: 0.8228\n"
          ]
        },
        {
          "output_type": "execute_result",
          "data": {
            "text/plain": [
              "[0.4019123315811157, 0.8228346705436707]"
            ]
          },
          "metadata": {},
          "execution_count": 44
        }
      ]
    },
    {
      "cell_type": "code",
      "source": [
        "preds = tf.squeeze(tf.round(model_tl.predict(valid_text)))\n",
        "evaluation(valid_labels, preds)"
      ],
      "metadata": {
        "colab": {
          "base_uri": "https://localhost:8080/"
        },
        "id": "35rZeMHpzsYg",
        "outputId": "0611be14-3a99-4e28-ddd6-04c20ee0d636"
      },
      "execution_count": null,
      "outputs": [
        {
          "output_type": "stream",
          "name": "stdout",
          "text": [
            "24/24 [==============================] - 1s 10ms/step\n"
          ]
        },
        {
          "output_type": "execute_result",
          "data": {
            "text/plain": [
              "{'accuracy': 0.8228346456692913,\n",
              " 'f1': 0.786053882725832,\n",
              " 'precision': 0.8406779661016949,\n",
              " 'recall': 0.7380952380952381}"
            ]
          },
          "metadata": {},
          "execution_count": 45
        }
      ]
    },
    {
      "cell_type": "markdown",
      "source": [
        "###10% data"
      ],
      "metadata": {
        "id": "t4S7FI1F3h3u"
      }
    },
    {
      "cell_type": "code",
      "source": [
        "train_10percent = train[[\"text\", \"target\"]].sample(frac=0.1, random_state=42)\n",
        "train_10percent"
      ],
      "metadata": {
        "colab": {
          "base_uri": "https://localhost:8080/",
          "height": 423
        },
        "id": "n-1vKxuy3kWP",
        "outputId": "0d1fa582-e8c0-4cc4-de55-49ea54267384"
      },
      "execution_count": null,
      "outputs": [
        {
          "output_type": "execute_result",
          "data": {
            "text/plain": [
              "                                                   text  target\n",
              "2644  So you have a new weapon that can cause un-ima...       1\n",
              "2227  The f$&amp;@ing things I do for #GISHWHES Just...       0\n",
              "5448  DT @georgegalloway: RT @Galloway4Mayor: ÛÏThe...       1\n",
              "132   Aftershock back to school kick off was great. ...       0\n",
              "6845  in response to trauma Children of Addicts deve...       0\n",
              "...                                                 ...     ...\n",
              "1153  Today is the day Hiroshima got Atomic bomb 70 ...       1\n",
              "1034               @Deeeznvtzzz bring the body bags tho       0\n",
              "3107  Fr cuz I risk being electrocuted every shower ...       0\n",
              "4379  RT NotExplained: The only known image of infam...       0\n",
              "2288  Read this already in '14 but it was and remain...       0\n",
              "\n",
              "[761 rows x 2 columns]"
            ],
            "text/html": [
              "\n",
              "  <div id=\"df-3f6c4481-4db9-4b7d-a62a-89c3ca3358da\">\n",
              "    <div class=\"colab-df-container\">\n",
              "      <div>\n",
              "<style scoped>\n",
              "    .dataframe tbody tr th:only-of-type {\n",
              "        vertical-align: middle;\n",
              "    }\n",
              "\n",
              "    .dataframe tbody tr th {\n",
              "        vertical-align: top;\n",
              "    }\n",
              "\n",
              "    .dataframe thead th {\n",
              "        text-align: right;\n",
              "    }\n",
              "</style>\n",
              "<table border=\"1\" class=\"dataframe\">\n",
              "  <thead>\n",
              "    <tr style=\"text-align: right;\">\n",
              "      <th></th>\n",
              "      <th>text</th>\n",
              "      <th>target</th>\n",
              "    </tr>\n",
              "  </thead>\n",
              "  <tbody>\n",
              "    <tr>\n",
              "      <th>2644</th>\n",
              "      <td>So you have a new weapon that can cause un-ima...</td>\n",
              "      <td>1</td>\n",
              "    </tr>\n",
              "    <tr>\n",
              "      <th>2227</th>\n",
              "      <td>The f$&amp;amp;@ing things I do for #GISHWHES Just...</td>\n",
              "      <td>0</td>\n",
              "    </tr>\n",
              "    <tr>\n",
              "      <th>5448</th>\n",
              "      <td>DT @georgegalloway: RT @Galloway4Mayor: ÛÏThe...</td>\n",
              "      <td>1</td>\n",
              "    </tr>\n",
              "    <tr>\n",
              "      <th>132</th>\n",
              "      <td>Aftershock back to school kick off was great. ...</td>\n",
              "      <td>0</td>\n",
              "    </tr>\n",
              "    <tr>\n",
              "      <th>6845</th>\n",
              "      <td>in response to trauma Children of Addicts deve...</td>\n",
              "      <td>0</td>\n",
              "    </tr>\n",
              "    <tr>\n",
              "      <th>...</th>\n",
              "      <td>...</td>\n",
              "      <td>...</td>\n",
              "    </tr>\n",
              "    <tr>\n",
              "      <th>1153</th>\n",
              "      <td>Today is the day Hiroshima got Atomic bomb 70 ...</td>\n",
              "      <td>1</td>\n",
              "    </tr>\n",
              "    <tr>\n",
              "      <th>1034</th>\n",
              "      <td>@Deeeznvtzzz bring the body bags tho</td>\n",
              "      <td>0</td>\n",
              "    </tr>\n",
              "    <tr>\n",
              "      <th>3107</th>\n",
              "      <td>Fr cuz I risk being electrocuted every shower ...</td>\n",
              "      <td>0</td>\n",
              "    </tr>\n",
              "    <tr>\n",
              "      <th>4379</th>\n",
              "      <td>RT NotExplained: The only known image of infam...</td>\n",
              "      <td>0</td>\n",
              "    </tr>\n",
              "    <tr>\n",
              "      <th>2288</th>\n",
              "      <td>Read this already in '14 but it was and remain...</td>\n",
              "      <td>0</td>\n",
              "    </tr>\n",
              "  </tbody>\n",
              "</table>\n",
              "<p>761 rows × 2 columns</p>\n",
              "</div>\n",
              "      <button class=\"colab-df-convert\" onclick=\"convertToInteractive('df-3f6c4481-4db9-4b7d-a62a-89c3ca3358da')\"\n",
              "              title=\"Convert this dataframe to an interactive table.\"\n",
              "              style=\"display:none;\">\n",
              "        \n",
              "  <svg xmlns=\"http://www.w3.org/2000/svg\" height=\"24px\"viewBox=\"0 0 24 24\"\n",
              "       width=\"24px\">\n",
              "    <path d=\"M0 0h24v24H0V0z\" fill=\"none\"/>\n",
              "    <path d=\"M18.56 5.44l.94 2.06.94-2.06 2.06-.94-2.06-.94-.94-2.06-.94 2.06-2.06.94zm-11 1L8.5 8.5l.94-2.06 2.06-.94-2.06-.94L8.5 2.5l-.94 2.06-2.06.94zm10 10l.94 2.06.94-2.06 2.06-.94-2.06-.94-.94-2.06-.94 2.06-2.06.94z\"/><path d=\"M17.41 7.96l-1.37-1.37c-.4-.4-.92-.59-1.43-.59-.52 0-1.04.2-1.43.59L10.3 9.45l-7.72 7.72c-.78.78-.78 2.05 0 2.83L4 21.41c.39.39.9.59 1.41.59.51 0 1.02-.2 1.41-.59l7.78-7.78 2.81-2.81c.8-.78.8-2.07 0-2.86zM5.41 20L4 18.59l7.72-7.72 1.47 1.35L5.41 20z\"/>\n",
              "  </svg>\n",
              "      </button>\n",
              "      \n",
              "  <style>\n",
              "    .colab-df-container {\n",
              "      display:flex;\n",
              "      flex-wrap:wrap;\n",
              "      gap: 12px;\n",
              "    }\n",
              "\n",
              "    .colab-df-convert {\n",
              "      background-color: #E8F0FE;\n",
              "      border: none;\n",
              "      border-radius: 50%;\n",
              "      cursor: pointer;\n",
              "      display: none;\n",
              "      fill: #1967D2;\n",
              "      height: 32px;\n",
              "      padding: 0 0 0 0;\n",
              "      width: 32px;\n",
              "    }\n",
              "\n",
              "    .colab-df-convert:hover {\n",
              "      background-color: #E2EBFA;\n",
              "      box-shadow: 0px 1px 2px rgba(60, 64, 67, 0.3), 0px 1px 3px 1px rgba(60, 64, 67, 0.15);\n",
              "      fill: #174EA6;\n",
              "    }\n",
              "\n",
              "    [theme=dark] .colab-df-convert {\n",
              "      background-color: #3B4455;\n",
              "      fill: #D2E3FC;\n",
              "    }\n",
              "\n",
              "    [theme=dark] .colab-df-convert:hover {\n",
              "      background-color: #434B5C;\n",
              "      box-shadow: 0px 1px 3px 1px rgba(0, 0, 0, 0.15);\n",
              "      filter: drop-shadow(0px 1px 2px rgba(0, 0, 0, 0.3));\n",
              "      fill: #FFFFFF;\n",
              "    }\n",
              "  </style>\n",
              "\n",
              "      <script>\n",
              "        const buttonEl =\n",
              "          document.querySelector('#df-3f6c4481-4db9-4b7d-a62a-89c3ca3358da button.colab-df-convert');\n",
              "        buttonEl.style.display =\n",
              "          google.colab.kernel.accessAllowed ? 'block' : 'none';\n",
              "\n",
              "        async function convertToInteractive(key) {\n",
              "          const element = document.querySelector('#df-3f6c4481-4db9-4b7d-a62a-89c3ca3358da');\n",
              "          const dataTable =\n",
              "            await google.colab.kernel.invokeFunction('convertToInteractive',\n",
              "                                                     [key], {});\n",
              "          if (!dataTable) return;\n",
              "\n",
              "          const docLinkHtml = 'Like what you see? Visit the ' +\n",
              "            '<a target=\"_blank\" href=https://colab.research.google.com/notebooks/data_table.ipynb>data table notebook</a>'\n",
              "            + ' to learn more about interactive tables.';\n",
              "          element.innerHTML = '';\n",
              "          dataTable['output_type'] = 'display_data';\n",
              "          await google.colab.output.renderOutput(dataTable, element);\n",
              "          const docLink = document.createElement('div');\n",
              "          docLink.innerHTML = docLinkHtml;\n",
              "          element.appendChild(docLink);\n",
              "        }\n",
              "      </script>\n",
              "    </div>\n",
              "  </div>\n",
              "  "
            ]
          },
          "metadata": {},
          "execution_count": 17
        }
      ]
    },
    {
      "cell_type": "code",
      "source": [
        "train_10_text = train_10percent[\"text\"]\n",
        "train_10_labels = train_10percent[\"target\"]"
      ],
      "metadata": {
        "id": "TvWD_sGl4V1D"
      },
      "execution_count": null,
      "outputs": []
    },
    {
      "cell_type": "code",
      "source": [
        "import tensorflow as tf\n",
        "from tensorflow.keras import layers\n",
        "\n",
        "model_tl2 = tf.keras.Sequential([\n",
        "    sentence_encoder_layer,\n",
        "    layers.Dense(64, activation=\"relu\"),\n",
        "    layers.Dropout(0.2),\n",
        "    layers.Dense(1, activation=\"sigmoid\")\n",
        "])\n",
        "\n",
        "model_tl2.compile(loss=\"binary_crossentropy\",\n",
        "                  optimizer=\"adam\",\n",
        "                  metrics=[\"accuracy\"])\n",
        "\n",
        "model_tl2.fit(train_10_text, train_10_labels,\n",
        "              validation_data=(valid_text, valid_labels),\n",
        "              epochs=10)"
      ],
      "metadata": {
        "colab": {
          "base_uri": "https://localhost:8080/"
        },
        "id": "P3ftsb1q5Zv1",
        "outputId": "2d7f00bc-8312-4ed0-bff5-fd59774ff88e"
      },
      "execution_count": null,
      "outputs": [
        {
          "output_type": "stream",
          "name": "stdout",
          "text": [
            "Epoch 1/10\n",
            "24/24 [==============================] - 4s 47ms/step - loss: 0.6743 - accuracy: 0.6649 - val_loss: 0.6405 - val_accuracy: 0.8005\n",
            "Epoch 2/10\n",
            "24/24 [==============================] - 1s 23ms/step - loss: 0.6096 - accuracy: 0.8003 - val_loss: 0.5682 - val_accuracy: 0.8136\n",
            "Epoch 3/10\n",
            "24/24 [==============================] - 1s 22ms/step - loss: 0.5391 - accuracy: 0.8068 - val_loss: 0.4953 - val_accuracy: 0.8110\n",
            "Epoch 4/10\n",
            "24/24 [==============================] - 1s 22ms/step - loss: 0.4751 - accuracy: 0.8108 - val_loss: 0.4425 - val_accuracy: 0.8255\n",
            "Epoch 5/10\n",
            "24/24 [==============================] - 1s 25ms/step - loss: 0.4344 - accuracy: 0.8252 - val_loss: 0.4076 - val_accuracy: 0.8386\n",
            "Epoch 6/10\n",
            "24/24 [==============================] - 1s 36ms/step - loss: 0.4052 - accuracy: 0.8331 - val_loss: 0.3820 - val_accuracy: 0.8451\n",
            "Epoch 7/10\n",
            "24/24 [==============================] - 1s 48ms/step - loss: 0.3778 - accuracy: 0.8463 - val_loss: 0.3616 - val_accuracy: 0.8491\n",
            "Epoch 8/10\n",
            "24/24 [==============================] - 1s 26ms/step - loss: 0.3614 - accuracy: 0.8502 - val_loss: 0.3451 - val_accuracy: 0.8570\n",
            "Epoch 9/10\n",
            "24/24 [==============================] - 1s 23ms/step - loss: 0.3439 - accuracy: 0.8528 - val_loss: 0.3311 - val_accuracy: 0.8609\n",
            "Epoch 10/10\n",
            "24/24 [==============================] - 1s 26ms/step - loss: 0.3352 - accuracy: 0.8633 - val_loss: 0.3193 - val_accuracy: 0.8714\n"
          ]
        },
        {
          "output_type": "execute_result",
          "data": {
            "text/plain": [
              "<keras.callbacks.History at 0x7f00ff7e6100>"
            ]
          },
          "metadata": {},
          "execution_count": 25
        }
      ]
    },
    {
      "cell_type": "markdown",
      "source": [
        "data leakage problem ..."
      ],
      "metadata": {
        "id": "5zq0dinD7id3"
      }
    },
    {
      "cell_type": "code",
      "source": [
        "preds = tf.squeeze(tf.round(model_tl2.predict(valid_text)))\n",
        "evaluation(valid_labels, preds)"
      ],
      "metadata": {
        "colab": {
          "base_uri": "https://localhost:8080/"
        },
        "id": "QitqnzS56Hxm",
        "outputId": "cf494bea-7dd4-4fee-ddaf-0eea946ff13a"
      },
      "execution_count": null,
      "outputs": [
        {
          "output_type": "stream",
          "name": "stdout",
          "text": [
            "24/24 [==============================] - 1s 9ms/step\n"
          ]
        },
        {
          "output_type": "execute_result",
          "data": {
            "text/plain": [
              "{'accuracy': 0.8713910761154856,\n",
              " 'f1': 0.852852852852853,\n",
              " 'precision': 0.8606060606060606,\n",
              " 'recall': 0.8452380952380952}"
            ]
          },
          "metadata": {},
          "execution_count": 26
        }
      ]
    },
    {
      "cell_type": "code",
      "source": [
        "train_10_text2 = pd.DataFrame(train_text).sample(frac=0.1)\n",
        "train_10_labels2 = pd.DataFrame(train_labels).sample(frac=0.1)"
      ],
      "metadata": {
        "id": "ngSKn4V-7uyQ"
      },
      "execution_count": null,
      "outputs": []
    },
    {
      "cell_type": "code",
      "source": [
        "model_tl3 = tf.keras.Sequential([\n",
        "    sentence_encoder_layer,\n",
        "    # layers.Dense(64, activation=\"relu\"),\n",
        "    # layers.Dropout(0.2),\n",
        "    layers.Dense(1, activation=\"sigmoid\")\n",
        "])\n",
        "model_tl3.compile(loss=\"binary_crossentropy\",\n",
        "                  optimizer=\"adam\",\n",
        "                  metrics=[\"accuracy\"])\n",
        "model_tl3.fit(train_10_text2, train_10_labels2,\n",
        "              validation_data=(valid_text, valid_labels),\n",
        "              epochs=20)"
      ],
      "metadata": {
        "colab": {
          "base_uri": "https://localhost:8080/"
        },
        "id": "GZ34G_no8Ihg",
        "outputId": "00a83831-c0df-464a-c4ad-3cafc518d039"
      },
      "execution_count": null,
      "outputs": [
        {
          "output_type": "stream",
          "name": "stdout",
          "text": [
            "Epoch 1/20\n",
            "22/22 [==============================] - 3s 52ms/step - loss: 0.6945 - accuracy: 0.4876 - val_loss: 0.6981 - val_accuracy: 0.4383\n",
            "Epoch 2/20\n",
            "22/22 [==============================] - 1s 27ms/step - loss: 0.6890 - accuracy: 0.5489 - val_loss: 0.6963 - val_accuracy: 0.5039\n",
            "Epoch 3/20\n",
            "22/22 [==============================] - 1s 27ms/step - loss: 0.6850 - accuracy: 0.5650 - val_loss: 0.6945 - val_accuracy: 0.5289\n",
            "Epoch 4/20\n",
            "22/22 [==============================] - 1s 27ms/step - loss: 0.6816 - accuracy: 0.5766 - val_loss: 0.6931 - val_accuracy: 0.5459\n",
            "Epoch 5/20\n",
            "22/22 [==============================] - 1s 23ms/step - loss: 0.6785 - accuracy: 0.5912 - val_loss: 0.6918 - val_accuracy: 0.5551\n",
            "Epoch 6/20\n",
            "22/22 [==============================] - 1s 26ms/step - loss: 0.6759 - accuracy: 0.5912 - val_loss: 0.6908 - val_accuracy: 0.5538\n",
            "Epoch 7/20\n",
            "22/22 [==============================] - 1s 26ms/step - loss: 0.6737 - accuracy: 0.5898 - val_loss: 0.6902 - val_accuracy: 0.5551\n",
            "Epoch 8/20\n",
            "22/22 [==============================] - 1s 23ms/step - loss: 0.6716 - accuracy: 0.5912 - val_loss: 0.6889 - val_accuracy: 0.5577\n",
            "Epoch 9/20\n",
            "22/22 [==============================] - 1s 24ms/step - loss: 0.6698 - accuracy: 0.5912 - val_loss: 0.6883 - val_accuracy: 0.5577\n",
            "Epoch 10/20\n",
            "22/22 [==============================] - 0s 23ms/step - loss: 0.6680 - accuracy: 0.5912 - val_loss: 0.6868 - val_accuracy: 0.5604\n",
            "Epoch 11/20\n",
            "22/22 [==============================] - 1s 23ms/step - loss: 0.6664 - accuracy: 0.5912 - val_loss: 0.6863 - val_accuracy: 0.5617\n",
            "Epoch 12/20\n",
            "22/22 [==============================] - 0s 23ms/step - loss: 0.6648 - accuracy: 0.5912 - val_loss: 0.6855 - val_accuracy: 0.5617\n",
            "Epoch 13/20\n",
            "22/22 [==============================] - 1s 26ms/step - loss: 0.6634 - accuracy: 0.5927 - val_loss: 0.6848 - val_accuracy: 0.5617\n",
            "Epoch 14/20\n",
            "22/22 [==============================] - 0s 22ms/step - loss: 0.6619 - accuracy: 0.5927 - val_loss: 0.6832 - val_accuracy: 0.5617\n",
            "Epoch 15/20\n",
            "22/22 [==============================] - 1s 49ms/step - loss: 0.6604 - accuracy: 0.5927 - val_loss: 0.6827 - val_accuracy: 0.5617\n",
            "Epoch 16/20\n",
            "22/22 [==============================] - 1s 38ms/step - loss: 0.6591 - accuracy: 0.5971 - val_loss: 0.6814 - val_accuracy: 0.5617\n",
            "Epoch 17/20\n",
            "22/22 [==============================] - 1s 32ms/step - loss: 0.6579 - accuracy: 0.5971 - val_loss: 0.6808 - val_accuracy: 0.5604\n",
            "Epoch 18/20\n",
            "22/22 [==============================] - 1s 26ms/step - loss: 0.6566 - accuracy: 0.5985 - val_loss: 0.6791 - val_accuracy: 0.5604\n",
            "Epoch 19/20\n",
            "22/22 [==============================] - 0s 23ms/step - loss: 0.6553 - accuracy: 0.6000 - val_loss: 0.6787 - val_accuracy: 0.5617\n",
            "Epoch 20/20\n",
            "22/22 [==============================] - 1s 26ms/step - loss: 0.6540 - accuracy: 0.6015 - val_loss: 0.6780 - val_accuracy: 0.5604\n"
          ]
        },
        {
          "output_type": "execute_result",
          "data": {
            "text/plain": [
              "<keras.callbacks.History at 0x7f00e00fb5b0>"
            ]
          },
          "metadata": {},
          "execution_count": 32
        }
      ]
    },
    {
      "cell_type": "markdown",
      "source": [
        "##Finding wrong predictions"
      ],
      "metadata": {
        "id": "Qn5bmzWrCa6i"
      }
    },
    {
      "cell_type": "code",
      "source": [
        "probs = tf.squeeze(model_tl.predict(valid_text))\n",
        "preds = tf.round(probs)\n",
        "val_df = pd.DataFrame({\"text\": valid_text,\n",
        "                       \"target\":valid_labels,\n",
        "                       \"probs\":probs,\n",
        "                       \"prediction\":preds})\n",
        "\n",
        "val_df"
      ],
      "metadata": {
        "colab": {
          "base_uri": "https://localhost:8080/",
          "height": 485
        },
        "id": "z2BuaLePByCB",
        "outputId": "ce8f364f-7f7d-45e1-d08d-bd76a553cc46"
      },
      "execution_count": null,
      "outputs": [
        {
          "output_type": "stream",
          "name": "stdout",
          "text": [
            "24/24 [==============================] - 0s 14ms/step\n"
          ]
        },
        {
          "output_type": "execute_result",
          "data": {
            "text/plain": [
              "                                                  text  target     probs  \\\n",
              "0    So you have a new weapon that can cause un-ima...       1  0.081558   \n",
              "1    The f$&amp;@ing things I do for #GISHWHES Just...       0  0.067107   \n",
              "2    DT @georgegalloway: RT @Galloway4Mayor: ÛÏThe...       1  0.511115   \n",
              "3    Aftershock back to school kick off was great. ...       0  0.161729   \n",
              "4    in response to trauma Children of Addicts deve...       0  0.308383   \n",
              "..                                                 ...     ...       ...   \n",
              "757               @Deeeznvtzzz bring the body bags tho       0  0.071297   \n",
              "758  Fr cuz I risk being electrocuted every shower ...       0  0.155424   \n",
              "759  RT NotExplained: The only known image of infam...       0  0.410349   \n",
              "760  Read this already in '14 but it was and remain...       0  0.120279   \n",
              "761       @chojo everyone hail to the pumpkin king!!!!       0  0.292991   \n",
              "\n",
              "     prediction  \n",
              "0           0.0  \n",
              "1           0.0  \n",
              "2           1.0  \n",
              "3           0.0  \n",
              "4           0.0  \n",
              "..          ...  \n",
              "757         0.0  \n",
              "758         0.0  \n",
              "759         0.0  \n",
              "760         0.0  \n",
              "761         0.0  \n",
              "\n",
              "[762 rows x 4 columns]"
            ],
            "text/html": [
              "\n",
              "  <div id=\"df-f89e6db8-b68d-4ce0-8e99-87405560eedb\">\n",
              "    <div class=\"colab-df-container\">\n",
              "      <div>\n",
              "<style scoped>\n",
              "    .dataframe tbody tr th:only-of-type {\n",
              "        vertical-align: middle;\n",
              "    }\n",
              "\n",
              "    .dataframe tbody tr th {\n",
              "        vertical-align: top;\n",
              "    }\n",
              "\n",
              "    .dataframe thead th {\n",
              "        text-align: right;\n",
              "    }\n",
              "</style>\n",
              "<table border=\"1\" class=\"dataframe\">\n",
              "  <thead>\n",
              "    <tr style=\"text-align: right;\">\n",
              "      <th></th>\n",
              "      <th>text</th>\n",
              "      <th>target</th>\n",
              "      <th>probs</th>\n",
              "      <th>prediction</th>\n",
              "    </tr>\n",
              "  </thead>\n",
              "  <tbody>\n",
              "    <tr>\n",
              "      <th>0</th>\n",
              "      <td>So you have a new weapon that can cause un-ima...</td>\n",
              "      <td>1</td>\n",
              "      <td>0.081558</td>\n",
              "      <td>0.0</td>\n",
              "    </tr>\n",
              "    <tr>\n",
              "      <th>1</th>\n",
              "      <td>The f$&amp;amp;@ing things I do for #GISHWHES Just...</td>\n",
              "      <td>0</td>\n",
              "      <td>0.067107</td>\n",
              "      <td>0.0</td>\n",
              "    </tr>\n",
              "    <tr>\n",
              "      <th>2</th>\n",
              "      <td>DT @georgegalloway: RT @Galloway4Mayor: ÛÏThe...</td>\n",
              "      <td>1</td>\n",
              "      <td>0.511115</td>\n",
              "      <td>1.0</td>\n",
              "    </tr>\n",
              "    <tr>\n",
              "      <th>3</th>\n",
              "      <td>Aftershock back to school kick off was great. ...</td>\n",
              "      <td>0</td>\n",
              "      <td>0.161729</td>\n",
              "      <td>0.0</td>\n",
              "    </tr>\n",
              "    <tr>\n",
              "      <th>4</th>\n",
              "      <td>in response to trauma Children of Addicts deve...</td>\n",
              "      <td>0</td>\n",
              "      <td>0.308383</td>\n",
              "      <td>0.0</td>\n",
              "    </tr>\n",
              "    <tr>\n",
              "      <th>...</th>\n",
              "      <td>...</td>\n",
              "      <td>...</td>\n",
              "      <td>...</td>\n",
              "      <td>...</td>\n",
              "    </tr>\n",
              "    <tr>\n",
              "      <th>757</th>\n",
              "      <td>@Deeeznvtzzz bring the body bags tho</td>\n",
              "      <td>0</td>\n",
              "      <td>0.071297</td>\n",
              "      <td>0.0</td>\n",
              "    </tr>\n",
              "    <tr>\n",
              "      <th>758</th>\n",
              "      <td>Fr cuz I risk being electrocuted every shower ...</td>\n",
              "      <td>0</td>\n",
              "      <td>0.155424</td>\n",
              "      <td>0.0</td>\n",
              "    </tr>\n",
              "    <tr>\n",
              "      <th>759</th>\n",
              "      <td>RT NotExplained: The only known image of infam...</td>\n",
              "      <td>0</td>\n",
              "      <td>0.410349</td>\n",
              "      <td>0.0</td>\n",
              "    </tr>\n",
              "    <tr>\n",
              "      <th>760</th>\n",
              "      <td>Read this already in '14 but it was and remain...</td>\n",
              "      <td>0</td>\n",
              "      <td>0.120279</td>\n",
              "      <td>0.0</td>\n",
              "    </tr>\n",
              "    <tr>\n",
              "      <th>761</th>\n",
              "      <td>@chojo everyone hail to the pumpkin king!!!!</td>\n",
              "      <td>0</td>\n",
              "      <td>0.292991</td>\n",
              "      <td>0.0</td>\n",
              "    </tr>\n",
              "  </tbody>\n",
              "</table>\n",
              "<p>762 rows × 4 columns</p>\n",
              "</div>\n",
              "      <button class=\"colab-df-convert\" onclick=\"convertToInteractive('df-f89e6db8-b68d-4ce0-8e99-87405560eedb')\"\n",
              "              title=\"Convert this dataframe to an interactive table.\"\n",
              "              style=\"display:none;\">\n",
              "        \n",
              "  <svg xmlns=\"http://www.w3.org/2000/svg\" height=\"24px\"viewBox=\"0 0 24 24\"\n",
              "       width=\"24px\">\n",
              "    <path d=\"M0 0h24v24H0V0z\" fill=\"none\"/>\n",
              "    <path d=\"M18.56 5.44l.94 2.06.94-2.06 2.06-.94-2.06-.94-.94-2.06-.94 2.06-2.06.94zm-11 1L8.5 8.5l.94-2.06 2.06-.94-2.06-.94L8.5 2.5l-.94 2.06-2.06.94zm10 10l.94 2.06.94-2.06 2.06-.94-2.06-.94-.94-2.06-.94 2.06-2.06.94z\"/><path d=\"M17.41 7.96l-1.37-1.37c-.4-.4-.92-.59-1.43-.59-.52 0-1.04.2-1.43.59L10.3 9.45l-7.72 7.72c-.78.78-.78 2.05 0 2.83L4 21.41c.39.39.9.59 1.41.59.51 0 1.02-.2 1.41-.59l7.78-7.78 2.81-2.81c.8-.78.8-2.07 0-2.86zM5.41 20L4 18.59l7.72-7.72 1.47 1.35L5.41 20z\"/>\n",
              "  </svg>\n",
              "      </button>\n",
              "      \n",
              "  <style>\n",
              "    .colab-df-container {\n",
              "      display:flex;\n",
              "      flex-wrap:wrap;\n",
              "      gap: 12px;\n",
              "    }\n",
              "\n",
              "    .colab-df-convert {\n",
              "      background-color: #E8F0FE;\n",
              "      border: none;\n",
              "      border-radius: 50%;\n",
              "      cursor: pointer;\n",
              "      display: none;\n",
              "      fill: #1967D2;\n",
              "      height: 32px;\n",
              "      padding: 0 0 0 0;\n",
              "      width: 32px;\n",
              "    }\n",
              "\n",
              "    .colab-df-convert:hover {\n",
              "      background-color: #E2EBFA;\n",
              "      box-shadow: 0px 1px 2px rgba(60, 64, 67, 0.3), 0px 1px 3px 1px rgba(60, 64, 67, 0.15);\n",
              "      fill: #174EA6;\n",
              "    }\n",
              "\n",
              "    [theme=dark] .colab-df-convert {\n",
              "      background-color: #3B4455;\n",
              "      fill: #D2E3FC;\n",
              "    }\n",
              "\n",
              "    [theme=dark] .colab-df-convert:hover {\n",
              "      background-color: #434B5C;\n",
              "      box-shadow: 0px 1px 3px 1px rgba(0, 0, 0, 0.15);\n",
              "      filter: drop-shadow(0px 1px 2px rgba(0, 0, 0, 0.3));\n",
              "      fill: #FFFFFF;\n",
              "    }\n",
              "  </style>\n",
              "\n",
              "      <script>\n",
              "        const buttonEl =\n",
              "          document.querySelector('#df-f89e6db8-b68d-4ce0-8e99-87405560eedb button.colab-df-convert');\n",
              "        buttonEl.style.display =\n",
              "          google.colab.kernel.accessAllowed ? 'block' : 'none';\n",
              "\n",
              "        async function convertToInteractive(key) {\n",
              "          const element = document.querySelector('#df-f89e6db8-b68d-4ce0-8e99-87405560eedb');\n",
              "          const dataTable =\n",
              "            await google.colab.kernel.invokeFunction('convertToInteractive',\n",
              "                                                     [key], {});\n",
              "          if (!dataTable) return;\n",
              "\n",
              "          const docLinkHtml = 'Like what you see? Visit the ' +\n",
              "            '<a target=\"_blank\" href=https://colab.research.google.com/notebooks/data_table.ipynb>data table notebook</a>'\n",
              "            + ' to learn more about interactive tables.';\n",
              "          element.innerHTML = '';\n",
              "          dataTable['output_type'] = 'display_data';\n",
              "          await google.colab.output.renderOutput(dataTable, element);\n",
              "          const docLink = document.createElement('div');\n",
              "          docLink.innerHTML = docLinkHtml;\n",
              "          element.appendChild(docLink);\n",
              "        }\n",
              "      </script>\n",
              "    </div>\n",
              "  </div>\n",
              "  "
            ]
          },
          "metadata": {},
          "execution_count": 38
        }
      ]
    },
    {
      "cell_type": "code",
      "source": [
        "val_df[\"correctness\"] = (val_df[\"target\"]==val_df[\"prediction\"])\n",
        "val_df"
      ],
      "metadata": {
        "colab": {
          "base_uri": "https://localhost:8080/",
          "height": 623
        },
        "id": "LsUITCcADcEL",
        "outputId": "d996a0c1-b940-4176-9fdf-66cb45c588c2"
      },
      "execution_count": null,
      "outputs": [
        {
          "output_type": "execute_result",
          "data": {
            "text/plain": [
              "                                                  text  target     probs  \\\n",
              "0    So you have a new weapon that can cause un-ima...       1  0.081558   \n",
              "1    The f$&amp;@ing things I do for #GISHWHES Just...       0  0.067107   \n",
              "2    DT @georgegalloway: RT @Galloway4Mayor: ÛÏThe...       1  0.511115   \n",
              "3    Aftershock back to school kick off was great. ...       0  0.161729   \n",
              "4    in response to trauma Children of Addicts deve...       0  0.308383   \n",
              "..                                                 ...     ...       ...   \n",
              "757               @Deeeznvtzzz bring the body bags tho       0  0.071297   \n",
              "758  Fr cuz I risk being electrocuted every shower ...       0  0.155424   \n",
              "759  RT NotExplained: The only known image of infam...       0  0.410349   \n",
              "760  Read this already in '14 but it was and remain...       0  0.120279   \n",
              "761       @chojo everyone hail to the pumpkin king!!!!       0  0.292991   \n",
              "\n",
              "     prediction  correctness  \n",
              "0           0.0        False  \n",
              "1           0.0         True  \n",
              "2           1.0         True  \n",
              "3           0.0         True  \n",
              "4           0.0         True  \n",
              "..          ...          ...  \n",
              "757         0.0         True  \n",
              "758         0.0         True  \n",
              "759         0.0         True  \n",
              "760         0.0         True  \n",
              "761         0.0         True  \n",
              "\n",
              "[762 rows x 5 columns]"
            ],
            "text/html": [
              "\n",
              "  <div id=\"df-08e33a4a-3b38-449a-b9e5-a3f61448c1a0\">\n",
              "    <div class=\"colab-df-container\">\n",
              "      <div>\n",
              "<style scoped>\n",
              "    .dataframe tbody tr th:only-of-type {\n",
              "        vertical-align: middle;\n",
              "    }\n",
              "\n",
              "    .dataframe tbody tr th {\n",
              "        vertical-align: top;\n",
              "    }\n",
              "\n",
              "    .dataframe thead th {\n",
              "        text-align: right;\n",
              "    }\n",
              "</style>\n",
              "<table border=\"1\" class=\"dataframe\">\n",
              "  <thead>\n",
              "    <tr style=\"text-align: right;\">\n",
              "      <th></th>\n",
              "      <th>text</th>\n",
              "      <th>target</th>\n",
              "      <th>probs</th>\n",
              "      <th>prediction</th>\n",
              "      <th>correctness</th>\n",
              "    </tr>\n",
              "  </thead>\n",
              "  <tbody>\n",
              "    <tr>\n",
              "      <th>0</th>\n",
              "      <td>So you have a new weapon that can cause un-ima...</td>\n",
              "      <td>1</td>\n",
              "      <td>0.081558</td>\n",
              "      <td>0.0</td>\n",
              "      <td>False</td>\n",
              "    </tr>\n",
              "    <tr>\n",
              "      <th>1</th>\n",
              "      <td>The f$&amp;amp;@ing things I do for #GISHWHES Just...</td>\n",
              "      <td>0</td>\n",
              "      <td>0.067107</td>\n",
              "      <td>0.0</td>\n",
              "      <td>True</td>\n",
              "    </tr>\n",
              "    <tr>\n",
              "      <th>2</th>\n",
              "      <td>DT @georgegalloway: RT @Galloway4Mayor: ÛÏThe...</td>\n",
              "      <td>1</td>\n",
              "      <td>0.511115</td>\n",
              "      <td>1.0</td>\n",
              "      <td>True</td>\n",
              "    </tr>\n",
              "    <tr>\n",
              "      <th>3</th>\n",
              "      <td>Aftershock back to school kick off was great. ...</td>\n",
              "      <td>0</td>\n",
              "      <td>0.161729</td>\n",
              "      <td>0.0</td>\n",
              "      <td>True</td>\n",
              "    </tr>\n",
              "    <tr>\n",
              "      <th>4</th>\n",
              "      <td>in response to trauma Children of Addicts deve...</td>\n",
              "      <td>0</td>\n",
              "      <td>0.308383</td>\n",
              "      <td>0.0</td>\n",
              "      <td>True</td>\n",
              "    </tr>\n",
              "    <tr>\n",
              "      <th>...</th>\n",
              "      <td>...</td>\n",
              "      <td>...</td>\n",
              "      <td>...</td>\n",
              "      <td>...</td>\n",
              "      <td>...</td>\n",
              "    </tr>\n",
              "    <tr>\n",
              "      <th>757</th>\n",
              "      <td>@Deeeznvtzzz bring the body bags tho</td>\n",
              "      <td>0</td>\n",
              "      <td>0.071297</td>\n",
              "      <td>0.0</td>\n",
              "      <td>True</td>\n",
              "    </tr>\n",
              "    <tr>\n",
              "      <th>758</th>\n",
              "      <td>Fr cuz I risk being electrocuted every shower ...</td>\n",
              "      <td>0</td>\n",
              "      <td>0.155424</td>\n",
              "      <td>0.0</td>\n",
              "      <td>True</td>\n",
              "    </tr>\n",
              "    <tr>\n",
              "      <th>759</th>\n",
              "      <td>RT NotExplained: The only known image of infam...</td>\n",
              "      <td>0</td>\n",
              "      <td>0.410349</td>\n",
              "      <td>0.0</td>\n",
              "      <td>True</td>\n",
              "    </tr>\n",
              "    <tr>\n",
              "      <th>760</th>\n",
              "      <td>Read this already in '14 but it was and remain...</td>\n",
              "      <td>0</td>\n",
              "      <td>0.120279</td>\n",
              "      <td>0.0</td>\n",
              "      <td>True</td>\n",
              "    </tr>\n",
              "    <tr>\n",
              "      <th>761</th>\n",
              "      <td>@chojo everyone hail to the pumpkin king!!!!</td>\n",
              "      <td>0</td>\n",
              "      <td>0.292991</td>\n",
              "      <td>0.0</td>\n",
              "      <td>True</td>\n",
              "    </tr>\n",
              "  </tbody>\n",
              "</table>\n",
              "<p>762 rows × 5 columns</p>\n",
              "</div>\n",
              "      <button class=\"colab-df-convert\" onclick=\"convertToInteractive('df-08e33a4a-3b38-449a-b9e5-a3f61448c1a0')\"\n",
              "              title=\"Convert this dataframe to an interactive table.\"\n",
              "              style=\"display:none;\">\n",
              "        \n",
              "  <svg xmlns=\"http://www.w3.org/2000/svg\" height=\"24px\"viewBox=\"0 0 24 24\"\n",
              "       width=\"24px\">\n",
              "    <path d=\"M0 0h24v24H0V0z\" fill=\"none\"/>\n",
              "    <path d=\"M18.56 5.44l.94 2.06.94-2.06 2.06-.94-2.06-.94-.94-2.06-.94 2.06-2.06.94zm-11 1L8.5 8.5l.94-2.06 2.06-.94-2.06-.94L8.5 2.5l-.94 2.06-2.06.94zm10 10l.94 2.06.94-2.06 2.06-.94-2.06-.94-.94-2.06-.94 2.06-2.06.94z\"/><path d=\"M17.41 7.96l-1.37-1.37c-.4-.4-.92-.59-1.43-.59-.52 0-1.04.2-1.43.59L10.3 9.45l-7.72 7.72c-.78.78-.78 2.05 0 2.83L4 21.41c.39.39.9.59 1.41.59.51 0 1.02-.2 1.41-.59l7.78-7.78 2.81-2.81c.8-.78.8-2.07 0-2.86zM5.41 20L4 18.59l7.72-7.72 1.47 1.35L5.41 20z\"/>\n",
              "  </svg>\n",
              "      </button>\n",
              "      \n",
              "  <style>\n",
              "    .colab-df-container {\n",
              "      display:flex;\n",
              "      flex-wrap:wrap;\n",
              "      gap: 12px;\n",
              "    }\n",
              "\n",
              "    .colab-df-convert {\n",
              "      background-color: #E8F0FE;\n",
              "      border: none;\n",
              "      border-radius: 50%;\n",
              "      cursor: pointer;\n",
              "      display: none;\n",
              "      fill: #1967D2;\n",
              "      height: 32px;\n",
              "      padding: 0 0 0 0;\n",
              "      width: 32px;\n",
              "    }\n",
              "\n",
              "    .colab-df-convert:hover {\n",
              "      background-color: #E2EBFA;\n",
              "      box-shadow: 0px 1px 2px rgba(60, 64, 67, 0.3), 0px 1px 3px 1px rgba(60, 64, 67, 0.15);\n",
              "      fill: #174EA6;\n",
              "    }\n",
              "\n",
              "    [theme=dark] .colab-df-convert {\n",
              "      background-color: #3B4455;\n",
              "      fill: #D2E3FC;\n",
              "    }\n",
              "\n",
              "    [theme=dark] .colab-df-convert:hover {\n",
              "      background-color: #434B5C;\n",
              "      box-shadow: 0px 1px 3px 1px rgba(0, 0, 0, 0.15);\n",
              "      filter: drop-shadow(0px 1px 2px rgba(0, 0, 0, 0.3));\n",
              "      fill: #FFFFFF;\n",
              "    }\n",
              "  </style>\n",
              "\n",
              "      <script>\n",
              "        const buttonEl =\n",
              "          document.querySelector('#df-08e33a4a-3b38-449a-b9e5-a3f61448c1a0 button.colab-df-convert');\n",
              "        buttonEl.style.display =\n",
              "          google.colab.kernel.accessAllowed ? 'block' : 'none';\n",
              "\n",
              "        async function convertToInteractive(key) {\n",
              "          const element = document.querySelector('#df-08e33a4a-3b38-449a-b9e5-a3f61448c1a0');\n",
              "          const dataTable =\n",
              "            await google.colab.kernel.invokeFunction('convertToInteractive',\n",
              "                                                     [key], {});\n",
              "          if (!dataTable) return;\n",
              "\n",
              "          const docLinkHtml = 'Like what you see? Visit the ' +\n",
              "            '<a target=\"_blank\" href=https://colab.research.google.com/notebooks/data_table.ipynb>data table notebook</a>'\n",
              "            + ' to learn more about interactive tables.';\n",
              "          element.innerHTML = '';\n",
              "          dataTable['output_type'] = 'display_data';\n",
              "          await google.colab.output.renderOutput(dataTable, element);\n",
              "          const docLink = document.createElement('div');\n",
              "          docLink.innerHTML = docLinkHtml;\n",
              "          element.appendChild(docLink);\n",
              "        }\n",
              "      </script>\n",
              "    </div>\n",
              "  </div>\n",
              "  "
            ]
          },
          "metadata": {},
          "execution_count": 39
        }
      ]
    },
    {
      "cell_type": "code",
      "source": [
        "fp = val_df[val_df[\"correctness\"]==False].sort_values(\"probs\", ascending=False).head(10)\n",
        "fp"
      ],
      "metadata": {
        "colab": {
          "base_uri": "https://localhost:8080/",
          "height": 580
        },
        "id": "zlsHoWcwDrQZ",
        "outputId": "6bc0015a-19d0-46d7-9e5d-a0c0738ae2fe"
      },
      "execution_count": null,
      "outputs": [
        {
          "output_type": "execute_result",
          "data": {
            "text/plain": [
              "                                                  text  target     probs  \\\n",
              "656  Russian customs destroyed a total of 319 tons ...       0  0.982656   \n",
              "158  Over half of poll respondents worry nuclear di...       0  0.964279   \n",
              "608  USW: 'The damage from abandoning the deal coul...       0  0.955624   \n",
              "428  HereÛªs how media in Pakistan covered the cap...       0  0.922767   \n",
              "384  @FoxNewsInsider All Obama is doing is giving a...       0  0.906937   \n",
              "688  Upheaval high note for bush opera http://t.co/...       0  0.897514   \n",
              "455  I hate this damn Milwaukee IndyFest. All the c...       0  0.894666   \n",
              "458  Today was trauma on top of trauma on top of  t...       0  0.889181   \n",
              "163  Putin's plan to destroy Western food en masse ...       0  0.875192   \n",
              "704  RT '@NASASolarSystem: Jupiter's Red Spot is a ...       0  0.872328   \n",
              "\n",
              "     prediction  correctness  \n",
              "656         1.0        False  \n",
              "158         1.0        False  \n",
              "608         1.0        False  \n",
              "428         1.0        False  \n",
              "384         1.0        False  \n",
              "688         1.0        False  \n",
              "455         1.0        False  \n",
              "458         1.0        False  \n",
              "163         1.0        False  \n",
              "704         1.0        False  "
            ],
            "text/html": [
              "\n",
              "  <div id=\"df-5c918597-3b9a-4390-8c76-d7bd51e0303c\">\n",
              "    <div class=\"colab-df-container\">\n",
              "      <div>\n",
              "<style scoped>\n",
              "    .dataframe tbody tr th:only-of-type {\n",
              "        vertical-align: middle;\n",
              "    }\n",
              "\n",
              "    .dataframe tbody tr th {\n",
              "        vertical-align: top;\n",
              "    }\n",
              "\n",
              "    .dataframe thead th {\n",
              "        text-align: right;\n",
              "    }\n",
              "</style>\n",
              "<table border=\"1\" class=\"dataframe\">\n",
              "  <thead>\n",
              "    <tr style=\"text-align: right;\">\n",
              "      <th></th>\n",
              "      <th>text</th>\n",
              "      <th>target</th>\n",
              "      <th>probs</th>\n",
              "      <th>prediction</th>\n",
              "      <th>correctness</th>\n",
              "    </tr>\n",
              "  </thead>\n",
              "  <tbody>\n",
              "    <tr>\n",
              "      <th>656</th>\n",
              "      <td>Russian customs destroyed a total of 319 tons ...</td>\n",
              "      <td>0</td>\n",
              "      <td>0.982656</td>\n",
              "      <td>1.0</td>\n",
              "      <td>False</td>\n",
              "    </tr>\n",
              "    <tr>\n",
              "      <th>158</th>\n",
              "      <td>Over half of poll respondents worry nuclear di...</td>\n",
              "      <td>0</td>\n",
              "      <td>0.964279</td>\n",
              "      <td>1.0</td>\n",
              "      <td>False</td>\n",
              "    </tr>\n",
              "    <tr>\n",
              "      <th>608</th>\n",
              "      <td>USW: 'The damage from abandoning the deal coul...</td>\n",
              "      <td>0</td>\n",
              "      <td>0.955624</td>\n",
              "      <td>1.0</td>\n",
              "      <td>False</td>\n",
              "    </tr>\n",
              "    <tr>\n",
              "      <th>428</th>\n",
              "      <td>HereÛªs how media in Pakistan covered the cap...</td>\n",
              "      <td>0</td>\n",
              "      <td>0.922767</td>\n",
              "      <td>1.0</td>\n",
              "      <td>False</td>\n",
              "    </tr>\n",
              "    <tr>\n",
              "      <th>384</th>\n",
              "      <td>@FoxNewsInsider All Obama is doing is giving a...</td>\n",
              "      <td>0</td>\n",
              "      <td>0.906937</td>\n",
              "      <td>1.0</td>\n",
              "      <td>False</td>\n",
              "    </tr>\n",
              "    <tr>\n",
              "      <th>688</th>\n",
              "      <td>Upheaval high note for bush opera http://t.co/...</td>\n",
              "      <td>0</td>\n",
              "      <td>0.897514</td>\n",
              "      <td>1.0</td>\n",
              "      <td>False</td>\n",
              "    </tr>\n",
              "    <tr>\n",
              "      <th>455</th>\n",
              "      <td>I hate this damn Milwaukee IndyFest. All the c...</td>\n",
              "      <td>0</td>\n",
              "      <td>0.894666</td>\n",
              "      <td>1.0</td>\n",
              "      <td>False</td>\n",
              "    </tr>\n",
              "    <tr>\n",
              "      <th>458</th>\n",
              "      <td>Today was trauma on top of trauma on top of  t...</td>\n",
              "      <td>0</td>\n",
              "      <td>0.889181</td>\n",
              "      <td>1.0</td>\n",
              "      <td>False</td>\n",
              "    </tr>\n",
              "    <tr>\n",
              "      <th>163</th>\n",
              "      <td>Putin's plan to destroy Western food en masse ...</td>\n",
              "      <td>0</td>\n",
              "      <td>0.875192</td>\n",
              "      <td>1.0</td>\n",
              "      <td>False</td>\n",
              "    </tr>\n",
              "    <tr>\n",
              "      <th>704</th>\n",
              "      <td>RT '@NASASolarSystem: Jupiter's Red Spot is a ...</td>\n",
              "      <td>0</td>\n",
              "      <td>0.872328</td>\n",
              "      <td>1.0</td>\n",
              "      <td>False</td>\n",
              "    </tr>\n",
              "  </tbody>\n",
              "</table>\n",
              "</div>\n",
              "      <button class=\"colab-df-convert\" onclick=\"convertToInteractive('df-5c918597-3b9a-4390-8c76-d7bd51e0303c')\"\n",
              "              title=\"Convert this dataframe to an interactive table.\"\n",
              "              style=\"display:none;\">\n",
              "        \n",
              "  <svg xmlns=\"http://www.w3.org/2000/svg\" height=\"24px\"viewBox=\"0 0 24 24\"\n",
              "       width=\"24px\">\n",
              "    <path d=\"M0 0h24v24H0V0z\" fill=\"none\"/>\n",
              "    <path d=\"M18.56 5.44l.94 2.06.94-2.06 2.06-.94-2.06-.94-.94-2.06-.94 2.06-2.06.94zm-11 1L8.5 8.5l.94-2.06 2.06-.94-2.06-.94L8.5 2.5l-.94 2.06-2.06.94zm10 10l.94 2.06.94-2.06 2.06-.94-2.06-.94-.94-2.06-.94 2.06-2.06.94z\"/><path d=\"M17.41 7.96l-1.37-1.37c-.4-.4-.92-.59-1.43-.59-.52 0-1.04.2-1.43.59L10.3 9.45l-7.72 7.72c-.78.78-.78 2.05 0 2.83L4 21.41c.39.39.9.59 1.41.59.51 0 1.02-.2 1.41-.59l7.78-7.78 2.81-2.81c.8-.78.8-2.07 0-2.86zM5.41 20L4 18.59l7.72-7.72 1.47 1.35L5.41 20z\"/>\n",
              "  </svg>\n",
              "      </button>\n",
              "      \n",
              "  <style>\n",
              "    .colab-df-container {\n",
              "      display:flex;\n",
              "      flex-wrap:wrap;\n",
              "      gap: 12px;\n",
              "    }\n",
              "\n",
              "    .colab-df-convert {\n",
              "      background-color: #E8F0FE;\n",
              "      border: none;\n",
              "      border-radius: 50%;\n",
              "      cursor: pointer;\n",
              "      display: none;\n",
              "      fill: #1967D2;\n",
              "      height: 32px;\n",
              "      padding: 0 0 0 0;\n",
              "      width: 32px;\n",
              "    }\n",
              "\n",
              "    .colab-df-convert:hover {\n",
              "      background-color: #E2EBFA;\n",
              "      box-shadow: 0px 1px 2px rgba(60, 64, 67, 0.3), 0px 1px 3px 1px rgba(60, 64, 67, 0.15);\n",
              "      fill: #174EA6;\n",
              "    }\n",
              "\n",
              "    [theme=dark] .colab-df-convert {\n",
              "      background-color: #3B4455;\n",
              "      fill: #D2E3FC;\n",
              "    }\n",
              "\n",
              "    [theme=dark] .colab-df-convert:hover {\n",
              "      background-color: #434B5C;\n",
              "      box-shadow: 0px 1px 3px 1px rgba(0, 0, 0, 0.15);\n",
              "      filter: drop-shadow(0px 1px 2px rgba(0, 0, 0, 0.3));\n",
              "      fill: #FFFFFF;\n",
              "    }\n",
              "  </style>\n",
              "\n",
              "      <script>\n",
              "        const buttonEl =\n",
              "          document.querySelector('#df-5c918597-3b9a-4390-8c76-d7bd51e0303c button.colab-df-convert');\n",
              "        buttonEl.style.display =\n",
              "          google.colab.kernel.accessAllowed ? 'block' : 'none';\n",
              "\n",
              "        async function convertToInteractive(key) {\n",
              "          const element = document.querySelector('#df-5c918597-3b9a-4390-8c76-d7bd51e0303c');\n",
              "          const dataTable =\n",
              "            await google.colab.kernel.invokeFunction('convertToInteractive',\n",
              "                                                     [key], {});\n",
              "          if (!dataTable) return;\n",
              "\n",
              "          const docLinkHtml = 'Like what you see? Visit the ' +\n",
              "            '<a target=\"_blank\" href=https://colab.research.google.com/notebooks/data_table.ipynb>data table notebook</a>'\n",
              "            + ' to learn more about interactive tables.';\n",
              "          element.innerHTML = '';\n",
              "          dataTable['output_type'] = 'display_data';\n",
              "          await google.colab.output.renderOutput(dataTable, element);\n",
              "          const docLink = document.createElement('div');\n",
              "          docLink.innerHTML = docLinkHtml;\n",
              "          element.appendChild(docLink);\n",
              "        }\n",
              "      </script>\n",
              "    </div>\n",
              "  </div>\n",
              "  "
            ]
          },
          "metadata": {},
          "execution_count": 45
        }
      ]
    },
    {
      "cell_type": "code",
      "source": [
        "fn = val_df[val_df[\"correctness\"]==False].sort_values(\"probs\", ascending=True).head(10)\n",
        "fn"
      ],
      "metadata": {
        "colab": {
          "base_uri": "https://localhost:8080/",
          "height": 580
        },
        "id": "sH23gSxUESq4",
        "outputId": "9b76e1dd-21e0-43ef-bf55-bb5d611e2297"
      },
      "execution_count": null,
      "outputs": [
        {
          "output_type": "execute_result",
          "data": {
            "text/plain": [
              "                                                  text  target     probs  \\\n",
              "498  Businesses are deluged with invoices. Make you...       1  0.023028   \n",
              "345  burned 129 calories doing 24 minutes of Walkin...       1  0.026382   \n",
              "593  all that panicking made me tired ;__; i want t...       1  0.033068   \n",
              "187  Even if u have your weapon and your badge we g...       1  0.053592   \n",
              "599  Reddit's new content policy goes into effect m...       1  0.054613   \n",
              "516  Hellfire is surrounded by desires so be carefu...       1  0.057821   \n",
              "584  Reddit Will Now Quarantine Offensive Content h...       1  0.058818   \n",
              "159  Me watching Law &amp; Order (IB: @sauldale305)...       1  0.059646   \n",
              "7    @brianroemmele UX fail of EMV - people want to...       1  0.059930   \n",
              "292  @Kirafrog @mount_wario Did you get wrecked again?       1  0.067952   \n",
              "\n",
              "     prediction  correctness  \n",
              "498         0.0        False  \n",
              "345         0.0        False  \n",
              "593         0.0        False  \n",
              "187         0.0        False  \n",
              "599         0.0        False  \n",
              "516         0.0        False  \n",
              "584         0.0        False  \n",
              "159         0.0        False  \n",
              "7           0.0        False  \n",
              "292         0.0        False  "
            ],
            "text/html": [
              "\n",
              "  <div id=\"df-eae8b2fa-462a-4958-ae50-d60ed9398d52\">\n",
              "    <div class=\"colab-df-container\">\n",
              "      <div>\n",
              "<style scoped>\n",
              "    .dataframe tbody tr th:only-of-type {\n",
              "        vertical-align: middle;\n",
              "    }\n",
              "\n",
              "    .dataframe tbody tr th {\n",
              "        vertical-align: top;\n",
              "    }\n",
              "\n",
              "    .dataframe thead th {\n",
              "        text-align: right;\n",
              "    }\n",
              "</style>\n",
              "<table border=\"1\" class=\"dataframe\">\n",
              "  <thead>\n",
              "    <tr style=\"text-align: right;\">\n",
              "      <th></th>\n",
              "      <th>text</th>\n",
              "      <th>target</th>\n",
              "      <th>probs</th>\n",
              "      <th>prediction</th>\n",
              "      <th>correctness</th>\n",
              "    </tr>\n",
              "  </thead>\n",
              "  <tbody>\n",
              "    <tr>\n",
              "      <th>498</th>\n",
              "      <td>Businesses are deluged with invoices. Make you...</td>\n",
              "      <td>1</td>\n",
              "      <td>0.023028</td>\n",
              "      <td>0.0</td>\n",
              "      <td>False</td>\n",
              "    </tr>\n",
              "    <tr>\n",
              "      <th>345</th>\n",
              "      <td>burned 129 calories doing 24 minutes of Walkin...</td>\n",
              "      <td>1</td>\n",
              "      <td>0.026382</td>\n",
              "      <td>0.0</td>\n",
              "      <td>False</td>\n",
              "    </tr>\n",
              "    <tr>\n",
              "      <th>593</th>\n",
              "      <td>all that panicking made me tired ;__; i want t...</td>\n",
              "      <td>1</td>\n",
              "      <td>0.033068</td>\n",
              "      <td>0.0</td>\n",
              "      <td>False</td>\n",
              "    </tr>\n",
              "    <tr>\n",
              "      <th>187</th>\n",
              "      <td>Even if u have your weapon and your badge we g...</td>\n",
              "      <td>1</td>\n",
              "      <td>0.053592</td>\n",
              "      <td>0.0</td>\n",
              "      <td>False</td>\n",
              "    </tr>\n",
              "    <tr>\n",
              "      <th>599</th>\n",
              "      <td>Reddit's new content policy goes into effect m...</td>\n",
              "      <td>1</td>\n",
              "      <td>0.054613</td>\n",
              "      <td>0.0</td>\n",
              "      <td>False</td>\n",
              "    </tr>\n",
              "    <tr>\n",
              "      <th>516</th>\n",
              "      <td>Hellfire is surrounded by desires so be carefu...</td>\n",
              "      <td>1</td>\n",
              "      <td>0.057821</td>\n",
              "      <td>0.0</td>\n",
              "      <td>False</td>\n",
              "    </tr>\n",
              "    <tr>\n",
              "      <th>584</th>\n",
              "      <td>Reddit Will Now Quarantine Offensive Content h...</td>\n",
              "      <td>1</td>\n",
              "      <td>0.058818</td>\n",
              "      <td>0.0</td>\n",
              "      <td>False</td>\n",
              "    </tr>\n",
              "    <tr>\n",
              "      <th>159</th>\n",
              "      <td>Me watching Law &amp;amp; Order (IB: @sauldale305)...</td>\n",
              "      <td>1</td>\n",
              "      <td>0.059646</td>\n",
              "      <td>0.0</td>\n",
              "      <td>False</td>\n",
              "    </tr>\n",
              "    <tr>\n",
              "      <th>7</th>\n",
              "      <td>@brianroemmele UX fail of EMV - people want to...</td>\n",
              "      <td>1</td>\n",
              "      <td>0.059930</td>\n",
              "      <td>0.0</td>\n",
              "      <td>False</td>\n",
              "    </tr>\n",
              "    <tr>\n",
              "      <th>292</th>\n",
              "      <td>@Kirafrog @mount_wario Did you get wrecked again?</td>\n",
              "      <td>1</td>\n",
              "      <td>0.067952</td>\n",
              "      <td>0.0</td>\n",
              "      <td>False</td>\n",
              "    </tr>\n",
              "  </tbody>\n",
              "</table>\n",
              "</div>\n",
              "      <button class=\"colab-df-convert\" onclick=\"convertToInteractive('df-eae8b2fa-462a-4958-ae50-d60ed9398d52')\"\n",
              "              title=\"Convert this dataframe to an interactive table.\"\n",
              "              style=\"display:none;\">\n",
              "        \n",
              "  <svg xmlns=\"http://www.w3.org/2000/svg\" height=\"24px\"viewBox=\"0 0 24 24\"\n",
              "       width=\"24px\">\n",
              "    <path d=\"M0 0h24v24H0V0z\" fill=\"none\"/>\n",
              "    <path d=\"M18.56 5.44l.94 2.06.94-2.06 2.06-.94-2.06-.94-.94-2.06-.94 2.06-2.06.94zm-11 1L8.5 8.5l.94-2.06 2.06-.94-2.06-.94L8.5 2.5l-.94 2.06-2.06.94zm10 10l.94 2.06.94-2.06 2.06-.94-2.06-.94-.94-2.06-.94 2.06-2.06.94z\"/><path d=\"M17.41 7.96l-1.37-1.37c-.4-.4-.92-.59-1.43-.59-.52 0-1.04.2-1.43.59L10.3 9.45l-7.72 7.72c-.78.78-.78 2.05 0 2.83L4 21.41c.39.39.9.59 1.41.59.51 0 1.02-.2 1.41-.59l7.78-7.78 2.81-2.81c.8-.78.8-2.07 0-2.86zM5.41 20L4 18.59l7.72-7.72 1.47 1.35L5.41 20z\"/>\n",
              "  </svg>\n",
              "      </button>\n",
              "      \n",
              "  <style>\n",
              "    .colab-df-container {\n",
              "      display:flex;\n",
              "      flex-wrap:wrap;\n",
              "      gap: 12px;\n",
              "    }\n",
              "\n",
              "    .colab-df-convert {\n",
              "      background-color: #E8F0FE;\n",
              "      border: none;\n",
              "      border-radius: 50%;\n",
              "      cursor: pointer;\n",
              "      display: none;\n",
              "      fill: #1967D2;\n",
              "      height: 32px;\n",
              "      padding: 0 0 0 0;\n",
              "      width: 32px;\n",
              "    }\n",
              "\n",
              "    .colab-df-convert:hover {\n",
              "      background-color: #E2EBFA;\n",
              "      box-shadow: 0px 1px 2px rgba(60, 64, 67, 0.3), 0px 1px 3px 1px rgba(60, 64, 67, 0.15);\n",
              "      fill: #174EA6;\n",
              "    }\n",
              "\n",
              "    [theme=dark] .colab-df-convert {\n",
              "      background-color: #3B4455;\n",
              "      fill: #D2E3FC;\n",
              "    }\n",
              "\n",
              "    [theme=dark] .colab-df-convert:hover {\n",
              "      background-color: #434B5C;\n",
              "      box-shadow: 0px 1px 3px 1px rgba(0, 0, 0, 0.15);\n",
              "      filter: drop-shadow(0px 1px 2px rgba(0, 0, 0, 0.3));\n",
              "      fill: #FFFFFF;\n",
              "    }\n",
              "  </style>\n",
              "\n",
              "      <script>\n",
              "        const buttonEl =\n",
              "          document.querySelector('#df-eae8b2fa-462a-4958-ae50-d60ed9398d52 button.colab-df-convert');\n",
              "        buttonEl.style.display =\n",
              "          google.colab.kernel.accessAllowed ? 'block' : 'none';\n",
              "\n",
              "        async function convertToInteractive(key) {\n",
              "          const element = document.querySelector('#df-eae8b2fa-462a-4958-ae50-d60ed9398d52');\n",
              "          const dataTable =\n",
              "            await google.colab.kernel.invokeFunction('convertToInteractive',\n",
              "                                                     [key], {});\n",
              "          if (!dataTable) return;\n",
              "\n",
              "          const docLinkHtml = 'Like what you see? Visit the ' +\n",
              "            '<a target=\"_blank\" href=https://colab.research.google.com/notebooks/data_table.ipynb>data table notebook</a>'\n",
              "            + ' to learn more about interactive tables.';\n",
              "          element.innerHTML = '';\n",
              "          dataTable['output_type'] = 'display_data';\n",
              "          await google.colab.output.renderOutput(dataTable, element);\n",
              "          const docLink = document.createElement('div');\n",
              "          docLink.innerHTML = docLinkHtml;\n",
              "          element.appendChild(docLink);\n",
              "        }\n",
              "      </script>\n",
              "    </div>\n",
              "  </div>\n",
              "  "
            ]
          },
          "metadata": {},
          "execution_count": 44
        }
      ]
    },
    {
      "cell_type": "code",
      "source": [
        "for row in fp.itertuples():\n",
        "  _,text, target, prob, pred, _ = row\n",
        "  print(f\"target: {target}, pred: {pred}, prob:{prob}\\n\\n\")\n",
        "  print(text, \"\\n\\n\")"
      ],
      "metadata": {
        "colab": {
          "base_uri": "https://localhost:8080/"
        },
        "id": "K5ZCl-aFFdvp",
        "outputId": "4950bca0-ba06-4364-d6bc-acc1d20d92ba"
      },
      "execution_count": null,
      "outputs": [
        {
          "output_type": "stream",
          "name": "stdout",
          "text": [
            "target: 0, pred: 1.0, prob:0.9826558828353882\n",
            "\n",
            "\n",
            "Russian customs destroyed a total of 319 tons of food today phew! Some Italian meats were burned in an incinerator in Pulkovo airport. \n",
            "\n",
            "\n",
            "target: 0, pred: 1.0, prob:0.964278519153595\n",
            "\n",
            "\n",
            "Over half of poll respondents worry nuclear disaster fading from public consciousness http://t.co/YtnnnD631z ##fukushima \n",
            "\n",
            "\n",
            "target: 0, pred: 1.0, prob:0.9556236863136292\n",
            "\n",
            "\n",
            "USW: 'The damage from abandoning the deal could well create a new level of uncertainty...economic upheaval &amp; military unrest' \n",
            "\n",
            "\n",
            "target: 0, pred: 1.0, prob:0.9227669835090637\n",
            "\n",
            "\n",
            "HereÛªs how media in Pakistan covered the capture of terrorist Mohammed Naved http://t.co/f7WqpCEkg2 \n",
            "\n",
            "\n",
            "target: 0, pred: 1.0, prob:0.9069372415542603\n",
            "\n",
            "\n",
            "@FoxNewsInsider All Obama is doing is giving a false time schedule on Iran testing there first bomb      Bomb = Nuclear Suicide Vest \n",
            "\n",
            "\n",
            "target: 0, pred: 1.0, prob:0.8975135087966919\n",
            "\n",
            "\n",
            "Upheaval high note for bush opera http://t.co/aWPU0gaE0b #Sydney #News #Aus \n",
            "\n",
            "\n",
            "target: 0, pred: 1.0, prob:0.894666314125061\n",
            "\n",
            "\n",
            "I hate this damn Milwaukee IndyFest. All the cars sound like a really long tornado siren going off and it woke me up from my nap \n",
            "\n",
            "\n",
            "target: 0, pred: 1.0, prob:0.8891807198524475\n",
            "\n",
            "\n",
            "Today was trauma on top of trauma on top of  trauma in Richmond so I know work is going to be crazy the next two days \n",
            "\n",
            "\n",
            "target: 0, pred: 1.0, prob:0.8751922845840454\n",
            "\n",
            "\n",
            "Putin's plan to destroy Western food en masse is causing a huge public backlash http://t.co/FAJbxz5kar \n",
            "\n",
            "\n",
            "target: 0, pred: 1.0, prob:0.8723276257514954\n",
            "\n",
            "\n",
            "RT '@NASASolarSystem: Jupiter's Red Spot is a violent storm larger than the entire Earth: http://t.co/i0Tvl15CoZ http://t.co/IgtXhapO0K \n",
            "\n",
            "\n"
          ]
        }
      ]
    },
    {
      "cell_type": "markdown",
      "source": [
        "##test data"
      ],
      "metadata": {
        "id": "8nHq6kvuG06U"
      }
    },
    {
      "cell_type": "code",
      "source": [
        "probs = tf.squeeze(model_tl.predict(test[\"text\"].to_list()))\n",
        "preds = tf.round(probs)\n",
        "test_df = pd.DataFrame({\"text\": test[\"text\"],\n",
        "                       \"probs\":probs,\n",
        "                       \"prediction\":preds})\n",
        "\n",
        "test_df"
      ],
      "metadata": {
        "colab": {
          "base_uri": "https://localhost:8080/",
          "height": 502
        },
        "id": "divvokLAG2OK",
        "outputId": "93ebcdc3-e682-4151-d4ae-5aee8f903dfe"
      },
      "execution_count": null,
      "outputs": [
        {
          "output_type": "stream",
          "name": "stdout",
          "text": [
            "102/102 [==============================] - 2s 18ms/step\n"
          ]
        },
        {
          "output_type": "execute_result",
          "data": {
            "text/plain": [
              "                                                   text     probs  prediction\n",
              "0                    Just happened a terrible car crash  0.672186         1.0\n",
              "1     Heard about #earthquake is different cities, s...  0.932818         1.0\n",
              "2     there is a forest fire at spot pond, geese are...  0.848824         1.0\n",
              "3              Apocalypse lighting. #Spokane #wildfires  0.964886         1.0\n",
              "4         Typhoon Soudelor kills 28 in China and Taiwan  0.982368         1.0\n",
              "...                                                 ...       ...         ...\n",
              "3258  EARTHQUAKE SAFETY LOS ANGELES ÛÒ SAFETY FASTE...  0.911789         1.0\n",
              "3259  Storm in RI worse than last hurricane. My city...  0.989187         1.0\n",
              "3260  Green Line derailment in Chicago http://t.co/U...  0.945420         1.0\n",
              "3261  MEG issues Hazardous Weather Outlook (HWO) htt...  0.741356         1.0\n",
              "3262  #CityofCalgary has activated its Municipal Eme...  0.700333         1.0\n",
              "\n",
              "[3263 rows x 3 columns]"
            ],
            "text/html": [
              "\n",
              "  <div id=\"df-a8ecccbd-d25b-40bb-8775-8b0e9307e8da\">\n",
              "    <div class=\"colab-df-container\">\n",
              "      <div>\n",
              "<style scoped>\n",
              "    .dataframe tbody tr th:only-of-type {\n",
              "        vertical-align: middle;\n",
              "    }\n",
              "\n",
              "    .dataframe tbody tr th {\n",
              "        vertical-align: top;\n",
              "    }\n",
              "\n",
              "    .dataframe thead th {\n",
              "        text-align: right;\n",
              "    }\n",
              "</style>\n",
              "<table border=\"1\" class=\"dataframe\">\n",
              "  <thead>\n",
              "    <tr style=\"text-align: right;\">\n",
              "      <th></th>\n",
              "      <th>text</th>\n",
              "      <th>probs</th>\n",
              "      <th>prediction</th>\n",
              "    </tr>\n",
              "  </thead>\n",
              "  <tbody>\n",
              "    <tr>\n",
              "      <th>0</th>\n",
              "      <td>Just happened a terrible car crash</td>\n",
              "      <td>0.672186</td>\n",
              "      <td>1.0</td>\n",
              "    </tr>\n",
              "    <tr>\n",
              "      <th>1</th>\n",
              "      <td>Heard about #earthquake is different cities, s...</td>\n",
              "      <td>0.932818</td>\n",
              "      <td>1.0</td>\n",
              "    </tr>\n",
              "    <tr>\n",
              "      <th>2</th>\n",
              "      <td>there is a forest fire at spot pond, geese are...</td>\n",
              "      <td>0.848824</td>\n",
              "      <td>1.0</td>\n",
              "    </tr>\n",
              "    <tr>\n",
              "      <th>3</th>\n",
              "      <td>Apocalypse lighting. #Spokane #wildfires</td>\n",
              "      <td>0.964886</td>\n",
              "      <td>1.0</td>\n",
              "    </tr>\n",
              "    <tr>\n",
              "      <th>4</th>\n",
              "      <td>Typhoon Soudelor kills 28 in China and Taiwan</td>\n",
              "      <td>0.982368</td>\n",
              "      <td>1.0</td>\n",
              "    </tr>\n",
              "    <tr>\n",
              "      <th>...</th>\n",
              "      <td>...</td>\n",
              "      <td>...</td>\n",
              "      <td>...</td>\n",
              "    </tr>\n",
              "    <tr>\n",
              "      <th>3258</th>\n",
              "      <td>EARTHQUAKE SAFETY LOS ANGELES ÛÒ SAFETY FASTE...</td>\n",
              "      <td>0.911789</td>\n",
              "      <td>1.0</td>\n",
              "    </tr>\n",
              "    <tr>\n",
              "      <th>3259</th>\n",
              "      <td>Storm in RI worse than last hurricane. My city...</td>\n",
              "      <td>0.989187</td>\n",
              "      <td>1.0</td>\n",
              "    </tr>\n",
              "    <tr>\n",
              "      <th>3260</th>\n",
              "      <td>Green Line derailment in Chicago http://t.co/U...</td>\n",
              "      <td>0.945420</td>\n",
              "      <td>1.0</td>\n",
              "    </tr>\n",
              "    <tr>\n",
              "      <th>3261</th>\n",
              "      <td>MEG issues Hazardous Weather Outlook (HWO) htt...</td>\n",
              "      <td>0.741356</td>\n",
              "      <td>1.0</td>\n",
              "    </tr>\n",
              "    <tr>\n",
              "      <th>3262</th>\n",
              "      <td>#CityofCalgary has activated its Municipal Eme...</td>\n",
              "      <td>0.700333</td>\n",
              "      <td>1.0</td>\n",
              "    </tr>\n",
              "  </tbody>\n",
              "</table>\n",
              "<p>3263 rows × 3 columns</p>\n",
              "</div>\n",
              "      <button class=\"colab-df-convert\" onclick=\"convertToInteractive('df-a8ecccbd-d25b-40bb-8775-8b0e9307e8da')\"\n",
              "              title=\"Convert this dataframe to an interactive table.\"\n",
              "              style=\"display:none;\">\n",
              "        \n",
              "  <svg xmlns=\"http://www.w3.org/2000/svg\" height=\"24px\"viewBox=\"0 0 24 24\"\n",
              "       width=\"24px\">\n",
              "    <path d=\"M0 0h24v24H0V0z\" fill=\"none\"/>\n",
              "    <path d=\"M18.56 5.44l.94 2.06.94-2.06 2.06-.94-2.06-.94-.94-2.06-.94 2.06-2.06.94zm-11 1L8.5 8.5l.94-2.06 2.06-.94-2.06-.94L8.5 2.5l-.94 2.06-2.06.94zm10 10l.94 2.06.94-2.06 2.06-.94-2.06-.94-.94-2.06-.94 2.06-2.06.94z\"/><path d=\"M17.41 7.96l-1.37-1.37c-.4-.4-.92-.59-1.43-.59-.52 0-1.04.2-1.43.59L10.3 9.45l-7.72 7.72c-.78.78-.78 2.05 0 2.83L4 21.41c.39.39.9.59 1.41.59.51 0 1.02-.2 1.41-.59l7.78-7.78 2.81-2.81c.8-.78.8-2.07 0-2.86zM5.41 20L4 18.59l7.72-7.72 1.47 1.35L5.41 20z\"/>\n",
              "  </svg>\n",
              "      </button>\n",
              "      \n",
              "  <style>\n",
              "    .colab-df-container {\n",
              "      display:flex;\n",
              "      flex-wrap:wrap;\n",
              "      gap: 12px;\n",
              "    }\n",
              "\n",
              "    .colab-df-convert {\n",
              "      background-color: #E8F0FE;\n",
              "      border: none;\n",
              "      border-radius: 50%;\n",
              "      cursor: pointer;\n",
              "      display: none;\n",
              "      fill: #1967D2;\n",
              "      height: 32px;\n",
              "      padding: 0 0 0 0;\n",
              "      width: 32px;\n",
              "    }\n",
              "\n",
              "    .colab-df-convert:hover {\n",
              "      background-color: #E2EBFA;\n",
              "      box-shadow: 0px 1px 2px rgba(60, 64, 67, 0.3), 0px 1px 3px 1px rgba(60, 64, 67, 0.15);\n",
              "      fill: #174EA6;\n",
              "    }\n",
              "\n",
              "    [theme=dark] .colab-df-convert {\n",
              "      background-color: #3B4455;\n",
              "      fill: #D2E3FC;\n",
              "    }\n",
              "\n",
              "    [theme=dark] .colab-df-convert:hover {\n",
              "      background-color: #434B5C;\n",
              "      box-shadow: 0px 1px 3px 1px rgba(0, 0, 0, 0.15);\n",
              "      filter: drop-shadow(0px 1px 2px rgba(0, 0, 0, 0.3));\n",
              "      fill: #FFFFFF;\n",
              "    }\n",
              "  </style>\n",
              "\n",
              "      <script>\n",
              "        const buttonEl =\n",
              "          document.querySelector('#df-a8ecccbd-d25b-40bb-8775-8b0e9307e8da button.colab-df-convert');\n",
              "        buttonEl.style.display =\n",
              "          google.colab.kernel.accessAllowed ? 'block' : 'none';\n",
              "\n",
              "        async function convertToInteractive(key) {\n",
              "          const element = document.querySelector('#df-a8ecccbd-d25b-40bb-8775-8b0e9307e8da');\n",
              "          const dataTable =\n",
              "            await google.colab.kernel.invokeFunction('convertToInteractive',\n",
              "                                                     [key], {});\n",
              "          if (!dataTable) return;\n",
              "\n",
              "          const docLinkHtml = 'Like what you see? Visit the ' +\n",
              "            '<a target=\"_blank\" href=https://colab.research.google.com/notebooks/data_table.ipynb>data table notebook</a>'\n",
              "            + ' to learn more about interactive tables.';\n",
              "          element.innerHTML = '';\n",
              "          dataTable['output_type'] = 'display_data';\n",
              "          await google.colab.output.renderOutput(dataTable, element);\n",
              "          const docLink = document.createElement('div');\n",
              "          docLink.innerHTML = docLinkHtml;\n",
              "          element.appendChild(docLink);\n",
              "        }\n",
              "      </script>\n",
              "    </div>\n",
              "  </div>\n",
              "  "
            ]
          },
          "metadata": {},
          "execution_count": 53
        }
      ]
    },
    {
      "cell_type": "code",
      "source": [
        "p = test_df.sort_values(\"probs\", ascending=False).head(10)\n",
        "p"
      ],
      "metadata": {
        "colab": {
          "base_uri": "https://localhost:8080/",
          "height": 363
        },
        "id": "yLths7dvH-Y6",
        "outputId": "95fefc7f-4a09-4049-e512-422c55c26dfe"
      },
      "execution_count": null,
      "outputs": [
        {
          "output_type": "execute_result",
          "data": {
            "text/plain": [
              "                                                   text     probs  prediction\n",
              "1684  Typhoon Soudelor approaches after 7 killed 2 m...  0.998936         1.0\n",
              "1444  Family evacuated after weather bomb http://t.c...  0.998776         1.0\n",
              "1912  #???? #?? #??? #??? Udhampur terror attack: Mi...  0.998558         1.0\n",
              "1449  13000 evacuated as California firefighters fig...  0.998394         1.0\n",
              "2820  The 390-Year-Old Tree That Survived the Bombin...  0.998389         1.0\n",
              "548   #DNR\\nRes. buildings shelled &amp; on fire in ...  0.998389         1.0\n",
              "668   The Catastrophic Effects of Hiroshima and Naga...  0.998258         1.0\n",
              "2050  Today marks 70 years since the mass murder of ...  0.998242         1.0\n",
              "1443  #FortitudeValley unit damaged and residents ev...  0.998216         1.0\n",
              "167   Arson suspect linked to 30 fires caught in Nor...  0.998203         1.0"
            ],
            "text/html": [
              "\n",
              "  <div id=\"df-22f8956a-dc91-4e7d-9c93-c5482ecde16e\">\n",
              "    <div class=\"colab-df-container\">\n",
              "      <div>\n",
              "<style scoped>\n",
              "    .dataframe tbody tr th:only-of-type {\n",
              "        vertical-align: middle;\n",
              "    }\n",
              "\n",
              "    .dataframe tbody tr th {\n",
              "        vertical-align: top;\n",
              "    }\n",
              "\n",
              "    .dataframe thead th {\n",
              "        text-align: right;\n",
              "    }\n",
              "</style>\n",
              "<table border=\"1\" class=\"dataframe\">\n",
              "  <thead>\n",
              "    <tr style=\"text-align: right;\">\n",
              "      <th></th>\n",
              "      <th>text</th>\n",
              "      <th>probs</th>\n",
              "      <th>prediction</th>\n",
              "    </tr>\n",
              "  </thead>\n",
              "  <tbody>\n",
              "    <tr>\n",
              "      <th>1684</th>\n",
              "      <td>Typhoon Soudelor approaches after 7 killed 2 m...</td>\n",
              "      <td>0.998936</td>\n",
              "      <td>1.0</td>\n",
              "    </tr>\n",
              "    <tr>\n",
              "      <th>1444</th>\n",
              "      <td>Family evacuated after weather bomb http://t.c...</td>\n",
              "      <td>0.998776</td>\n",
              "      <td>1.0</td>\n",
              "    </tr>\n",
              "    <tr>\n",
              "      <th>1912</th>\n",
              "      <td>#???? #?? #??? #??? Udhampur terror attack: Mi...</td>\n",
              "      <td>0.998558</td>\n",
              "      <td>1.0</td>\n",
              "    </tr>\n",
              "    <tr>\n",
              "      <th>1449</th>\n",
              "      <td>13000 evacuated as California firefighters fig...</td>\n",
              "      <td>0.998394</td>\n",
              "      <td>1.0</td>\n",
              "    </tr>\n",
              "    <tr>\n",
              "      <th>2820</th>\n",
              "      <td>The 390-Year-Old Tree That Survived the Bombin...</td>\n",
              "      <td>0.998389</td>\n",
              "      <td>1.0</td>\n",
              "    </tr>\n",
              "    <tr>\n",
              "      <th>548</th>\n",
              "      <td>#DNR\\nRes. buildings shelled &amp;amp; on fire in ...</td>\n",
              "      <td>0.998389</td>\n",
              "      <td>1.0</td>\n",
              "    </tr>\n",
              "    <tr>\n",
              "      <th>668</th>\n",
              "      <td>The Catastrophic Effects of Hiroshima and Naga...</td>\n",
              "      <td>0.998258</td>\n",
              "      <td>1.0</td>\n",
              "    </tr>\n",
              "    <tr>\n",
              "      <th>2050</th>\n",
              "      <td>Today marks 70 years since the mass murder of ...</td>\n",
              "      <td>0.998242</td>\n",
              "      <td>1.0</td>\n",
              "    </tr>\n",
              "    <tr>\n",
              "      <th>1443</th>\n",
              "      <td>#FortitudeValley unit damaged and residents ev...</td>\n",
              "      <td>0.998216</td>\n",
              "      <td>1.0</td>\n",
              "    </tr>\n",
              "    <tr>\n",
              "      <th>167</th>\n",
              "      <td>Arson suspect linked to 30 fires caught in Nor...</td>\n",
              "      <td>0.998203</td>\n",
              "      <td>1.0</td>\n",
              "    </tr>\n",
              "  </tbody>\n",
              "</table>\n",
              "</div>\n",
              "      <button class=\"colab-df-convert\" onclick=\"convertToInteractive('df-22f8956a-dc91-4e7d-9c93-c5482ecde16e')\"\n",
              "              title=\"Convert this dataframe to an interactive table.\"\n",
              "              style=\"display:none;\">\n",
              "        \n",
              "  <svg xmlns=\"http://www.w3.org/2000/svg\" height=\"24px\"viewBox=\"0 0 24 24\"\n",
              "       width=\"24px\">\n",
              "    <path d=\"M0 0h24v24H0V0z\" fill=\"none\"/>\n",
              "    <path d=\"M18.56 5.44l.94 2.06.94-2.06 2.06-.94-2.06-.94-.94-2.06-.94 2.06-2.06.94zm-11 1L8.5 8.5l.94-2.06 2.06-.94-2.06-.94L8.5 2.5l-.94 2.06-2.06.94zm10 10l.94 2.06.94-2.06 2.06-.94-2.06-.94-.94-2.06-.94 2.06-2.06.94z\"/><path d=\"M17.41 7.96l-1.37-1.37c-.4-.4-.92-.59-1.43-.59-.52 0-1.04.2-1.43.59L10.3 9.45l-7.72 7.72c-.78.78-.78 2.05 0 2.83L4 21.41c.39.39.9.59 1.41.59.51 0 1.02-.2 1.41-.59l7.78-7.78 2.81-2.81c.8-.78.8-2.07 0-2.86zM5.41 20L4 18.59l7.72-7.72 1.47 1.35L5.41 20z\"/>\n",
              "  </svg>\n",
              "      </button>\n",
              "      \n",
              "  <style>\n",
              "    .colab-df-container {\n",
              "      display:flex;\n",
              "      flex-wrap:wrap;\n",
              "      gap: 12px;\n",
              "    }\n",
              "\n",
              "    .colab-df-convert {\n",
              "      background-color: #E8F0FE;\n",
              "      border: none;\n",
              "      border-radius: 50%;\n",
              "      cursor: pointer;\n",
              "      display: none;\n",
              "      fill: #1967D2;\n",
              "      height: 32px;\n",
              "      padding: 0 0 0 0;\n",
              "      width: 32px;\n",
              "    }\n",
              "\n",
              "    .colab-df-convert:hover {\n",
              "      background-color: #E2EBFA;\n",
              "      box-shadow: 0px 1px 2px rgba(60, 64, 67, 0.3), 0px 1px 3px 1px rgba(60, 64, 67, 0.15);\n",
              "      fill: #174EA6;\n",
              "    }\n",
              "\n",
              "    [theme=dark] .colab-df-convert {\n",
              "      background-color: #3B4455;\n",
              "      fill: #D2E3FC;\n",
              "    }\n",
              "\n",
              "    [theme=dark] .colab-df-convert:hover {\n",
              "      background-color: #434B5C;\n",
              "      box-shadow: 0px 1px 3px 1px rgba(0, 0, 0, 0.15);\n",
              "      filter: drop-shadow(0px 1px 2px rgba(0, 0, 0, 0.3));\n",
              "      fill: #FFFFFF;\n",
              "    }\n",
              "  </style>\n",
              "\n",
              "      <script>\n",
              "        const buttonEl =\n",
              "          document.querySelector('#df-22f8956a-dc91-4e7d-9c93-c5482ecde16e button.colab-df-convert');\n",
              "        buttonEl.style.display =\n",
              "          google.colab.kernel.accessAllowed ? 'block' : 'none';\n",
              "\n",
              "        async function convertToInteractive(key) {\n",
              "          const element = document.querySelector('#df-22f8956a-dc91-4e7d-9c93-c5482ecde16e');\n",
              "          const dataTable =\n",
              "            await google.colab.kernel.invokeFunction('convertToInteractive',\n",
              "                                                     [key], {});\n",
              "          if (!dataTable) return;\n",
              "\n",
              "          const docLinkHtml = 'Like what you see? Visit the ' +\n",
              "            '<a target=\"_blank\" href=https://colab.research.google.com/notebooks/data_table.ipynb>data table notebook</a>'\n",
              "            + ' to learn more about interactive tables.';\n",
              "          element.innerHTML = '';\n",
              "          dataTable['output_type'] = 'display_data';\n",
              "          await google.colab.output.renderOutput(dataTable, element);\n",
              "          const docLink = document.createElement('div');\n",
              "          docLink.innerHTML = docLinkHtml;\n",
              "          element.appendChild(docLink);\n",
              "        }\n",
              "      </script>\n",
              "    </div>\n",
              "  </div>\n",
              "  "
            ]
          },
          "metadata": {},
          "execution_count": 56
        }
      ]
    },
    {
      "cell_type": "code",
      "source": [
        "for row in p.itertuples():\n",
        "  _, text, prob, pred = row\n",
        "  print(f\"pred: {pred}, prob:{prob}\\n\\n\")\n",
        "  print(text, \"\\n\\n\")"
      ],
      "metadata": {
        "colab": {
          "base_uri": "https://localhost:8080/"
        },
        "id": "DeI74Q0rIFH3",
        "outputId": "df6fcd9a-846a-4aab-ffb5-f62b771b5cb4"
      },
      "execution_count": null,
      "outputs": [
        {
          "output_type": "stream",
          "name": "stdout",
          "text": [
            "pred: 1.0, prob:0.9989362359046936\n",
            "\n",
            "\n",
            "Typhoon Soudelor approaches after 7 killed 2 missing in floods in Philippines http://t.co/hALJNnWrwi via @abc7chicago \n",
            "\n",
            "\n",
            "pred: 1.0, prob:0.9987761378288269\n",
            "\n",
            "\n",
            "Family evacuated after weather bomb http://t.co/2A4z8pmvVE \n",
            "\n",
            "\n",
            "pred: 1.0, prob:0.9985575079917908\n",
            "\n",
            "\n",
            "#???? #?? #??? #??? Udhampur terror attack: Militants attack police post 2 SPOs injured - Times of   http://t.co/1KxsGlsTA7 \n",
            "\n",
            "\n",
            "pred: 1.0, prob:0.9983939528465271\n",
            "\n",
            "\n",
            "13000 evacuated as California firefighters fight flames to save homes: CLEARLAKE OAKS Calif. ÛÓ Wildfires lik... http://t.co/xwBYeaOWMw \n",
            "\n",
            "\n",
            "pred: 1.0, prob:0.9983891248703003\n",
            "\n",
            "\n",
            "The 390-Year-Old Tree That Survived the Bombing of Hiroshima http://t.co/kEirA8MA3K \n",
            "\n",
            "\n",
            "pred: 1.0, prob:0.9983887672424316\n",
            "\n",
            "\n",
            "#DNR\n",
            "Res. buildings shelled &amp; on fire in #Gorlovka tonight.\n",
            "Civilian casualties Jan-July 2015:ÛÓ\n",
            "164 killed (incl. 16 children)\n",
            "501 wounded \n",
            "\n",
            "\n",
            "pred: 1.0, prob:0.9982579350471497\n",
            "\n",
            "\n",
            "The Catastrophic Effects of Hiroshima and Nagasaki Atomic Bombings Still Being Felt Today http://t.co/W1iFF7ddvy \n",
            "\n",
            "\n",
            "pred: 1.0, prob:0.9982423782348633\n",
            "\n",
            "\n",
            "Today marks 70 years since the mass murder of 140000 civilians in Hiroshima. The bombing of Hiroshima and Nagasaki did NOT end WW2 \n",
            "\n",
            "\n",
            "pred: 1.0, prob:0.9982160925865173\n",
            "\n",
            "\n",
            "#FortitudeValley unit damaged and residents evacuated after fire broke out after 7am this morning #7News http://t.co/8iZgxCeLcc \n",
            "\n",
            "\n",
            "pred: 1.0, prob:0.9982033967971802\n",
            "\n",
            "\n",
            "Arson suspect linked to 30 fires caught in Northern California http://t.co/z8tlcAdKOw \n",
            "\n",
            "\n"
          ]
        }
      ]
    },
    {
      "cell_type": "code",
      "source": [
        "f = test_df.sort_values(\"probs\", ascending=True).head(10)\n",
        "f"
      ],
      "metadata": {
        "colab": {
          "base_uri": "https://localhost:8080/",
          "height": 363
        },
        "id": "ynigKb8wIbrF",
        "outputId": "506ac821-e7b7-4ce5-deb6-ac3dc16f1612"
      },
      "execution_count": null,
      "outputs": [
        {
          "output_type": "execute_result",
          "data": {
            "text/plain": [
              "                                                   text     probs  prediction\n",
              "832   #GoT season 5 - funniest season ever. Hilariou...  0.006405         0.0\n",
              "1198  @MikeParrActor devastated your no longer in em...  0.007740         0.0\n",
              "397   @ashwilliams1 continues to be the best guest o...  0.008684         0.0\n",
              "399        Im so bloody excited to see Maisy and Martha  0.009332         0.0\n",
              "209   To love you love you love you ...  Massive Att...  0.009678         0.0\n",
              "2630  want a new season of The League and Sirens on ...  0.009923         0.0\n",
              "907   Please tell me Ross isn't actually dead...\\nI ...  0.010228         0.0\n",
              "3245  I just wanna ease your mind and make you feel ...  0.010340         0.0\n",
              "1808  Would you consider yourself good at giving adv...  0.010710         0.0\n",
              "2824  How would you like to be remembered? ÛÓ On ho...  0.011557         0.0"
            ],
            "text/html": [
              "\n",
              "  <div id=\"df-039ad8d9-f9e4-4cb5-8433-77918deff6b2\">\n",
              "    <div class=\"colab-df-container\">\n",
              "      <div>\n",
              "<style scoped>\n",
              "    .dataframe tbody tr th:only-of-type {\n",
              "        vertical-align: middle;\n",
              "    }\n",
              "\n",
              "    .dataframe tbody tr th {\n",
              "        vertical-align: top;\n",
              "    }\n",
              "\n",
              "    .dataframe thead th {\n",
              "        text-align: right;\n",
              "    }\n",
              "</style>\n",
              "<table border=\"1\" class=\"dataframe\">\n",
              "  <thead>\n",
              "    <tr style=\"text-align: right;\">\n",
              "      <th></th>\n",
              "      <th>text</th>\n",
              "      <th>probs</th>\n",
              "      <th>prediction</th>\n",
              "    </tr>\n",
              "  </thead>\n",
              "  <tbody>\n",
              "    <tr>\n",
              "      <th>832</th>\n",
              "      <td>#GoT season 5 - funniest season ever. Hilariou...</td>\n",
              "      <td>0.006405</td>\n",
              "      <td>0.0</td>\n",
              "    </tr>\n",
              "    <tr>\n",
              "      <th>1198</th>\n",
              "      <td>@MikeParrActor devastated your no longer in em...</td>\n",
              "      <td>0.007740</td>\n",
              "      <td>0.0</td>\n",
              "    </tr>\n",
              "    <tr>\n",
              "      <th>397</th>\n",
              "      <td>@ashwilliams1 continues to be the best guest o...</td>\n",
              "      <td>0.008684</td>\n",
              "      <td>0.0</td>\n",
              "    </tr>\n",
              "    <tr>\n",
              "      <th>399</th>\n",
              "      <td>Im so bloody excited to see Maisy and Martha</td>\n",
              "      <td>0.009332</td>\n",
              "      <td>0.0</td>\n",
              "    </tr>\n",
              "    <tr>\n",
              "      <th>209</th>\n",
              "      <td>To love you love you love you ...  Massive Att...</td>\n",
              "      <td>0.009678</td>\n",
              "      <td>0.0</td>\n",
              "    </tr>\n",
              "    <tr>\n",
              "      <th>2630</th>\n",
              "      <td>want a new season of The League and Sirens on ...</td>\n",
              "      <td>0.009923</td>\n",
              "      <td>0.0</td>\n",
              "    </tr>\n",
              "    <tr>\n",
              "      <th>907</th>\n",
              "      <td>Please tell me Ross isn't actually dead...\\nI ...</td>\n",
              "      <td>0.010228</td>\n",
              "      <td>0.0</td>\n",
              "    </tr>\n",
              "    <tr>\n",
              "      <th>3245</th>\n",
              "      <td>I just wanna ease your mind and make you feel ...</td>\n",
              "      <td>0.010340</td>\n",
              "      <td>0.0</td>\n",
              "    </tr>\n",
              "    <tr>\n",
              "      <th>1808</th>\n",
              "      <td>Would you consider yourself good at giving adv...</td>\n",
              "      <td>0.010710</td>\n",
              "      <td>0.0</td>\n",
              "    </tr>\n",
              "    <tr>\n",
              "      <th>2824</th>\n",
              "      <td>How would you like to be remembered? ÛÓ On ho...</td>\n",
              "      <td>0.011557</td>\n",
              "      <td>0.0</td>\n",
              "    </tr>\n",
              "  </tbody>\n",
              "</table>\n",
              "</div>\n",
              "      <button class=\"colab-df-convert\" onclick=\"convertToInteractive('df-039ad8d9-f9e4-4cb5-8433-77918deff6b2')\"\n",
              "              title=\"Convert this dataframe to an interactive table.\"\n",
              "              style=\"display:none;\">\n",
              "        \n",
              "  <svg xmlns=\"http://www.w3.org/2000/svg\" height=\"24px\"viewBox=\"0 0 24 24\"\n",
              "       width=\"24px\">\n",
              "    <path d=\"M0 0h24v24H0V0z\" fill=\"none\"/>\n",
              "    <path d=\"M18.56 5.44l.94 2.06.94-2.06 2.06-.94-2.06-.94-.94-2.06-.94 2.06-2.06.94zm-11 1L8.5 8.5l.94-2.06 2.06-.94-2.06-.94L8.5 2.5l-.94 2.06-2.06.94zm10 10l.94 2.06.94-2.06 2.06-.94-2.06-.94-.94-2.06-.94 2.06-2.06.94z\"/><path d=\"M17.41 7.96l-1.37-1.37c-.4-.4-.92-.59-1.43-.59-.52 0-1.04.2-1.43.59L10.3 9.45l-7.72 7.72c-.78.78-.78 2.05 0 2.83L4 21.41c.39.39.9.59 1.41.59.51 0 1.02-.2 1.41-.59l7.78-7.78 2.81-2.81c.8-.78.8-2.07 0-2.86zM5.41 20L4 18.59l7.72-7.72 1.47 1.35L5.41 20z\"/>\n",
              "  </svg>\n",
              "      </button>\n",
              "      \n",
              "  <style>\n",
              "    .colab-df-container {\n",
              "      display:flex;\n",
              "      flex-wrap:wrap;\n",
              "      gap: 12px;\n",
              "    }\n",
              "\n",
              "    .colab-df-convert {\n",
              "      background-color: #E8F0FE;\n",
              "      border: none;\n",
              "      border-radius: 50%;\n",
              "      cursor: pointer;\n",
              "      display: none;\n",
              "      fill: #1967D2;\n",
              "      height: 32px;\n",
              "      padding: 0 0 0 0;\n",
              "      width: 32px;\n",
              "    }\n",
              "\n",
              "    .colab-df-convert:hover {\n",
              "      background-color: #E2EBFA;\n",
              "      box-shadow: 0px 1px 2px rgba(60, 64, 67, 0.3), 0px 1px 3px 1px rgba(60, 64, 67, 0.15);\n",
              "      fill: #174EA6;\n",
              "    }\n",
              "\n",
              "    [theme=dark] .colab-df-convert {\n",
              "      background-color: #3B4455;\n",
              "      fill: #D2E3FC;\n",
              "    }\n",
              "\n",
              "    [theme=dark] .colab-df-convert:hover {\n",
              "      background-color: #434B5C;\n",
              "      box-shadow: 0px 1px 3px 1px rgba(0, 0, 0, 0.15);\n",
              "      filter: drop-shadow(0px 1px 2px rgba(0, 0, 0, 0.3));\n",
              "      fill: #FFFFFF;\n",
              "    }\n",
              "  </style>\n",
              "\n",
              "      <script>\n",
              "        const buttonEl =\n",
              "          document.querySelector('#df-039ad8d9-f9e4-4cb5-8433-77918deff6b2 button.colab-df-convert');\n",
              "        buttonEl.style.display =\n",
              "          google.colab.kernel.accessAllowed ? 'block' : 'none';\n",
              "\n",
              "        async function convertToInteractive(key) {\n",
              "          const element = document.querySelector('#df-039ad8d9-f9e4-4cb5-8433-77918deff6b2');\n",
              "          const dataTable =\n",
              "            await google.colab.kernel.invokeFunction('convertToInteractive',\n",
              "                                                     [key], {});\n",
              "          if (!dataTable) return;\n",
              "\n",
              "          const docLinkHtml = 'Like what you see? Visit the ' +\n",
              "            '<a target=\"_blank\" href=https://colab.research.google.com/notebooks/data_table.ipynb>data table notebook</a>'\n",
              "            + ' to learn more about interactive tables.';\n",
              "          element.innerHTML = '';\n",
              "          dataTable['output_type'] = 'display_data';\n",
              "          await google.colab.output.renderOutput(dataTable, element);\n",
              "          const docLink = document.createElement('div');\n",
              "          docLink.innerHTML = docLinkHtml;\n",
              "          element.appendChild(docLink);\n",
              "        }\n",
              "      </script>\n",
              "    </div>\n",
              "  </div>\n",
              "  "
            ]
          },
          "metadata": {},
          "execution_count": 60
        }
      ]
    },
    {
      "cell_type": "code",
      "source": [
        "for row in f.itertuples():\n",
        "  _, text, prob, pred = row\n",
        "  print(f\"pred: {pred}, prob:{prob}\\n\\n\")\n",
        "  print(text, \"\\n\\n\")"
      ],
      "metadata": {
        "colab": {
          "base_uri": "https://localhost:8080/"
        },
        "id": "7g0xBxtPIg92",
        "outputId": "3bd6dff5-86cf-4594-fd51-aaae674c2ff4"
      },
      "execution_count": null,
      "outputs": [
        {
          "output_type": "stream",
          "name": "stdout",
          "text": [
            "pred: 0.0, prob:0.0064053721725940704\n",
            "\n",
            "\n",
            "#GoT season 5 - funniest season ever. Hilarious. #GameOfThrones you crushed it. OMG. #CantStopLaughing #Wow #Comedy \n",
            "\n",
            "\n",
            "pred: 0.0, prob:0.007740059867501259\n",
            "\n",
            "\n",
            "@MikeParrActor devastated your no longer in emmerdale best character with so much more to give #superbactor your going to be missed \n",
            "\n",
            "\n",
            "pred: 0.0, prob:0.008684330619871616\n",
            "\n",
            "\n",
            "@ashwilliams1 continues to be the best guest on @iLoveGGLetters. This week's episode is bloody outrageous. \n",
            "\n",
            "\n",
            "pred: 0.0, prob:0.009331697598099709\n",
            "\n",
            "\n",
            "Im so bloody excited to see Maisy and Martha \n",
            "\n",
            "\n",
            "pred: 0.0, prob:0.00967782735824585\n",
            "\n",
            "\n",
            "To love you love you love you ...  Massive Attack - Angel (HD) https://t.co/9TW34Gffox vÌ_a @YouTube \n",
            "\n",
            "\n",
            "pred: 0.0, prob:0.009922823868691921\n",
            "\n",
            "\n",
            "want a new season of The League and Sirens on Netflix. \n",
            "\n",
            "\n",
            "pred: 0.0, prob:0.010228249244391918\n",
            "\n",
            "\n",
            "Please tell me Ross isn't actually dead...\n",
            "I hope they're just playing us until the next episode. #emmerdale \n",
            "\n",
            "\n",
            "pred: 0.0, prob:0.010340315289795399\n",
            "\n",
            "\n",
            "I just wanna ease your mind and make you feel alright.???? \n",
            "\n",
            "\n",
            "pred: 0.0, prob:0.010710245929658413\n",
            "\n",
            "\n",
            "Would you consider yourself good at giving advice? ÛÓ I like to think I give good advice when I feel like its a s... http://t.co/lSMr4KVO6u \n",
            "\n",
            "\n",
            "pred: 0.0, prob:0.01155689638108015\n",
            "\n",
            "\n",
            "How would you like to be remembered? ÛÓ On how i survived big achievements and what i really am. http://t.co/X7r2LNjsh8 \n",
            "\n",
            "\n"
          ]
        }
      ]
    },
    {
      "cell_type": "markdown",
      "source": [
        "##speed/score tradeoff"
      ],
      "metadata": {
        "id": "be8mESjNJm10"
      }
    },
    {
      "cell_type": "code",
      "source": [
        "import time\n",
        "\n",
        "def pred_time(model, data):\n",
        "  start = time.perf_counter()\n",
        "  pred = model.predict(data)\n",
        "  finish = time.perf_counter()\n",
        "  return (finish-start)/len(data)"
      ],
      "metadata": {
        "id": "eYzpXP3wJprw"
      },
      "execution_count": null,
      "outputs": []
    },
    {
      "cell_type": "code",
      "source": [
        "pred_tiem(model_tl, test[\"text\"].to_list()), pred_time(model_nb, test[\"text\"].to_list())"
      ],
      "metadata": {
        "colab": {
          "base_uri": "https://localhost:8080/"
        },
        "id": "Aqwjju_6KLqB",
        "outputId": "814eee0b-74e8-44e0-8d8b-06d7a8c43171"
      },
      "execution_count": null,
      "outputs": [
        {
          "output_type": "stream",
          "name": "stdout",
          "text": [
            "102/102 [==============================] - 1s 10ms/step\n"
          ]
        },
        {
          "output_type": "execute_result",
          "data": {
            "text/plain": [
              "(1.1810715198516846, 1.5588759423878597e-05)"
            ]
          },
          "metadata": {},
          "execution_count": 73
        }
      ]
    }
  ]
}
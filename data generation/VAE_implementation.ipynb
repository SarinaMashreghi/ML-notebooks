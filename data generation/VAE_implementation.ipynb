{
  "nbformat": 4,
  "nbformat_minor": 0,
  "metadata": {
    "colab": {
      "provenance": [],
      "authorship_tag": "ABX9TyOVVfyiuKzjTx1/1p5YGRMP",
      "include_colab_link": true
    },
    "kernelspec": {
      "name": "python3",
      "display_name": "Python 3"
    },
    "language_info": {
      "name": "python"
    }
  },
  "cells": [
    {
      "cell_type": "markdown",
      "metadata": {
        "id": "view-in-github",
        "colab_type": "text"
      },
      "source": [
        "<a href=\"https://colab.research.google.com/github/SarinaMashreghi/ML-notebooks/blob/main/data%20generation/VAE_implementation.ipynb\" target=\"_parent\"><img src=\"https://colab.research.google.com/assets/colab-badge.svg\" alt=\"Open In Colab\"/></a>"
      ]
    },
    {
      "cell_type": "markdown",
      "source": [
        "##Data generation\n"
      ],
      "metadata": {
        "id": "_-6bUP9u3U1w"
      }
    },
    {
      "cell_type": "code",
      "execution_count": 1,
      "metadata": {
        "id": "6ADVRv2KOwSK",
        "colab": {
          "base_uri": "https://localhost:8080/"
        },
        "outputId": "068616a7-707a-417c-9bde-33aece963b3a"
      },
      "outputs": [
        {
          "output_type": "execute_result",
          "data": {
            "text/plain": [
              "(array([[ 3.04568832,  1.06022032,  2.98452842, ...,  2.25459163,\n",
              "          0.37490371,  0.11365388],\n",
              "        [ 0.11126699, -1.29623538,  2.3733792 , ...,  0.09795778,\n",
              "          7.44095509, -1.7163683 ],\n",
              "        [ 0.28047596,  1.80873656, -0.70817941, ..., -1.68074201,\n",
              "         -0.05288464, -0.18364771],\n",
              "        ...,\n",
              "        [-1.15112226,  1.35532487, -0.34450707, ..., -1.1505098 ,\n",
              "         -0.1172273 , -1.39551933],\n",
              "        [-3.96100661,  1.86026363, -1.33405745, ..., -3.7178547 ,\n",
              "          3.74130245, -0.51571354],\n",
              "        [ 2.23278225,  3.0583209 , -1.55052425, ...,  1.10930034,\n",
              "         -3.19958255,  0.50592546]]),\n",
              " array([3, 0, 3, 2, 3, 0, 1, 2, 2, 3, 2, 3, 0, 0, 2, 0, 2, 3, 1, 2, 1, 2,\n",
              "        0, 0, 1, 2, 2, 3, 2, 3, 1, 2, 1, 3, 3, 0, 0, 3, 0, 2, 3, 1, 0, 2,\n",
              "        3, 3, 0, 1, 0, 3, 1, 0, 1, 2, 1, 2, 0, 3, 0, 2, 0, 1, 3, 0, 1, 3,\n",
              "        0, 1, 1, 1, 0, 0, 2, 1, 1, 1, 3, 3, 2, 3, 1, 2, 0, 1, 1, 2, 1, 0,\n",
              "        3, 1, 0, 3, 2, 0, 3, 2, 2, 3, 2, 1]))"
            ]
          },
          "metadata": {},
          "execution_count": 1
        }
      ],
      "source": [
        "from sklearn.datasets import make_regression, make_classification\n",
        "\n",
        "X, y = make_classification(n_samples=100,\n",
        "                        n_features=20,\n",
        "                           n_informative=10,\n",
        "                           n_classes=4)\n",
        "X, y"
      ]
    },
    {
      "cell_type": "code",
      "source": [
        "from sklearn.preprocessing import StandardScaler\n",
        "\n",
        "scaler = StandardScaler()\n",
        "scaler.fit(X)\n",
        "X = scaler.transform(X)\n",
        "X"
      ],
      "metadata": {
        "colab": {
          "base_uri": "https://localhost:8080/"
        },
        "id": "racZZffF1L1l",
        "outputId": "6b7a5f76-d168-48e8-8530-266dc85e553f"
      },
      "execution_count": null,
      "outputs": [
        {
          "output_type": "execute_result",
          "data": {
            "text/plain": [
              "array([[ 9.03343450e-01,  1.19734321e+00,  7.58212566e-01, ...,\n",
              "        -4.61652306e-01, -1.17718977e+00, -1.01547305e+00],\n",
              "       [ 7.88681896e-01, -1.33750666e+00,  2.23855320e-01, ...,\n",
              "        -1.11754180e+00,  1.54139591e-01, -9.88168872e-01],\n",
              "       [-3.97578360e-01, -6.17917460e-01,  1.59457837e+00, ...,\n",
              "         1.25861387e+00, -1.10149099e+00, -1.60370814e+00],\n",
              "       ...,\n",
              "       [ 1.16234724e+00,  5.60863726e-04, -5.58074696e-01, ...,\n",
              "         3.44167460e-01, -3.43355864e-03, -1.17679927e-01],\n",
              "       [ 4.77316180e-02,  2.27183169e+00, -8.93315540e-01, ...,\n",
              "        -1.17951343e+00,  8.29357367e-01,  6.05227185e-01],\n",
              "       [-1.32051649e-02, -3.71768382e-01, -1.27098959e+00, ...,\n",
              "        -6.71765100e-01,  9.46791938e-02, -2.55242022e-02]])"
            ]
          },
          "metadata": {},
          "execution_count": 10
        }
      ]
    },
    {
      "cell_type": "markdown",
      "source": [
        "##VAE"
      ],
      "metadata": {
        "id": "iS04F31K3YQy"
      }
    },
    {
      "cell_type": "code",
      "source": [
        "from keras import backend as K\n",
        "import tensorflow as tf\n",
        "\n",
        "latent_dim = 10\n",
        "sample_dim = X.shape[1]\n",
        "\n",
        "class Sampling(tf.keras.layers.Layer):\n",
        "  def call(self, inputs):\n",
        "   mean, log_var = inputs\n",
        "   return K.random_normal(tf.shape(log_var)) * K.exp(log_var / 2)+mean"
      ],
      "metadata": {
        "id": "oU-Q7vzp3Zk6"
      },
      "execution_count": 2,
      "outputs": []
    },
    {
      "cell_type": "code",
      "source": [
        "from tensorflow.keras.layers import *\n",
        "K.clear_session()\n",
        "\n",
        "inputs = Input(shape=(sample_dim,))\n",
        "x = Dense(64, activation=\"relu\")(inputs)\n",
        "x = Dense(32, activation=\"relu\")(x)\n",
        "\n",
        "latent_mean = Dense(latent_dim)(x)\n",
        "latent_var = Dense(latent_dim)(x)\n",
        "\n",
        "sampling = Sampling()([latent_mean, latent_var])\n",
        "\n",
        "encoder = tf.keras.Model(inputs=inputs, outputs=[latent_mean, latent_var, sampling], name=\"encoder\")\n",
        "\n",
        "encoder.summary()"
      ],
      "metadata": {
        "id": "H8BgRLSiUmN8",
        "outputId": "5ada1011-9e10-4292-d2f2-084c3437fc0a",
        "colab": {
          "base_uri": "https://localhost:8080/"
        }
      },
      "execution_count": 4,
      "outputs": [
        {
          "output_type": "stream",
          "name": "stdout",
          "text": [
            "Model: \"encoder\"\n",
            "__________________________________________________________________________________________________\n",
            " Layer (type)                   Output Shape         Param #     Connected to                     \n",
            "==================================================================================================\n",
            " input_1 (InputLayer)           [(None, 20)]         0           []                               \n",
            "                                                                                                  \n",
            " dense (Dense)                  (None, 64)           1344        ['input_1[0][0]']                \n",
            "                                                                                                  \n",
            " dense_1 (Dense)                (None, 32)           2080        ['dense[0][0]']                  \n",
            "                                                                                                  \n",
            " dense_2 (Dense)                (None, 10)           330         ['dense_1[0][0]']                \n",
            "                                                                                                  \n",
            " dense_3 (Dense)                (None, 10)           330         ['dense_1[0][0]']                \n",
            "                                                                                                  \n",
            " sampling (Sampling)            (None, 10)           0           ['dense_2[0][0]',                \n",
            "                                                                  'dense_3[0][0]']                \n",
            "                                                                                                  \n",
            "==================================================================================================\n",
            "Total params: 4,084\n",
            "Trainable params: 4,084\n",
            "Non-trainable params: 0\n",
            "__________________________________________________________________________________________________\n"
          ]
        }
      ]
    },
    {
      "cell_type": "code",
      "source": [
        "decoder_input = Input(shape=(latent_dim,))\n",
        "x = Dense(32, activation=\"relu\")(decoder_input)\n",
        "x = Dense(64, activation=\"relu\")(x)\n",
        "outputs = Dense(sample_dim, \"tanh\")(x)\n",
        "\n",
        "decoder = tf.keras.models.Model(inputs=decoder_input, outputs=outputs, name=\"decoder\")\n",
        "\n",
        "decoder.summary()"
      ],
      "metadata": {
        "id": "TG6GdrOV31zy",
        "outputId": "cdf96f04-8d4e-4fc4-fad5-b7ab843ba764",
        "colab": {
          "base_uri": "https://localhost:8080/"
        }
      },
      "execution_count": 5,
      "outputs": [
        {
          "output_type": "stream",
          "name": "stdout",
          "text": [
            "Model: \"decoder\"\n",
            "_________________________________________________________________\n",
            " Layer (type)                Output Shape              Param #   \n",
            "=================================================================\n",
            " input_2 (InputLayer)        [(None, 10)]              0         \n",
            "                                                                 \n",
            " dense_4 (Dense)             (None, 32)                352       \n",
            "                                                                 \n",
            " dense_5 (Dense)             (None, 64)                2112      \n",
            "                                                                 \n",
            " dense_6 (Dense)             (None, 20)                1300      \n",
            "                                                                 \n",
            "=================================================================\n",
            "Total params: 3,764\n",
            "Trainable params: 3,764\n",
            "Non-trainable params: 0\n",
            "_________________________________________________________________\n"
          ]
        }
      ]
    },
    {
      "cell_type": "code",
      "source": [],
      "metadata": {
        "id": "MYFRPJV1VJXM"
      },
      "execution_count": null,
      "outputs": []
    },
    {
      "cell_type": "code",
      "source": [
        "vae.compile(loss=\"mse\", optimizer=\"adam\", metrics=[\"mse\"])\n",
        "\n",
        "vae.fit(X, X, epochs=10)"
      ],
      "metadata": {
        "colab": {
          "base_uri": "https://localhost:8080/"
        },
        "id": "LDSUEzzj6iTf",
        "outputId": "b27ee704-6fec-44b1-afd1-5c2364f06e36"
      },
      "execution_count": null,
      "outputs": [
        {
          "output_type": "stream",
          "name": "stdout",
          "text": [
            "Epoch 1/10\n",
            "4/4 [==============================] - 1s 5ms/step - loss: 1.0763 - mse: 1.0763\n",
            "Epoch 2/10\n",
            "4/4 [==============================] - 0s 4ms/step - loss: 1.0882 - mse: 1.0882\n",
            "Epoch 3/10\n",
            "4/4 [==============================] - 0s 4ms/step - loss: 1.0344 - mse: 1.0344\n",
            "Epoch 4/10\n",
            "4/4 [==============================] - 0s 3ms/step - loss: 1.0314 - mse: 1.0314\n",
            "Epoch 5/10\n",
            "4/4 [==============================] - 0s 4ms/step - loss: 1.0180 - mse: 1.0180\n",
            "Epoch 6/10\n",
            "4/4 [==============================] - 0s 4ms/step - loss: 1.0196 - mse: 1.0196\n",
            "Epoch 7/10\n",
            "4/4 [==============================] - 0s 4ms/step - loss: 1.0107 - mse: 1.0107\n",
            "Epoch 8/10\n",
            "4/4 [==============================] - 0s 3ms/step - loss: 0.9854 - mse: 0.9854\n",
            "Epoch 9/10\n",
            "4/4 [==============================] - 0s 4ms/step - loss: 1.0019 - mse: 1.0019\n",
            "Epoch 10/10\n",
            "4/4 [==============================] - 0s 3ms/step - loss: 0.9881 - mse: 0.9881\n"
          ]
        },
        {
          "output_type": "execute_result",
          "data": {
            "text/plain": [
              "<keras.callbacks.History at 0x7f301cfda820>"
            ]
          },
          "metadata": {},
          "execution_count": 23
        }
      ]
    }
  ]
}
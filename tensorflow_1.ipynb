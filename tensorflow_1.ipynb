{
  "nbformat": 4,
  "nbformat_minor": 0,
  "metadata": {
    "colab": {
      "provenance": [],
      "authorship_tag": "ABX9TyMDuJgY8SCLNWbRk41m9rQh",
      "include_colab_link": true
    },
    "kernelspec": {
      "name": "python3",
      "display_name": "Python 3"
    },
    "language_info": {
      "name": "python"
    }
  },
  "cells": [
    {
      "cell_type": "markdown",
      "metadata": {
        "id": "view-in-github",
        "colab_type": "text"
      },
      "source": [
        "<a href=\"https://colab.research.google.com/github/SarinaMashreghi/ML-notebooks/blob/main/tensorflow_1.ipynb\" target=\"_parent\"><img src=\"https://colab.research.google.com/assets/colab-badge.svg\" alt=\"Open In Colab\"/></a>"
      ]
    },
    {
      "cell_type": "code",
      "execution_count": null,
      "metadata": {
        "colab": {
          "base_uri": "https://localhost:8080/"
        },
        "id": "mlfKI0vnUjWV",
        "outputId": "7ee9d39a-9b58-413e-9613-161802488b3d"
      },
      "outputs": [
        {
          "output_type": "stream",
          "name": "stdout",
          "text": [
            "2.8.2\n"
          ]
        }
      ],
      "source": [
        "import tensorflow as tf\n",
        "print(tf.__version__)"
      ]
    },
    {
      "cell_type": "code",
      "source": [
        "scalar = tf.constant([2,2])\n",
        "print(scalar.shape)\n",
        "scalar.ndim"
      ],
      "metadata": {
        "colab": {
          "base_uri": "https://localhost:8080/"
        },
        "id": "BVcM5Adjd0rL",
        "outputId": "352fea53-d908-403a-c209-952c021b4bf6"
      },
      "execution_count": null,
      "outputs": [
        {
          "output_type": "stream",
          "name": "stdout",
          "text": [
            "(2,)\n"
          ]
        },
        {
          "output_type": "execute_result",
          "data": {
            "text/plain": [
              "1"
            ]
          },
          "metadata": {},
          "execution_count": 2
        }
      ]
    },
    {
      "cell_type": "code",
      "source": [
        "v = tf.Variable([2])\n",
        "s = tf.constant([2])\n",
        "v[0].assign(7)\n",
        "v"
      ],
      "metadata": {
        "colab": {
          "base_uri": "https://localhost:8080/"
        },
        "id": "3pWKXl0Qd_rJ",
        "outputId": "9717e0af-d5a1-4943-83f6-a59e82156ff9"
      },
      "execution_count": null,
      "outputs": [
        {
          "output_type": "execute_result",
          "data": {
            "text/plain": [
              "<tf.Variable 'Variable:0' shape=(1,) dtype=int32, numpy=array([7], dtype=int32)>"
            ]
          },
          "metadata": {},
          "execution_count": 3
        }
      ]
    },
    {
      "cell_type": "code",
      "source": [
        "# random tensor\n",
        "\n",
        "random_1 = tf.random.Generator.from_seed(42)\n",
        "random_1 = random_1.normal(shape = (3,2))\n",
        "\n",
        "random_2 = tf.random.Generator.from_seed(2)\n",
        "random_2 = random_2.normal(shape = (3,2))\n",
        "random_1, random_2, random_1 == random_2"
      ],
      "metadata": {
        "colab": {
          "base_uri": "https://localhost:8080/"
        },
        "id": "5YRxmX_DhC1h",
        "outputId": "e2277e50-be7f-40b7-db12-8febacd5b831"
      },
      "execution_count": null,
      "outputs": [
        {
          "output_type": "execute_result",
          "data": {
            "text/plain": [
              "(<tf.Tensor: shape=(3, 2), dtype=float32, numpy=\n",
              " array([[-0.7565803 , -0.06854702],\n",
              "        [ 0.07595026, -1.2573844 ],\n",
              "        [-0.23193763, -1.8107855 ]], dtype=float32)>,\n",
              " <tf.Tensor: shape=(3, 2), dtype=float32, numpy=\n",
              " array([[-0.1012345 , -0.2744976 ],\n",
              "        [ 1.4204658 ,  1.2609464 ],\n",
              "        [-0.43640924, -1.9633987 ]], dtype=float32)>,\n",
              " <tf.Tensor: shape=(3, 2), dtype=bool, numpy=\n",
              " array([[False, False],\n",
              "        [False, False],\n",
              "        [False, False]])>)"
            ]
          },
          "metadata": {},
          "execution_count": 4
        }
      ]
    },
    {
      "cell_type": "code",
      "source": [
        "# shuffle \n",
        "\n",
        "not_shuffled = tf.constant([[1,2,3],\n",
        "                            [4,5,6],\n",
        "                            [7,8,9]])\n",
        "tf.random.set_seed(42)\n",
        "tf.random.shuffle(not_shuffled)"
      ],
      "metadata": {
        "colab": {
          "base_uri": "https://localhost:8080/"
        },
        "id": "sluXeZRNnmf0",
        "outputId": "2c078184-ebbe-40c3-d191-64a996b94e84"
      },
      "execution_count": null,
      "outputs": [
        {
          "output_type": "execute_result",
          "data": {
            "text/plain": [
              "<tf.Tensor: shape=(3, 3), dtype=int32, numpy=\n",
              "array([[4, 5, 6],\n",
              "       [7, 8, 9],\n",
              "       [1, 2, 3]], dtype=int32)>"
            ]
          },
          "metadata": {},
          "execution_count": 5
        }
      ]
    },
    {
      "cell_type": "code",
      "source": [
        "ones = tf.ones([1,2])\n",
        "ones"
      ],
      "metadata": {
        "colab": {
          "base_uri": "https://localhost:8080/"
        },
        "id": "ctBr2pS_oloO",
        "outputId": "b27ea429-6178-4e76-acd3-fdd8b5b0e5de"
      },
      "execution_count": null,
      "outputs": [
        {
          "output_type": "execute_result",
          "data": {
            "text/plain": [
              "<tf.Tensor: shape=(1, 2), dtype=float32, numpy=array([[1., 1.]], dtype=float32)>"
            ]
          },
          "metadata": {},
          "execution_count": 6
        }
      ]
    },
    {
      "cell_type": "code",
      "source": [
        "# numpy to tensorflow\n",
        "\n",
        "import numpy as np\n",
        "numpy_A = np.arange(1,25)\n",
        "tf_A = tf.constant(numpy_A, shape = (2,3,4))\n",
        "numpy_A, tf_A, tf.size(tf_A)"
      ],
      "metadata": {
        "colab": {
          "base_uri": "https://localhost:8080/"
        },
        "id": "3isray6rqXRQ",
        "outputId": "d9429ca1-22e4-4928-8247-c63da4e66a8d"
      },
      "execution_count": null,
      "outputs": [
        {
          "output_type": "execute_result",
          "data": {
            "text/plain": [
              "(array([ 1,  2,  3,  4,  5,  6,  7,  8,  9, 10, 11, 12, 13, 14, 15, 16, 17,\n",
              "        18, 19, 20, 21, 22, 23, 24]),\n",
              " <tf.Tensor: shape=(2, 3, 4), dtype=int64, numpy=\n",
              " array([[[ 1,  2,  3,  4],\n",
              "         [ 5,  6,  7,  8],\n",
              "         [ 9, 10, 11, 12]],\n",
              " \n",
              "        [[13, 14, 15, 16],\n",
              "         [17, 18, 19, 20],\n",
              "         [21, 22, 23, 24]]])>,\n",
              " <tf.Tensor: shape=(), dtype=int32, numpy=24>)"
            ]
          },
          "metadata": {},
          "execution_count": 7
        }
      ]
    },
    {
      "cell_type": "code",
      "source": [
        "tf_A[1:, :, :1]"
      ],
      "metadata": {
        "colab": {
          "base_uri": "https://localhost:8080/"
        },
        "id": "qmi49TzdtixE",
        "outputId": "d33319e3-1019-4af7-ebbe-c8809c0e2c64"
      },
      "execution_count": null,
      "outputs": [
        {
          "output_type": "execute_result",
          "data": {
            "text/plain": [
              "<tf.Tensor: shape=(1, 3, 1), dtype=int64, numpy=\n",
              "array([[[13],\n",
              "        [17],\n",
              "        [21]]])>"
            ]
          },
          "metadata": {},
          "execution_count": 8
        }
      ]
    },
    {
      "cell_type": "code",
      "source": [
        "d2_tensor = tf.zeros([2, 2])\n",
        "d2_tensor[-1]"
      ],
      "metadata": {
        "colab": {
          "base_uri": "https://localhost:8080/"
        },
        "id": "ZBxV5GC-uqjT",
        "outputId": "f5acf17d-0186-4594-a53b-179684554f27"
      },
      "execution_count": null,
      "outputs": [
        {
          "output_type": "execute_result",
          "data": {
            "text/plain": [
              "<tf.Tensor: shape=(2,), dtype=float32, numpy=array([0., 0.], dtype=float32)>"
            ]
          },
          "metadata": {},
          "execution_count": 9
        }
      ]
    },
    {
      "cell_type": "code",
      "source": [
        "# add extra dimension\n",
        "# d2_tensor = d2_tensor[...,tf.newaxis]  \n",
        "d2_tensor "
      ],
      "metadata": {
        "colab": {
          "base_uri": "https://localhost:8080/"
        },
        "id": "nhEw473hvbWk",
        "outputId": "4a2c46b6-813b-4799-d3e9-0a3a81de8c22"
      },
      "execution_count": null,
      "outputs": [
        {
          "output_type": "execute_result",
          "data": {
            "text/plain": [
              "<tf.Tensor: shape=(2, 2), dtype=float32, numpy=\n",
              "array([[0., 0.],\n",
              "       [0., 0.]], dtype=float32)>"
            ]
          },
          "metadata": {},
          "execution_count": 10
        }
      ]
    },
    {
      "cell_type": "code",
      "source": [
        "tf.expand_dims(d2_tensor, axis=2)"
      ],
      "metadata": {
        "colab": {
          "base_uri": "https://localhost:8080/"
        },
        "id": "TWJ9qRM8wLkj",
        "outputId": "6049736e-496d-4217-8389-b2a7d0ee7663"
      },
      "execution_count": null,
      "outputs": [
        {
          "output_type": "execute_result",
          "data": {
            "text/plain": [
              "<tf.Tensor: shape=(2, 2, 1), dtype=float32, numpy=\n",
              "array([[[0.],\n",
              "        [0.]],\n",
              "\n",
              "       [[0.],\n",
              "        [0.]]], dtype=float32)>"
            ]
          },
          "metadata": {},
          "execution_count": 11
        }
      ]
    },
    {
      "cell_type": "markdown",
      "source": [
        "\n",
        "##Matrix multiplication\n",
        "\n",
        "\n"
      ],
      "metadata": {
        "id": "_vm1WiTP0J-6"
      }
    },
    {
      "cell_type": "code",
      "source": [
        "tensor = tf.constant([[1,2],\n",
        "                     [3,4]])\n",
        "tf.matmul(tensor,tensor), tensor @ tensor, tensor *tensor # element-wise"
      ],
      "metadata": {
        "colab": {
          "base_uri": "https://localhost:8080/"
        },
        "id": "60QoL5E00Rjw",
        "outputId": "a8c671b7-7f69-4acb-8b0b-eef20837e0b7"
      },
      "execution_count": null,
      "outputs": [
        {
          "output_type": "execute_result",
          "data": {
            "text/plain": [
              "(<tf.Tensor: shape=(2, 2), dtype=int32, numpy=\n",
              " array([[ 7, 10],\n",
              "        [15, 22]], dtype=int32)>, <tf.Tensor: shape=(2, 2), dtype=int32, numpy=\n",
              " array([[ 7, 10],\n",
              "        [15, 22]], dtype=int32)>, <tf.Tensor: shape=(2, 2), dtype=int32, numpy=\n",
              " array([[ 1,  4],\n",
              "        [ 9, 16]], dtype=int32)>)"
            ]
          },
          "metadata": {},
          "execution_count": 12
        }
      ]
    },
    {
      "cell_type": "code",
      "source": [
        "t1 = tf.constant([[1,2],\n",
        "                  [3,4],\n",
        "                  [5,6]])\n",
        "t2 = tf.constant([[1,2],\n",
        "                  [3,4],\n",
        "                  [5,6]])\n",
        "reshape = tf.reshape(t2, [2,3])\n",
        "transpose = tf.transpose(t2)\n",
        "\n",
        "t2, reshape, transpose"
      ],
      "metadata": {
        "colab": {
          "base_uri": "https://localhost:8080/"
        },
        "id": "am_vDJgu1y3A",
        "outputId": "9a40806c-d6b0-4151-cb94-ae3aec5cff15"
      },
      "execution_count": null,
      "outputs": [
        {
          "output_type": "execute_result",
          "data": {
            "text/plain": [
              "(<tf.Tensor: shape=(3, 2), dtype=int32, numpy=\n",
              " array([[1, 2],\n",
              "        [3, 4],\n",
              "        [5, 6]], dtype=int32)>, <tf.Tensor: shape=(2, 3), dtype=int32, numpy=\n",
              " array([[1, 2, 3],\n",
              "        [4, 5, 6]], dtype=int32)>, <tf.Tensor: shape=(2, 3), dtype=int32, numpy=\n",
              " array([[1, 3, 5],\n",
              "        [2, 4, 6]], dtype=int32)>)"
            ]
          },
          "metadata": {},
          "execution_count": 13
        }
      ]
    },
    {
      "cell_type": "code",
      "source": [
        "tf.matmul(t1, reshape), tf.matmul(t1, transpose)"
      ],
      "metadata": {
        "colab": {
          "base_uri": "https://localhost:8080/"
        },
        "id": "1fzACA8F4UbW",
        "outputId": "da2d542d-6a49-4106-8cbe-b22562fa394c"
      },
      "execution_count": null,
      "outputs": [
        {
          "output_type": "execute_result",
          "data": {
            "text/plain": [
              "(<tf.Tensor: shape=(3, 3), dtype=int32, numpy=\n",
              " array([[ 9, 12, 15],\n",
              "        [19, 26, 33],\n",
              "        [29, 40, 51]], dtype=int32)>,\n",
              " <tf.Tensor: shape=(3, 3), dtype=int32, numpy=\n",
              " array([[ 5, 11, 17],\n",
              "        [11, 25, 39],\n",
              "        [17, 39, 61]], dtype=int32)>)"
            ]
          },
          "metadata": {},
          "execution_count": 14
        }
      ]
    },
    {
      "cell_type": "markdown",
      "source": [
        "**Changing percision**"
      ],
      "metadata": {
        "id": "-W7w1rmOv1GZ"
      }
    },
    {
      "cell_type": "code",
      "source": [
        "A = tf.constant([1.5, 2.5])\n",
        "A = tf.cast(A, dtype = tf.float16)\n",
        "A"
      ],
      "metadata": {
        "colab": {
          "base_uri": "https://localhost:8080/"
        },
        "id": "AHQ7-Ny_v8HA",
        "outputId": "c06b8199-0718-4092-be89-d2f755bff23d"
      },
      "execution_count": null,
      "outputs": [
        {
          "output_type": "execute_result",
          "data": {
            "text/plain": [
              "<tf.Tensor: shape=(2,), dtype=float16, numpy=array([1.5, 2.5], dtype=float16)>"
            ]
          },
          "metadata": {},
          "execution_count": 15
        }
      ]
    },
    {
      "cell_type": "markdown",
      "source": [
        "###Aggregating tensors"
      ],
      "metadata": {
        "id": "FcMIl1jSwudH"
      }
    },
    {
      "cell_type": "code",
      "source": [
        "# absolute values\n",
        "\n",
        "B = tf.constant([-1,-2])\n",
        "tf.abs(B) "
      ],
      "metadata": {
        "colab": {
          "base_uri": "https://localhost:8080/"
        },
        "id": "4cwNpadwwync",
        "outputId": "eab260d2-6536-46dc-ea77-234e776b96f1"
      },
      "execution_count": null,
      "outputs": [
        {
          "output_type": "execute_result",
          "data": {
            "text/plain": [
              "<tf.Tensor: shape=(2,), dtype=int32, numpy=array([1, 2], dtype=int32)>"
            ]
          },
          "metadata": {},
          "execution_count": 16
        }
      ]
    },
    {
      "cell_type": "code",
      "source": [
        "C = tf.constant(np.random.randint(0,100, size=30))\n",
        "C"
      ],
      "metadata": {
        "colab": {
          "base_uri": "https://localhost:8080/"
        },
        "id": "UULspOM5xrh4",
        "outputId": "8d9703bf-5e73-427f-f1d7-6c309d996b3f"
      },
      "execution_count": null,
      "outputs": [
        {
          "output_type": "execute_result",
          "data": {
            "text/plain": [
              "<tf.Tensor: shape=(30,), dtype=int64, numpy=\n",
              "array([22, 67, 66, 56, 19,  5, 93, 25, 74, 92, 99, 51, 70,  2,  7, 46, 68,\n",
              "       45,  2, 69, 89, 64, 50, 54, 35, 57, 98, 41, 58, 64])>"
            ]
          },
          "metadata": {},
          "execution_count": 17
        }
      ]
    },
    {
      "cell_type": "code",
      "source": [
        "tf.reduce_min(C), tf.reduce_max(C), tf.reduce_mean(C), tf.reduce_sum(C)"
      ],
      "metadata": {
        "colab": {
          "base_uri": "https://localhost:8080/"
        },
        "id": "72eQrJkcyRGr",
        "outputId": "d52462d7-2fc2-4fb0-961a-e7a0d47e2c7d"
      },
      "execution_count": null,
      "outputs": [
        {
          "output_type": "execute_result",
          "data": {
            "text/plain": [
              "(<tf.Tensor: shape=(), dtype=int64, numpy=2>,\n",
              " <tf.Tensor: shape=(), dtype=int64, numpy=99>,\n",
              " <tf.Tensor: shape=(), dtype=int64, numpy=52>,\n",
              " <tf.Tensor: shape=(), dtype=int64, numpy=1588>)"
            ]
          },
          "metadata": {},
          "execution_count": 18
        }
      ]
    },
    {
      "cell_type": "code",
      "source": [
        "C[tf.argmax(C)]"
      ],
      "metadata": {
        "colab": {
          "base_uri": "https://localhost:8080/"
        },
        "id": "PnkEbLOX3PU-",
        "outputId": "10f194aa-c7c1-4b72-b414-a087bf9b7f11"
      },
      "execution_count": null,
      "outputs": [
        {
          "output_type": "execute_result",
          "data": {
            "text/plain": [
              "<tf.Tensor: shape=(), dtype=int64, numpy=99>"
            ]
          },
          "metadata": {},
          "execution_count": 19
        }
      ]
    },
    {
      "cell_type": "markdown",
      "source": [
        "###Squeezing a tensor (removing all single dimensions)"
      ],
      "metadata": {
        "id": "XmjgyRj54g3I"
      }
    },
    {
      "cell_type": "code",
      "source": [
        "tf.random.set_seed(42)\n",
        "D = tf.constant(tf.random.uniform(shape=[50]), shape=(1,1,1,1,50))\n",
        "D"
      ],
      "metadata": {
        "id": "tj-9MQhA4oMT",
        "colab": {
          "base_uri": "https://localhost:8080/"
        },
        "outputId": "9de30521-7a96-4c0b-eadf-fe98a61685f2"
      },
      "execution_count": null,
      "outputs": [
        {
          "output_type": "execute_result",
          "data": {
            "text/plain": [
              "<tf.Tensor: shape=(1, 1, 1, 1, 50), dtype=float32, numpy=\n",
              "array([[[[[0.6645621 , 0.44100678, 0.3528825 , 0.46448255, 0.03366041,\n",
              "           0.68467236, 0.74011743, 0.8724445 , 0.22632635, 0.22319686,\n",
              "           0.3103881 , 0.7223358 , 0.13318717, 0.5480639 , 0.5746088 ,\n",
              "           0.8996835 , 0.00946367, 0.5212307 , 0.6345445 , 0.1993283 ,\n",
              "           0.72942245, 0.54583454, 0.10756552, 0.6767061 , 0.6602763 ,\n",
              "           0.33695042, 0.60141766, 0.21062577, 0.8527372 , 0.44062173,\n",
              "           0.9485276 , 0.23752594, 0.81179297, 0.5263394 , 0.494308  ,\n",
              "           0.21612847, 0.8457197 , 0.8718841 , 0.3083862 , 0.6868038 ,\n",
              "           0.23764038, 0.7817228 , 0.9671384 , 0.06870162, 0.79873943,\n",
              "           0.66028714, 0.5871513 , 0.16461694, 0.7381023 , 0.32054043]]]]],\n",
              "      dtype=float32)>"
            ]
          },
          "metadata": {},
          "execution_count": 20
        }
      ]
    },
    {
      "cell_type": "code",
      "source": [
        "D_squeezed = tf.squeeze(D)\n",
        "D_squeezed"
      ],
      "metadata": {
        "colab": {
          "base_uri": "https://localhost:8080/"
        },
        "id": "pQUlgYP8pEGi",
        "outputId": "9720cfb6-0e5a-48ce-ce5f-7e5b6624bc36"
      },
      "execution_count": null,
      "outputs": [
        {
          "output_type": "execute_result",
          "data": {
            "text/plain": [
              "<tf.Tensor: shape=(50,), dtype=float32, numpy=\n",
              "array([0.6645621 , 0.44100678, 0.3528825 , 0.46448255, 0.03366041,\n",
              "       0.68467236, 0.74011743, 0.8724445 , 0.22632635, 0.22319686,\n",
              "       0.3103881 , 0.7223358 , 0.13318717, 0.5480639 , 0.5746088 ,\n",
              "       0.8996835 , 0.00946367, 0.5212307 , 0.6345445 , 0.1993283 ,\n",
              "       0.72942245, 0.54583454, 0.10756552, 0.6767061 , 0.6602763 ,\n",
              "       0.33695042, 0.60141766, 0.21062577, 0.8527372 , 0.44062173,\n",
              "       0.9485276 , 0.23752594, 0.81179297, 0.5263394 , 0.494308  ,\n",
              "       0.21612847, 0.8457197 , 0.8718841 , 0.3083862 , 0.6868038 ,\n",
              "       0.23764038, 0.7817228 , 0.9671384 , 0.06870162, 0.79873943,\n",
              "       0.66028714, 0.5871513 , 0.16461694, 0.7381023 , 0.32054043],\n",
              "      dtype=float32)>"
            ]
          },
          "metadata": {},
          "execution_count": 21
        }
      ]
    },
    {
      "cell_type": "markdown",
      "source": [
        "###One-hot encoding"
      ],
      "metadata": {
        "id": "HfMdG32z83VE"
      }
    },
    {
      "cell_type": "code",
      "source": [
        "list_1 = [0,1,2,3,4]\n",
        "depth = 5\n",
        "tf.one_hot(list_1,depth, on_value=2)"
      ],
      "metadata": {
        "colab": {
          "base_uri": "https://localhost:8080/"
        },
        "id": "jSCMHNz589Nd",
        "outputId": "ea0a9d6f-e2df-4458-f8cc-14494d539c9b"
      },
      "execution_count": null,
      "outputs": [
        {
          "output_type": "execute_result",
          "data": {
            "text/plain": [
              "<tf.Tensor: shape=(5, 5), dtype=int32, numpy=\n",
              "array([[2, 0, 0, 0, 0],\n",
              "       [0, 2, 0, 0, 0],\n",
              "       [0, 0, 2, 0, 0],\n",
              "       [0, 0, 0, 2, 0],\n",
              "       [0, 0, 0, 0, 2]], dtype=int32)>"
            ]
          },
          "metadata": {},
          "execution_count": 30
        }
      ]
    },
    {
      "cell_type": "markdown",
      "source": [
        "###Math operations"
      ],
      "metadata": {
        "id": "8NHJJt5l-F25"
      }
    },
    {
      "cell_type": "code",
      "source": [
        "E = tf.range(1,10)\n",
        "E"
      ],
      "metadata": {
        "colab": {
          "base_uri": "https://localhost:8080/"
        },
        "id": "9c29KTh0-Imx",
        "outputId": "27308931-90a6-4efa-c452-433b76a10d8b"
      },
      "execution_count": null,
      "outputs": [
        {
          "output_type": "execute_result",
          "data": {
            "text/plain": [
              "<tf.Tensor: shape=(9,), dtype=int32, numpy=array([1, 2, 3, 4, 5, 6, 7, 8, 9], dtype=int32)>"
            ]
          },
          "metadata": {},
          "execution_count": 31
        }
      ]
    },
    {
      "cell_type": "code",
      "source": [
        "E = tf.cast(E, dtype=np.float32)\n",
        "tf.sqrt(E), tf.math.log(E)"
      ],
      "metadata": {
        "colab": {
          "base_uri": "https://localhost:8080/"
        },
        "id": "X3h11bJX-QXf",
        "outputId": "ec72340d-f188-4cbd-ecda-92c191b49a69"
      },
      "execution_count": null,
      "outputs": [
        {
          "output_type": "execute_result",
          "data": {
            "text/plain": [
              "(<tf.Tensor: shape=(9,), dtype=float32, numpy=\n",
              " array([0.99999994, 1.4142134 , 1.7320508 , 1.9999999 , 2.236068  ,\n",
              "        2.4494896 , 2.6457512 , 2.8284268 , 3.        ], dtype=float32)>,\n",
              " <tf.Tensor: shape=(9,), dtype=float32, numpy=\n",
              " array([0.       , 0.6931472, 1.0986123, 1.3862944, 1.609438 , 1.7917595,\n",
              "        1.9459102, 2.0794415, 2.1972246], dtype=float32)>)"
            ]
          },
          "metadata": {},
          "execution_count": 32
        }
      ]
    },
    {
      "cell_type": "markdown",
      "source": [
        "###Tensors and Numpy"
      ],
      "metadata": {
        "id": "5sNhRisw-4lS"
      }
    },
    {
      "cell_type": "code",
      "source": [
        "F = tf.constant(np.array([1,2,3]))\n",
        "F, np.array(F), type(np.array(F)), F.numpy()"
      ],
      "metadata": {
        "colab": {
          "base_uri": "https://localhost:8080/"
        },
        "id": "6lG4SCVj-7-M",
        "outputId": "ea7df509-b0f6-4909-abfe-ad1ce5599e16"
      },
      "execution_count": null,
      "outputs": [
        {
          "output_type": "execute_result",
          "data": {
            "text/plain": [
              "(<tf.Tensor: shape=(3,), dtype=int64, numpy=array([1, 2, 3])>,\n",
              " array([1, 2, 3]),\n",
              " numpy.ndarray,\n",
              " array([1, 2, 3]))"
            ]
          },
          "metadata": {},
          "execution_count": 34
        }
      ]
    }
  ]
}
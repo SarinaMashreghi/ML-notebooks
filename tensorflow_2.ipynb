{
  "nbformat": 4,
  "nbformat_minor": 0,
  "metadata": {
    "colab": {
      "provenance": [],
      "mount_file_id": "1c4lecViOxdIMG7w4roh3QtFaL96NCPFT",
      "authorship_tag": "ABX9TyNVUSLii2Xw0MiQq+QjBalH",
      "include_colab_link": true
    },
    "kernelspec": {
      "name": "python3",
      "display_name": "Python 3"
    },
    "language_info": {
      "name": "python"
    }
  },
  "cells": [
    {
      "cell_type": "markdown",
      "metadata": {
        "id": "view-in-github",
        "colab_type": "text"
      },
      "source": [
        "<a href=\"https://colab.research.google.com/github/SarinaMashreghi/ML-notebooks/blob/main/tensorflow_2.ipynb\" target=\"_parent\"><img src=\"https://colab.research.google.com/assets/colab-badge.svg\" alt=\"Open In Colab\"/></a>"
      ]
    },
    {
      "cell_type": "markdown",
      "source": [
        "#Regression with neural network\n"
      ],
      "metadata": {
        "id": "xaReHVeJD7De"
      }
    },
    {
      "cell_type": "code",
      "source": [
        "import tensorflow as tf\n",
        "import numpy as np\n",
        "import matplotlib.pyplot as plt\n",
        "import pandas as pd\n",
        "from sklearn.model_selection import train_test_split\n",
        "from sklearn.compose import make_column_transformer\n",
        "from sklearn.preprocessing import MinMaxScaler, OneHotEncoder"
      ],
      "metadata": {
        "id": "-aGgoDndEBCb"
      },
      "execution_count": null,
      "outputs": []
    },
    {
      "cell_type": "code",
      "source": [
        "X = tf.constant(np.array([-2,1,4,7,10,13]))\n",
        "Y = tf.constant(np.array([3,6,9,12,15,18]))\n",
        "\n",
        "X[0].shape, Y[0].shape "
      ],
      "metadata": {
        "colab": {
          "base_uri": "https://localhost:8080/"
        },
        "id": "TqFIlYuREOjB",
        "outputId": "c809efc0-5f7d-4227-fe30-86bd2875f601"
      },
      "execution_count": null,
      "outputs": [
        {
          "output_type": "execute_result",
          "data": {
            "text/plain": [
              "(TensorShape([]), TensorShape([]))"
            ]
          },
          "metadata": {},
          "execution_count": 2
        }
      ]
    },
    {
      "cell_type": "code",
      "source": [
        "plt.scatter(X,Y)"
      ],
      "metadata": {
        "colab": {
          "base_uri": "https://localhost:8080/",
          "height": 282
        },
        "id": "ghvoAzf8GmxL",
        "outputId": "6ea82a3c-6231-4cff-a89c-9b023ca14083"
      },
      "execution_count": null,
      "outputs": [
        {
          "output_type": "execute_result",
          "data": {
            "text/plain": [
              "<matplotlib.collections.PathCollection at 0x7fefdd134b50>"
            ]
          },
          "metadata": {},
          "execution_count": 3
        },
        {
          "output_type": "display_data",
          "data": {
            "text/plain": [
              "<Figure size 432x288 with 1 Axes>"
            ],
            "image/png": "[encoded data removed]"
          },
          "metadata": {
            "needs_background": "light"
          }
        }
      ]
    },
    {
      "cell_type": "markdown",
      "source": [
        "##Creating the model"
      ],
      "metadata": {
        "id": "nqLxp9otHcoP"
      }
    },
    {
      "cell_type": "code",
      "source": [
        "tf.random.set_seed(42)\n",
        "\n",
        "# 1. define the model\n",
        "model = tf.keras.Sequential()\n",
        "model.add(tf.keras.layers.Dense(1))\n",
        "\n",
        "# 2. compile the model: loss, optimizer, metrics\n",
        "model.compile(loss=tf.keras.losses.mae,\n",
        "              optimizer=tf.keras.optimizers.SGD(), #optimizer=\"sgd\"\n",
        "              metrics=[\"mae\"])\n",
        "\n",
        "# 3. fit the model: x, y, epochs\n",
        "\n",
        "model.fit(tf.expand_dims(X, axis=-1),Y, epochs=10)"
      ],
      "metadata": {
        "id": "pdbgar5lG3s6",
        "colab": {
          "base_uri": "https://localhost:8080/"
        },
        "outputId": "797eeb6d-0acc-4605-d645-75cf0f4ce541"
      },
      "execution_count": null,
      "outputs": [
        {
          "output_type": "stream",
          "name": "stdout",
          "text": [
            "Epoch 1/10\n",
            "1/1 [==============================] - 1s 1s/step - loss: 7.3647 - mae: 7.3647\n",
            "Epoch 2/10\n",
            "1/1 [==============================] - 0s 23ms/step - loss: 7.0522 - mae: 7.0522\n",
            "Epoch 3/10\n",
            "1/1 [==============================] - 0s 14ms/step - loss: 6.7397 - mae: 6.7397\n",
            "Epoch 4/10\n",
            "1/1 [==============================] - 0s 19ms/step - loss: 6.4272 - mae: 6.4272\n",
            "Epoch 5/10\n",
            "1/1 [==============================] - 0s 18ms/step - loss: 6.1147 - mae: 6.1147\n",
            "Epoch 6/10\n",
            "1/1 [==============================] - 0s 16ms/step - loss: 5.8022 - mae: 5.8022\n",
            "Epoch 7/10\n",
            "1/1 [==============================] - 0s 14ms/step - loss: 5.4897 - mae: 5.4897\n",
            "Epoch 8/10\n",
            "1/1 [==============================] - 0s 20ms/step - loss: 5.1772 - mae: 5.1772\n",
            "Epoch 9/10\n",
            "1/1 [==============================] - 0s 15ms/step - loss: 4.8647 - mae: 4.8647\n",
            "Epoch 10/10\n",
            "1/1 [==============================] - 0s 6ms/step - loss: 4.5522 - mae: 4.5522\n"
          ]
        },
        {
          "output_type": "execute_result",
          "data": {
            "text/plain": [
              "<keras.callbacks.History at 0x7fefdc377d50>"
            ]
          },
          "metadata": {},
          "execution_count": 4
        }
      ]
    },
    {
      "cell_type": "code",
      "source": [
        "X, Y"
      ],
      "metadata": {
        "colab": {
          "base_uri": "https://localhost:8080/"
        },
        "id": "k4HxJe7-K7Hz",
        "outputId": "e4a3fe7e-f15b-482e-ece5-4fb6df763176"
      },
      "execution_count": null,
      "outputs": [
        {
          "output_type": "execute_result",
          "data": {
            "text/plain": [
              "(<tf.Tensor: shape=(6,), dtype=int64, numpy=array([-2,  1,  4,  7, 10, 13])>,\n",
              " <tf.Tensor: shape=(6,), dtype=int64, numpy=array([ 3,  6,  9, 12, 15, 18])>)"
            ]
          },
          "metadata": {},
          "execution_count": 5
        }
      ]
    },
    {
      "cell_type": "code",
      "source": [
        "# 4. predictions\n",
        "model.predict([5])"
      ],
      "metadata": {
        "colab": {
          "base_uri": "https://localhost:8080/"
        },
        "id": "JV5BM0KtKts3",
        "outputId": "70dedfa3-e14a-4b5d-995c-1e8dfa65c20a"
      },
      "execution_count": null,
      "outputs": [
        {
          "output_type": "execute_result",
          "data": {
            "text/plain": [
              "array([[5.7002993]], dtype=float32)"
            ]
          },
          "metadata": {},
          "execution_count": 6
        }
      ]
    },
    {
      "cell_type": "markdown",
      "source": [
        "##Improving the model"
      ],
      "metadata": {
        "id": "mh8oncQBLOQ1"
      }
    },
    {
      "cell_type": "code",
      "source": [
        "model_2 = tf.keras.Sequential([\n",
        "    tf.keras.layers.Dense(100, activation=\"relu\"),\n",
        "    tf.keras.layers.Dense(100, activation=\"relu\"),\n",
        "    tf.keras.layers.Dense(1)\n",
        "]) \n",
        "\n",
        "model_2.compile(loss=\"mae\",\n",
        "              optimizer=tf.keras.optimizers.Adam(lr=0.1),\n",
        "              metrics=[\"mae\"])\n",
        "\n",
        "model_2.fit(tf.expand_dims(X, axis=-1), Y, epochs=100)\n",
        "\n",
        "model_2.predict([5.])"
      ],
      "metadata": {
        "colab": {
          "base_uri": "https://localhost:8080/"
        },
        "id": "ahvEFNkDLSKA",
        "outputId": "2fedc8da-250b-4700-b990-aff94b59dea1"
      },
      "execution_count": null,
      "outputs": [
        {
          "output_type": "stream",
          "name": "stderr",
          "text": [
            "/usr/local/lib/python3.7/dist-packages/keras/optimizer_v2/adam.py:105: UserWarning: The `lr` argument is deprecated, use `learning_rate` instead.\n",
            "  super(Adam, self).__init__(name, **kwargs)\n"
          ]
        },
        {
          "output_type": "stream",
          "name": "stdout",
          "text": [
            "Epoch 1/100\n",
            "1/1 [==============================] - 1s 1s/step - loss: 10.4951 - mae: 10.4951\n",
            "Epoch 2/100\n",
            "1/1 [==============================] - 0s 22ms/step - loss: 16.2016 - mae: 16.2016\n",
            "Epoch 3/100\n",
            "1/1 [==============================] - 0s 24ms/step - loss: 2.9240 - mae: 2.9240\n",
            "Epoch 4/100\n",
            "1/1 [==============================] - 0s 17ms/step - loss: 1.7749 - mae: 1.7749\n",
            "Epoch 5/100\n",
            "1/1 [==============================] - 0s 28ms/step - loss: 2.0771 - mae: 2.0771\n",
            "Epoch 6/100\n",
            "1/1 [==============================] - 0s 34ms/step - loss: 4.7984 - mae: 4.7984\n",
            "Epoch 7/100\n",
            "1/1 [==============================] - 0s 26ms/step - loss: 1.8337 - mae: 1.8337\n",
            "Epoch 8/100\n",
            "1/1 [==============================] - 0s 33ms/step - loss: 3.8225 - mae: 3.8225\n",
            "Epoch 9/100\n",
            "1/1 [==============================] - 0s 13ms/step - loss: 3.9703 - mae: 3.9703\n",
            "Epoch 10/100\n",
            "1/1 [==============================] - 0s 7ms/step - loss: 2.1125 - mae: 2.1125\n",
            "Epoch 11/100\n",
            "1/1 [==============================] - 0s 8ms/step - loss: 3.4166 - mae: 3.4166\n",
            "Epoch 12/100\n",
            "1/1 [==============================] - 0s 8ms/step - loss: 3.0335 - mae: 3.0335\n",
            "Epoch 13/100\n",
            "1/1 [==============================] - 0s 12ms/step - loss: 0.6101 - mae: 0.6101\n",
            "Epoch 14/100\n",
            "1/1 [==============================] - 0s 18ms/step - loss: 1.9709 - mae: 1.9709\n",
            "Epoch 15/100\n",
            "1/1 [==============================] - 0s 26ms/step - loss: 0.7711 - mae: 0.7711\n",
            "Epoch 16/100\n",
            "1/1 [==============================] - 0s 24ms/step - loss: 3.1459 - mae: 3.1459\n",
            "Epoch 17/100\n",
            "1/1 [==============================] - 0s 16ms/step - loss: 2.7493 - mae: 2.7493\n",
            "Epoch 18/100\n",
            "1/1 [==============================] - 0s 17ms/step - loss: 0.4032 - mae: 0.4032\n",
            "Epoch 19/100\n",
            "1/1 [==============================] - 0s 9ms/step - loss: 0.8167 - mae: 0.8167\n",
            "Epoch 20/100\n",
            "1/1 [==============================] - 0s 25ms/step - loss: 0.6916 - mae: 0.6916\n",
            "Epoch 21/100\n",
            "1/1 [==============================] - 0s 21ms/step - loss: 0.2525 - mae: 0.2525\n",
            "Epoch 22/100\n",
            "1/1 [==============================] - 0s 28ms/step - loss: 0.6506 - mae: 0.6506\n",
            "Epoch 23/100\n",
            "1/1 [==============================] - 0s 39ms/step - loss: 0.5101 - mae: 0.5101\n",
            "Epoch 24/100\n",
            "1/1 [==============================] - 0s 29ms/step - loss: 0.6264 - mae: 0.6264\n",
            "Epoch 25/100\n",
            "1/1 [==============================] - 0s 19ms/step - loss: 0.6231 - mae: 0.6231\n",
            "Epoch 26/100\n",
            "1/1 [==============================] - 0s 17ms/step - loss: 0.1372 - mae: 0.1372\n",
            "Epoch 27/100\n",
            "1/1 [==============================] - 0s 15ms/step - loss: 0.8956 - mae: 0.8956\n",
            "Epoch 28/100\n",
            "1/1 [==============================] - 0s 10ms/step - loss: 0.3683 - mae: 0.3683\n",
            "Epoch 29/100\n",
            "1/1 [==============================] - 0s 15ms/step - loss: 2.0249 - mae: 2.0249\n",
            "Epoch 30/100\n",
            "1/1 [==============================] - 0s 12ms/step - loss: 1.8765 - mae: 1.8765\n",
            "Epoch 31/100\n",
            "1/1 [==============================] - 0s 16ms/step - loss: 0.1159 - mae: 0.1159\n",
            "Epoch 32/100\n",
            "1/1 [==============================] - 0s 36ms/step - loss: 0.2118 - mae: 0.2118\n",
            "Epoch 33/100\n",
            "1/1 [==============================] - 0s 19ms/step - loss: 1.2711 - mae: 1.2711\n",
            "Epoch 34/100\n",
            "1/1 [==============================] - 0s 12ms/step - loss: 0.9652 - mae: 0.9652\n",
            "Epoch 35/100\n",
            "1/1 [==============================] - 0s 27ms/step - loss: 0.7173 - mae: 0.7173\n",
            "Epoch 36/100\n",
            "1/1 [==============================] - 0s 24ms/step - loss: 0.8905 - mae: 0.8905\n",
            "Epoch 37/100\n",
            "1/1 [==============================] - 0s 23ms/step - loss: 0.1697 - mae: 0.1697\n",
            "Epoch 38/100\n",
            "1/1 [==============================] - 0s 24ms/step - loss: 0.3157 - mae: 0.3157\n",
            "Epoch 39/100\n",
            "1/1 [==============================] - 0s 14ms/step - loss: 0.6338 - mae: 0.6338\n",
            "Epoch 40/100\n",
            "1/1 [==============================] - 0s 9ms/step - loss: 0.0415 - mae: 0.0415\n",
            "Epoch 41/100\n",
            "1/1 [==============================] - 0s 9ms/step - loss: 1.6372 - mae: 1.6372\n",
            "Epoch 42/100\n",
            "1/1 [==============================] - 0s 9ms/step - loss: 2.0465 - mae: 2.0465\n",
            "Epoch 43/100\n",
            "1/1 [==============================] - 0s 12ms/step - loss: 1.0046 - mae: 1.0046\n",
            "Epoch 44/100\n",
            "1/1 [==============================] - 0s 10ms/step - loss: 1.7188 - mae: 1.7188\n",
            "Epoch 45/100\n",
            "1/1 [==============================] - 0s 9ms/step - loss: 1.7310 - mae: 1.7310\n",
            "Epoch 46/100\n",
            "1/1 [==============================] - 0s 10ms/step - loss: 0.1102 - mae: 0.1102\n",
            "Epoch 47/100\n",
            "1/1 [==============================] - 0s 13ms/step - loss: 1.9415 - mae: 1.9415\n",
            "Epoch 48/100\n",
            "1/1 [==============================] - 0s 22ms/step - loss: 2.4335 - mae: 2.4335\n",
            "Epoch 49/100\n",
            "1/1 [==============================] - 0s 12ms/step - loss: 2.0453 - mae: 2.0453\n",
            "Epoch 50/100\n",
            "1/1 [==============================] - 0s 13ms/step - loss: 0.8315 - mae: 0.8315\n",
            "Epoch 51/100\n",
            "1/1 [==============================] - 0s 37ms/step - loss: 1.7184 - mae: 1.7184\n",
            "Epoch 52/100\n",
            "1/1 [==============================] - 0s 35ms/step - loss: 2.6118 - mae: 2.6118\n",
            "Epoch 53/100\n",
            "1/1 [==============================] - 0s 25ms/step - loss: 1.8467 - mae: 1.8467\n",
            "Epoch 54/100\n",
            "1/1 [==============================] - 0s 19ms/step - loss: 0.2710 - mae: 0.2710\n",
            "Epoch 55/100\n",
            "1/1 [==============================] - 0s 31ms/step - loss: 0.8940 - mae: 0.8940\n",
            "Epoch 56/100\n",
            "1/1 [==============================] - 0s 12ms/step - loss: 0.6006 - mae: 0.6006\n",
            "Epoch 57/100\n",
            "1/1 [==============================] - 0s 15ms/step - loss: 0.7709 - mae: 0.7709\n",
            "Epoch 58/100\n",
            "1/1 [==============================] - 0s 20ms/step - loss: 0.8636 - mae: 0.8636\n",
            "Epoch 59/100\n",
            "1/1 [==============================] - 0s 20ms/step - loss: 0.2769 - mae: 0.2769\n",
            "Epoch 60/100\n",
            "1/1 [==============================] - 0s 12ms/step - loss: 0.1568 - mae: 0.1568\n",
            "Epoch 61/100\n",
            "1/1 [==============================] - 0s 16ms/step - loss: 1.0866 - mae: 1.0866\n",
            "Epoch 62/100\n",
            "1/1 [==============================] - 0s 23ms/step - loss: 0.9894 - mae: 0.9894\n",
            "Epoch 63/100\n",
            "1/1 [==============================] - 0s 11ms/step - loss: 0.1952 - mae: 0.1952\n",
            "Epoch 64/100\n",
            "1/1 [==============================] - 0s 24ms/step - loss: 0.2496 - mae: 0.2496\n",
            "Epoch 65/100\n",
            "1/1 [==============================] - 0s 16ms/step - loss: 0.7381 - mae: 0.7381\n",
            "Epoch 66/100\n",
            "1/1 [==============================] - 0s 13ms/step - loss: 0.4882 - mae: 0.4882\n",
            "Epoch 67/100\n",
            "1/1 [==============================] - 0s 21ms/step - loss: 0.7739 - mae: 0.7739\n",
            "Epoch 68/100\n",
            "1/1 [==============================] - 0s 24ms/step - loss: 0.9435 - mae: 0.9435\n",
            "Epoch 69/100\n",
            "1/1 [==============================] - 0s 13ms/step - loss: 0.2142 - mae: 0.2142\n",
            "Epoch 70/100\n",
            "1/1 [==============================] - 0s 15ms/step - loss: 1.5504 - mae: 1.5504\n",
            "Epoch 71/100\n",
            "1/1 [==============================] - 0s 11ms/step - loss: 1.9631 - mae: 1.9631\n",
            "Epoch 72/100\n",
            "1/1 [==============================] - 0s 8ms/step - loss: 1.0567 - mae: 1.0567\n",
            "Epoch 73/100\n",
            "1/1 [==============================] - 0s 15ms/step - loss: 0.7603 - mae: 0.7603\n",
            "Epoch 74/100\n",
            "1/1 [==============================] - 0s 13ms/step - loss: 1.3831 - mae: 1.3831\n",
            "Epoch 75/100\n",
            "1/1 [==============================] - 0s 16ms/step - loss: 1.1352 - mae: 1.1352\n",
            "Epoch 76/100\n",
            "1/1 [==============================] - 0s 12ms/step - loss: 0.1255 - mae: 0.1255\n",
            "Epoch 77/100\n",
            "1/1 [==============================] - 0s 17ms/step - loss: 0.8634 - mae: 0.8634\n",
            "Epoch 78/100\n",
            "1/1 [==============================] - 0s 15ms/step - loss: 0.6214 - mae: 0.6214\n",
            "Epoch 79/100\n",
            "1/1 [==============================] - 0s 11ms/step - loss: 0.5884 - mae: 0.5884\n",
            "Epoch 80/100\n",
            "1/1 [==============================] - 0s 12ms/step - loss: 0.7781 - mae: 0.7781\n",
            "Epoch 81/100\n",
            "1/1 [==============================] - 0s 12ms/step - loss: 0.1307 - mae: 0.1307\n",
            "Epoch 82/100\n",
            "1/1 [==============================] - 0s 15ms/step - loss: 1.5055 - mae: 1.5055\n",
            "Epoch 83/100\n",
            "1/1 [==============================] - 0s 11ms/step - loss: 1.8615 - mae: 1.8615\n",
            "Epoch 84/100\n",
            "1/1 [==============================] - 0s 26ms/step - loss: 0.9872 - mae: 0.9872\n",
            "Epoch 85/100\n",
            "1/1 [==============================] - 0s 11ms/step - loss: 0.7427 - mae: 0.7427\n",
            "Epoch 86/100\n",
            "1/1 [==============================] - 0s 12ms/step - loss: 1.3446 - mae: 1.3446\n",
            "Epoch 87/100\n",
            "1/1 [==============================] - 0s 17ms/step - loss: 1.1178 - mae: 1.1178\n",
            "Epoch 88/100\n",
            "1/1 [==============================] - 0s 12ms/step - loss: 0.1089 - mae: 0.1089\n",
            "Epoch 89/100\n",
            "1/1 [==============================] - 0s 13ms/step - loss: 1.2763 - mae: 1.2763\n",
            "Epoch 90/100\n",
            "1/1 [==============================] - 0s 10ms/step - loss: 1.4579 - mae: 1.4579\n",
            "Epoch 91/100\n",
            "1/1 [==============================] - 0s 11ms/step - loss: 0.5403 - mae: 0.5403\n",
            "Epoch 92/100\n",
            "1/1 [==============================] - 0s 14ms/step - loss: 1.1286 - mae: 1.1286\n",
            "Epoch 93/100\n",
            "1/1 [==============================] - 0s 14ms/step - loss: 1.7535 - mae: 1.7535\n",
            "Epoch 94/100\n",
            "1/1 [==============================] - 0s 9ms/step - loss: 1.6254 - mae: 1.6254\n",
            "Epoch 95/100\n",
            "1/1 [==============================] - 0s 13ms/step - loss: 0.8171 - mae: 0.8171\n",
            "Epoch 96/100\n",
            "1/1 [==============================] - 0s 17ms/step - loss: 0.8251 - mae: 0.8251\n",
            "Epoch 97/100\n",
            "1/1 [==============================] - 0s 11ms/step - loss: 1.3799 - mae: 1.3799\n",
            "Epoch 98/100\n",
            "1/1 [==============================] - 0s 8ms/step - loss: 0.8265 - mae: 0.8265\n",
            "Epoch 99/100\n",
            "1/1 [==============================] - 0s 14ms/step - loss: 0.6015 - mae: 0.6015\n",
            "Epoch 100/100\n",
            "1/1 [==============================] - 0s 11ms/step - loss: 0.9886 - mae: 0.9886\n"
          ]
        },
        {
          "output_type": "execute_result",
          "data": {
            "text/plain": [
              "array([[9.404751]], dtype=float32)"
            ]
          },
          "metadata": {},
          "execution_count": 7
        }
      ]
    },
    {
      "cell_type": "code",
      "source": [
        "# visualiztion\n",
        "\n",
        "x_test = tf.expand_dims(tf.range(0, 10, delta=2), axis=-1)\n",
        "y_test = model_2.predict(x_test)\n",
        "plt.plot(x_test, y_test)\n"
      ],
      "metadata": {
        "colab": {
          "base_uri": "https://localhost:8080/",
          "height": 282
        },
        "id": "0UdNcpW_QQTQ",
        "outputId": "91c23b85-201c-493a-98fb-4a8a708efd6a"
      },
      "execution_count": null,
      "outputs": [
        {
          "output_type": "execute_result",
          "data": {
            "text/plain": [
              "[<matplotlib.lines.Line2D at 0x7fefdbbe3310>]"
            ]
          },
          "metadata": {},
          "execution_count": 8
        },
        {
          "output_type": "display_data",
          "data": {
            "text/plain": [
              "<Figure size 432x288 with 1 Axes>"
            ],
            "image/png": "[encoded data removed]"
          },
          "metadata": {
            "needs_background": "light"
          }
        }
      ]
    },
    {
      "cell_type": "code",
      "source": [
        "# splitting train and test data\n",
        "\n",
        "x_full = tf.range(0, 100, 3)\n",
        "y_full = x_full +10\n",
        "\n",
        "x_train = x_full[:int(len(x_full)*0.7)]\n",
        "y_train = y_full[:int(len(y_full)*0.7)]\n",
        "\n",
        "x_test = x_full[int(len(x_full)*0.7):]\n",
        "y_test = y_full[int(len(y_full)*0.7):]"
      ],
      "metadata": {
        "id": "n6-SHDlbR4-7"
      },
      "execution_count": null,
      "outputs": []
    },
    {
      "cell_type": "code",
      "source": [
        "plt.figure()\n",
        "plt.scatter(x_train, y_train, c=\"b\", label=\"train data\")\n",
        "plt.scatter(x_test, y_test, c=\"c\", label=\"test data\")\n",
        "plt.legend()"
      ],
      "metadata": {
        "id": "CVAPyOiZTgSP",
        "colab": {
          "base_uri": "https://localhost:8080/",
          "height": 282
        },
        "outputId": "e907bb50-7c7b-4334-91a5-0c5dadcd4846"
      },
      "execution_count": null,
      "outputs": [
        {
          "output_type": "execute_result",
          "data": {
            "text/plain": [
              "<matplotlib.legend.Legend at 0x7fefdb3839d0>"
            ]
          },
          "metadata": {},
          "execution_count": 10
        },
        {
          "output_type": "display_data",
          "data": {
            "text/plain": [
              "<Figure size 432x288 with 1 Axes>"
            ],
            "image/png": "[encoded data removed]"
          },
          "metadata": {
            "needs_background": "light"
          }
        }
      ]
    },
    {
      "cell_type": "code",
      "source": [
        "model_3 = tf.keras.Sequential([\n",
        "    tf.keras.layers.Dense(100, input_shape=[1], activation=\"relu\", name=\"input_layer\"),\n",
        "    tf.keras.layers.Dense(1, name=\"output_layer\")\n",
        "], name=\"model_3\")\n",
        "\n",
        "model_3.compile(loss=\"mae\",\n",
        "                optimizer=tf.keras.optimizers.Adam(lr=0.01),\n",
        "                metrics=[\"mae\"])\n",
        "model_3.fit(x_test, y_test, epochs=100, verbose=0)"
      ],
      "metadata": {
        "colab": {
          "base_uri": "https://localhost:8080/"
        },
        "id": "UBhW5snLE1MB",
        "outputId": "38bb2e5f-d50e-4027-fa41-5a31237e9c5a"
      },
      "execution_count": null,
      "outputs": [
        {
          "output_type": "stream",
          "name": "stderr",
          "text": [
            "/usr/local/lib/python3.7/dist-packages/keras/optimizer_v2/adam.py:105: UserWarning: The `lr` argument is deprecated, use `learning_rate` instead.\n",
            "  super(Adam, self).__init__(name, **kwargs)\n"
          ]
        },
        {
          "output_type": "execute_result",
          "data": {
            "text/plain": [
              "<keras.callbacks.History at 0x7fefdb2f20d0>"
            ]
          },
          "metadata": {},
          "execution_count": 11
        }
      ]
    },
    {
      "cell_type": "code",
      "source": [
        "model_3.summary()"
      ],
      "metadata": {
        "colab": {
          "base_uri": "https://localhost:8080/"
        },
        "id": "-jpEJoA_FxxQ",
        "outputId": "5c3acfa9-c2fa-436d-9ef2-a3e29191eee6"
      },
      "execution_count": null,
      "outputs": [
        {
          "output_type": "stream",
          "name": "stdout",
          "text": [
            "Model: \"model_3\"\n",
            "_________________________________________________________________\n",
            " Layer (type)                Output Shape              Param #   \n",
            "=================================================================\n",
            " input_layer (Dense)         (None, 100)               200       \n",
            "                                                                 \n",
            " output_layer (Dense)        (None, 1)                 101       \n",
            "                                                                 \n",
            "=================================================================\n",
            "Total params: 301\n",
            "Trainable params: 301\n",
            "Non-trainable params: 0\n",
            "_________________________________________________________________\n"
          ]
        }
      ]
    },
    {
      "cell_type": "code",
      "source": [
        "y_pred = model_3.predict(x_test)\n",
        "\n",
        "plt.plot(x_test,y_pred, c=\"b\", label=\"predictions\")\n",
        "plt.scatter(x_test, y_test, c=\"r\", label=\"actual value\")\n",
        "plt.legend()"
      ],
      "metadata": {
        "colab": {
          "base_uri": "https://localhost:8080/",
          "height": 282
        },
        "id": "O9U3oSaJGlVJ",
        "outputId": "da5c2293-ced2-40fd-bc49-bdb69c2cb884"
      },
      "execution_count": null,
      "outputs": [
        {
          "output_type": "execute_result",
          "data": {
            "text/plain": [
              "<matplotlib.legend.Legend at 0x7fefdb348250>"
            ]
          },
          "metadata": {},
          "execution_count": 13
        },
        {
          "output_type": "display_data",
          "data": {
            "text/plain": [
              "<Figure size 432x288 with 1 Axes>"
            ],
            "image/png": "[encoded data removed]"
          },
          "metadata": {
            "needs_background": "light"
          }
        }
      ]
    },
    {
      "cell_type": "code",
      "source": [
        "from tensorflow.keras.utils import plot_model\n",
        "\n",
        "plot_model(model_3, show_shapes=True)"
      ],
      "metadata": {
        "colab": {
          "base_uri": "https://localhost:8080/",
          "height": 312
        },
        "id": "onKjhqwVISbK",
        "outputId": "b663789a-e07b-42fc-9a7f-362f6d4a2749"
      },
      "execution_count": null,
      "outputs": [
        {
          "output_type": "execute_result",
          "data": {
            "image/png": "[encoded data removed]",
            "text/plain": [
              "<IPython.core.display.Image object>"
            ]
          },
          "metadata": {},
          "execution_count": 14
        }
      ]
    },
    {
      "cell_type": "markdown",
      "source": [
        "##Evaluation Metrics"
      ],
      "metadata": {
        "id": "10XJ7oBjLPm4"
      }
    },
    {
      "cell_type": "code",
      "source": [
        "model_3.evaluate(x_test, y_test)"
      ],
      "metadata": {
        "colab": {
          "base_uri": "https://localhost:8080/"
        },
        "id": "S1uYIqUJLOjY",
        "outputId": "2cf8d24e-39ed-429e-c826-d7bef56b54ee"
      },
      "execution_count": null,
      "outputs": [
        {
          "output_type": "stream",
          "name": "stdout",
          "text": [
            "1/1 [==============================] - 0s 325ms/step - loss: 0.8829 - mae: 0.8829\n"
          ]
        },
        {
          "output_type": "execute_result",
          "data": {
            "text/plain": [
              "[0.8829429149627686, 0.8829429149627686]"
            ]
          },
          "metadata": {},
          "execution_count": 15
        }
      ]
    },
    {
      "cell_type": "code",
      "source": [
        "y_pred"
      ],
      "metadata": {
        "colab": {
          "base_uri": "https://localhost:8080/"
        },
        "id": "7gFwxZHLPjGW",
        "outputId": "a0847257-1ae0-43e5-baa2-c0d536bc4bbd"
      },
      "execution_count": null,
      "outputs": [
        {
          "output_type": "execute_result",
          "data": {
            "text/plain": [
              "array([[ 77.14153 ],\n",
              "       [ 80.45569 ],\n",
              "       [ 83.769844],\n",
              "       [ 87.08401 ],\n",
              "       [ 90.39816 ],\n",
              "       [ 93.71232 ],\n",
              "       [ 97.026474],\n",
              "       [100.34063 ],\n",
              "       [103.654785],\n",
              "       [106.96894 ],\n",
              "       [110.2831  ]], dtype=float32)"
            ]
          },
          "metadata": {},
          "execution_count": 16
        }
      ]
    },
    {
      "cell_type": "code",
      "source": [
        "# mean absolute error\n",
        "tf.metrics.mae(y_true=y_test, y_pred=tf.squeeze(y_pred))"
      ],
      "metadata": {
        "colab": {
          "base_uri": "https://localhost:8080/"
        },
        "id": "I58HXh5hOg8e",
        "outputId": "6f497dad-344e-41b7-ea5f-d8f8325910fb"
      },
      "execution_count": null,
      "outputs": [
        {
          "output_type": "execute_result",
          "data": {
            "text/plain": [
              "<tf.Tensor: shape=(), dtype=float32, numpy=0.8829429>"
            ]
          },
          "metadata": {},
          "execution_count": 17
        }
      ]
    },
    {
      "cell_type": "code",
      "source": [
        "# mean square error\n",
        "tf.metrics.mse(y_true=y_test, y_pred=tf.squeeze(y_pred))"
      ],
      "metadata": {
        "colab": {
          "base_uri": "https://localhost:8080/"
        },
        "id": "3YcFdpNeP1YS",
        "outputId": "d6e23d1b-500d-4d81-e79a-72371fde3030"
      },
      "execution_count": null,
      "outputs": [
        {
          "output_type": "execute_result",
          "data": {
            "text/plain": [
              "<tf.Tensor: shape=(), dtype=float32, numpy=1.0697044>"
            ]
          },
          "metadata": {},
          "execution_count": 18
        }
      ]
    },
    {
      "cell_type": "markdown",
      "source": [
        "##Saving models\n"
      ],
      "metadata": {
        "id": "BBJzLWCFBiTX"
      }
    },
    {
      "cell_type": "code",
      "source": [
        "# SavedModel format\n",
        "model_3.save(\"tf_2\")"
      ],
      "metadata": {
        "id": "b1XFzoD-BkgE"
      },
      "execution_count": null,
      "outputs": []
    },
    {
      "cell_type": "code",
      "source": [
        "# HDF5 format\n",
        "model_3.save(\"tf_2_hdf5.h5\")"
      ],
      "metadata": {
        "id": "sLmo5tORCtSY"
      },
      "execution_count": null,
      "outputs": []
    },
    {
      "cell_type": "markdown",
      "source": [
        "##Loading models\n"
      ],
      "metadata": {
        "id": "156zNml4DE2V"
      }
    },
    {
      "cell_type": "code",
      "source": [
        "# SavedModel\n",
        "loaded_model = tf.keras.models.load_model(\"/content/tf_2\")\n",
        "loaded_model.summary()"
      ],
      "metadata": {
        "colab": {
          "base_uri": "https://localhost:8080/"
        },
        "id": "t48Mz9M9DGxh",
        "outputId": "560e8716-538e-42e3-8e58-389c246032f3"
      },
      "execution_count": null,
      "outputs": [
        {
          "output_type": "stream",
          "name": "stdout",
          "text": [
            "Model: \"model_3\"\n",
            "_________________________________________________________________\n",
            " Layer (type)                Output Shape              Param #   \n",
            "=================================================================\n",
            " input_layer (Dense)         (None, 100)               200       \n",
            "                                                                 \n",
            " output_layer (Dense)        (None, 1)                 101       \n",
            "                                                                 \n",
            "=================================================================\n",
            "Total params: 301\n",
            "Trainable params: 301\n",
            "Non-trainable params: 0\n",
            "_________________________________________________________________\n"
          ]
        }
      ]
    },
    {
      "cell_type": "markdown",
      "source": [
        "##Medical cost model"
      ],
      "metadata": {
        "id": "VZsw6n4WITV4"
      }
    },
    {
      "cell_type": "code",
      "source": [
        "insurance = pd.read_csv(\"/content/drive/MyDrive/ML/insurance.csv\")\n",
        "insurance"
      ],
      "metadata": {
        "colab": {
          "base_uri": "https://localhost:8080/"
        },
        "id": "p61uvLqMIR-u",
        "outputId": "d5e253a8-a3a5-431f-86bf-71bdb9960873"
      },
      "execution_count": null,
      "outputs": [
        {
          "output_type": "execute_result",
          "data": {
            "text/plain": [
              "      age     sex     bmi  children smoker     region      charges\n",
              "0      19  female  27.900         0    yes  southwest  16884.92400\n",
              "1      18    male  33.770         1     no  southeast   1725.55230\n",
              "2      28    male  33.000         3     no  southeast   4449.46200\n",
              "3      33    male  22.705         0     no  northwest  21984.47061\n",
              "4      32    male  28.880         0     no  northwest   3866.85520\n",
              "...   ...     ...     ...       ...    ...        ...          ...\n",
              "1333   50    male  30.970         3     no  northwest  10600.54830\n",
              "1334   18  female  31.920         0     no  northeast   2205.98080\n",
              "1335   18  female  36.850         0     no  southeast   1629.83350\n",
              "1336   21  female  25.800         0     no  southwest   2007.94500\n",
              "1337   61  female  29.070         0    yes  northwest  29141.36030\n",
              "\n",
              "[1338 rows x 7 columns]"
            ],
            "text/html": [
              "\n",
              "  <div id=\"df-ec897751-5e0b-4fc9-b0ba-e117b056ce44\">\n",
              "    <div class=\"colab-df-container\">\n",
              "      <div>\n",
              "<style scoped>\n",
              "    .dataframe tbody tr th:only-of-type {\n",
              "        vertical-align: middle;\n",
              "    }\n",
              "\n",
              "    .dataframe tbody tr th {\n",
              "        vertical-align: top;\n",
              "    }\n",
              "\n",
              "    .dataframe thead th {\n",
              "        text-align: right;\n",
              "    }\n",
              "</style>\n",
              "<table border=\"1\" class=\"dataframe\">\n",
              "  <thead>\n",
              "    <tr style=\"text-align: right;\">\n",
              "      <th></th>\n",
              "      <th>age</th>\n",
              "      <th>sex</th>\n",
              "      <th>bmi</th>\n",
              "      <th>children</th>\n",
              "      <th>smoker</th>\n",
              "      <th>region</th>\n",
              "      <th>charges</th>\n",
              "    </tr>\n",
              "  </thead>\n",
              "  <tbody>\n",
              "    <tr>\n",
              "      <th>0</th>\n",
              "      <td>19</td>\n",
              "      <td>female</td>\n",
              "      <td>27.900</td>\n",
              "      <td>0</td>\n",
              "      <td>yes</td>\n",
              "      <td>southwest</td>\n",
              "      <td>16884.92400</td>\n",
              "    </tr>\n",
              "    <tr>\n",
              "      <th>1</th>\n",
              "      <td>18</td>\n",
              "      <td>male</td>\n",
              "      <td>33.770</td>\n",
              "      <td>1</td>\n",
              "      <td>no</td>\n",
              "      <td>southeast</td>\n",
              "      <td>1725.55230</td>\n",
              "    </tr>\n",
              "    <tr>\n",
              "      <th>2</th>\n",
              "      <td>28</td>\n",
              "      <td>male</td>\n",
              "      <td>33.000</td>\n",
              "      <td>3</td>\n",
              "      <td>no</td>\n",
              "      <td>southeast</td>\n",
              "      <td>4449.46200</td>\n",
              "    </tr>\n",
              "    <tr>\n",
              "      <th>3</th>\n",
              "      <td>33</td>\n",
              "      <td>male</td>\n",
              "      <td>22.705</td>\n",
              "      <td>0</td>\n",
              "      <td>no</td>\n",
              "      <td>northwest</td>\n",
              "      <td>21984.47061</td>\n",
              "    </tr>\n",
              "    <tr>\n",
              "      <th>4</th>\n",
              "      <td>32</td>\n",
              "      <td>male</td>\n",
              "      <td>28.880</td>\n",
              "      <td>0</td>\n",
              "      <td>no</td>\n",
              "      <td>northwest</td>\n",
              "      <td>3866.85520</td>\n",
              "    </tr>\n",
              "    <tr>\n",
              "      <th>...</th>\n",
              "      <td>...</td>\n",
              "      <td>...</td>\n",
              "      <td>...</td>\n",
              "      <td>...</td>\n",
              "      <td>...</td>\n",
              "      <td>...</td>\n",
              "      <td>...</td>\n",
              "    </tr>\n",
              "    <tr>\n",
              "      <th>1333</th>\n",
              "      <td>50</td>\n",
              "      <td>male</td>\n",
              "      <td>30.970</td>\n",
              "      <td>3</td>\n",
              "      <td>no</td>\n",
              "      <td>northwest</td>\n",
              "      <td>10600.54830</td>\n",
              "    </tr>\n",
              "    <tr>\n",
              "      <th>1334</th>\n",
              "      <td>18</td>\n",
              "      <td>female</td>\n",
              "      <td>31.920</td>\n",
              "      <td>0</td>\n",
              "      <td>no</td>\n",
              "      <td>northeast</td>\n",
              "      <td>2205.98080</td>\n",
              "    </tr>\n",
              "    <tr>\n",
              "      <th>1335</th>\n",
              "      <td>18</td>\n",
              "      <td>female</td>\n",
              "      <td>36.850</td>\n",
              "      <td>0</td>\n",
              "      <td>no</td>\n",
              "      <td>southeast</td>\n",
              "      <td>1629.83350</td>\n",
              "    </tr>\n",
              "    <tr>\n",
              "      <th>1336</th>\n",
              "      <td>21</td>\n",
              "      <td>female</td>\n",
              "      <td>25.800</td>\n",
              "      <td>0</td>\n",
              "      <td>no</td>\n",
              "      <td>southwest</td>\n",
              "      <td>2007.94500</td>\n",
              "    </tr>\n",
              "    <tr>\n",
              "      <th>1337</th>\n",
              "      <td>61</td>\n",
              "      <td>female</td>\n",
              "      <td>29.070</td>\n",
              "      <td>0</td>\n",
              "      <td>yes</td>\n",
              "      <td>northwest</td>\n",
              "      <td>29141.36030</td>\n",
              "    </tr>\n",
              "  </tbody>\n",
              "</table>\n",
              "<p>1338 rows × 7 columns</p>\n",
              "</div>\n",
              "      <button class=\"colab-df-convert\" onclick=\"convertToInteractive('df-ec897751-5e0b-4fc9-b0ba-e117b056ce44')\"\n",
              "              title=\"Convert this dataframe to an interactive table.\"\n",
              "              style=\"display:none;\">\n",
              "        \n",
              "  <svg xmlns=\"http://www.w3.org/2000/svg\" height=\"24px\"viewBox=\"0 0 24 24\"\n",
              "       width=\"24px\">\n",
              "    <path d=\"M0 0h24v24H0V0z\" fill=\"none\"/>\n",
              "    <path d=\"M18.56 5.44l.94 2.06.94-2.06 2.06-.94-2.06-.94-.94-2.06-.94 2.06-2.06.94zm-11 1L8.5 8.5l.94-2.06 2.06-.94-2.06-.94L8.5 2.5l-.94 2.06-2.06.94zm10 10l.94 2.06.94-2.06 2.06-.94-2.06-.94-.94-2.06-.94 2.06-2.06.94z\"/><path d=\"M17.41 7.96l-1.37-1.37c-.4-.4-.92-.59-1.43-.59-.52 0-1.04.2-1.43.59L10.3 9.45l-7.72 7.72c-.78.78-.78 2.05 0 2.83L4 21.41c.39.39.9.59 1.41.59.51 0 1.02-.2 1.41-.59l7.78-7.78 2.81-2.81c.8-.78.8-2.07 0-2.86zM5.41 20L4 18.59l7.72-7.72 1.47 1.35L5.41 20z\"/>\n",
              "  </svg>\n",
              "      </button>\n",
              "      \n",
              "  <style>\n",
              "    .colab-df-container {\n",
              "      display:flex;\n",
              "      flex-wrap:wrap;\n",
              "      gap: 12px;\n",
              "    }\n",
              "\n",
              "    .colab-df-convert {\n",
              "      background-color: #E8F0FE;\n",
              "      border: none;\n",
              "      border-radius: 50%;\n",
              "      cursor: pointer;\n",
              "      display: none;\n",
              "      fill: #1967D2;\n",
              "      height: 32px;\n",
              "      padding: 0 0 0 0;\n",
              "      width: 32px;\n",
              "    }\n",
              "\n",
              "    .colab-df-convert:hover {\n",
              "      background-color: #E2EBFA;\n",
              "      box-shadow: 0px 1px 2px rgba(60, 64, 67, 0.3), 0px 1px 3px 1px rgba(60, 64, 67, 0.15);\n",
              "      fill: #174EA6;\n",
              "    }\n",
              "\n",
              "    [theme=dark] .colab-df-convert {\n",
              "      background-color: #3B4455;\n",
              "      fill: #D2E3FC;\n",
              "    }\n",
              "\n",
              "    [theme=dark] .colab-df-convert:hover {\n",
              "      background-color: #434B5C;\n",
              "      box-shadow: 0px 1px 3px 1px rgba(0, 0, 0, 0.15);\n",
              "      filter: drop-shadow(0px 1px 2px rgba(0, 0, 0, 0.3));\n",
              "      fill: #FFFFFF;\n",
              "    }\n",
              "  </style>\n",
              "\n",
              "      <script>\n",
              "        const buttonEl =\n",
              "          document.querySelector('#df-ec897751-5e0b-4fc9-b0ba-e117b056ce44 button.colab-df-convert');\n",
              "        buttonEl.style.display =\n",
              "          google.colab.kernel.accessAllowed ? 'block' : 'none';\n",
              "\n",
              "        async function convertToInteractive(key) {\n",
              "          const element = document.querySelector('#df-ec897751-5e0b-4fc9-b0ba-e117b056ce44');\n",
              "          const dataTable =\n",
              "            await google.colab.kernel.invokeFunction('convertToInteractive',\n",
              "                                                     [key], {});\n",
              "          if (!dataTable) return;\n",
              "\n",
              "          const docLinkHtml = 'Like what you see? Visit the ' +\n",
              "            '<a target=\"_blank\" href=https://colab.research.google.com/notebooks/data_table.ipynb>data table notebook</a>'\n",
              "            + ' to learn more about interactive tables.';\n",
              "          element.innerHTML = '';\n",
              "          dataTable['output_type'] = 'display_data';\n",
              "          await google.colab.output.renderOutput(dataTable, element);\n",
              "          const docLink = document.createElement('div');\n",
              "          docLink.innerHTML = docLinkHtml;\n",
              "          element.appendChild(docLink);\n",
              "        }\n",
              "      </script>\n",
              "    </div>\n",
              "  </div>\n",
              "  "
            ]
          },
          "metadata": {},
          "execution_count": 22
        }
      ]
    },
    {
      "cell_type": "code",
      "source": [
        "insurance_one_hot=pd.get_dummies(insurance)\n",
        "insurance_one_hot"
      ],
      "metadata": {
        "colab": {
          "base_uri": "https://localhost:8080/"
        },
        "id": "Bc6zvjn_hA8z",
        "outputId": "6088ca1a-ce56-4b89-bbdf-5d29cef3b533"
      },
      "execution_count": null,
      "outputs": [
        {
          "output_type": "execute_result",
          "data": {
            "text/plain": [
              "      age     bmi  children      charges  sex_female  sex_male  smoker_no  \\\n",
              "0      19  27.900         0  16884.92400           1         0          0   \n",
              "1      18  33.770         1   1725.55230           0         1          1   \n",
              "2      28  33.000         3   4449.46200           0         1          1   \n",
              "3      33  22.705         0  21984.47061           0         1          1   \n",
              "4      32  28.880         0   3866.85520           0         1          1   \n",
              "...   ...     ...       ...          ...         ...       ...        ...   \n",
              "1333   50  30.970         3  10600.54830           0         1          1   \n",
              "1334   18  31.920         0   2205.98080           1         0          1   \n",
              "1335   18  36.850         0   1629.83350           1         0          1   \n",
              "1336   21  25.800         0   2007.94500           1         0          1   \n",
              "1337   61  29.070         0  29141.36030           1         0          0   \n",
              "\n",
              "      smoker_yes  region_northeast  region_northwest  region_southeast  \\\n",
              "0              1                 0                 0                 0   \n",
              "1              0                 0                 0                 1   \n",
              "2              0                 0                 0                 1   \n",
              "3              0                 0                 1                 0   \n",
              "4              0                 0                 1                 0   \n",
              "...          ...               ...               ...               ...   \n",
              "1333           0                 0                 1                 0   \n",
              "1334           0                 1                 0                 0   \n",
              "1335           0                 0                 0                 1   \n",
              "1336           0                 0                 0                 0   \n",
              "1337           1                 0                 1                 0   \n",
              "\n",
              "      region_southwest  \n",
              "0                    1  \n",
              "1                    0  \n",
              "2                    0  \n",
              "3                    0  \n",
              "4                    0  \n",
              "...                ...  \n",
              "1333                 0  \n",
              "1334                 0  \n",
              "1335                 0  \n",
              "1336                 1  \n",
              "1337                 0  \n",
              "\n",
              "[1338 rows x 12 columns]"
            ],
            "text/html": [
              "\n",
              "  <div id=\"df-02bd000e-7791-43a3-89ee-740ed5422930\">\n",
              "    <div class=\"colab-df-container\">\n",
              "      <div>\n",
              "<style scoped>\n",
              "    .dataframe tbody tr th:only-of-type {\n",
              "        vertical-align: middle;\n",
              "    }\n",
              "\n",
              "    .dataframe tbody tr th {\n",
              "        vertical-align: top;\n",
              "    }\n",
              "\n",
              "    .dataframe thead th {\n",
              "        text-align: right;\n",
              "    }\n",
              "</style>\n",
              "<table border=\"1\" class=\"dataframe\">\n",
              "  <thead>\n",
              "    <tr style=\"text-align: right;\">\n",
              "      <th></th>\n",
              "      <th>age</th>\n",
              "      <th>bmi</th>\n",
              "      <th>children</th>\n",
              "      <th>charges</th>\n",
              "      <th>sex_female</th>\n",
              "      <th>sex_male</th>\n",
              "      <th>smoker_no</th>\n",
              "      <th>smoker_yes</th>\n",
              "      <th>region_northeast</th>\n",
              "      <th>region_northwest</th>\n",
              "      <th>region_southeast</th>\n",
              "      <th>region_southwest</th>\n",
              "    </tr>\n",
              "  </thead>\n",
              "  <tbody>\n",
              "    <tr>\n",
              "      <th>0</th>\n",
              "      <td>19</td>\n",
              "      <td>27.900</td>\n",
              "      <td>0</td>\n",
              "      <td>16884.92400</td>\n",
              "      <td>1</td>\n",
              "      <td>0</td>\n",
              "      <td>0</td>\n",
              "      <td>1</td>\n",
              "      <td>0</td>\n",
              "      <td>0</td>\n",
              "      <td>0</td>\n",
              "      <td>1</td>\n",
              "    </tr>\n",
              "    <tr>\n",
              "      <th>1</th>\n",
              "      <td>18</td>\n",
              "      <td>33.770</td>\n",
              "      <td>1</td>\n",
              "      <td>1725.55230</td>\n",
              "      <td>0</td>\n",
              "      <td>1</td>\n",
              "      <td>1</td>\n",
              "      <td>0</td>\n",
              "      <td>0</td>\n",
              "      <td>0</td>\n",
              "      <td>1</td>\n",
              "      <td>0</td>\n",
              "    </tr>\n",
              "    <tr>\n",
              "      <th>2</th>\n",
              "      <td>28</td>\n",
              "      <td>33.000</td>\n",
              "      <td>3</td>\n",
              "      <td>4449.46200</td>\n",
              "      <td>0</td>\n",
              "      <td>1</td>\n",
              "      <td>1</td>\n",
              "      <td>0</td>\n",
              "      <td>0</td>\n",
              "      <td>0</td>\n",
              "      <td>1</td>\n",
              "      <td>0</td>\n",
              "    </tr>\n",
              "    <tr>\n",
              "      <th>3</th>\n",
              "      <td>33</td>\n",
              "      <td>22.705</td>\n",
              "      <td>0</td>\n",
              "      <td>21984.47061</td>\n",
              "      <td>0</td>\n",
              "      <td>1</td>\n",
              "      <td>1</td>\n",
              "      <td>0</td>\n",
              "      <td>0</td>\n",
              "      <td>1</td>\n",
              "      <td>0</td>\n",
              "      <td>0</td>\n",
              "    </tr>\n",
              "    <tr>\n",
              "      <th>4</th>\n",
              "      <td>32</td>\n",
              "      <td>28.880</td>\n",
              "      <td>0</td>\n",
              "      <td>3866.85520</td>\n",
              "      <td>0</td>\n",
              "      <td>1</td>\n",
              "      <td>1</td>\n",
              "      <td>0</td>\n",
              "      <td>0</td>\n",
              "      <td>1</td>\n",
              "      <td>0</td>\n",
              "      <td>0</td>\n",
              "    </tr>\n",
              "    <tr>\n",
              "      <th>...</th>\n",
              "      <td>...</td>\n",
              "      <td>...</td>\n",
              "      <td>...</td>\n",
              "      <td>...</td>\n",
              "      <td>...</td>\n",
              "      <td>...</td>\n",
              "      <td>...</td>\n",
              "      <td>...</td>\n",
              "      <td>...</td>\n",
              "      <td>...</td>\n",
              "      <td>...</td>\n",
              "      <td>...</td>\n",
              "    </tr>\n",
              "    <tr>\n",
              "      <th>1333</th>\n",
              "      <td>50</td>\n",
              "      <td>30.970</td>\n",
              "      <td>3</td>\n",
              "      <td>10600.54830</td>\n",
              "      <td>0</td>\n",
              "      <td>1</td>\n",
              "      <td>1</td>\n",
              "      <td>0</td>\n",
              "      <td>0</td>\n",
              "      <td>1</td>\n",
              "      <td>0</td>\n",
              "      <td>0</td>\n",
              "    </tr>\n",
              "    <tr>\n",
              "      <th>1334</th>\n",
              "      <td>18</td>\n",
              "      <td>31.920</td>\n",
              "      <td>0</td>\n",
              "      <td>2205.98080</td>\n",
              "      <td>1</td>\n",
              "      <td>0</td>\n",
              "      <td>1</td>\n",
              "      <td>0</td>\n",
              "      <td>1</td>\n",
              "      <td>0</td>\n",
              "      <td>0</td>\n",
              "      <td>0</td>\n",
              "    </tr>\n",
              "    <tr>\n",
              "      <th>1335</th>\n",
              "      <td>18</td>\n",
              "      <td>36.850</td>\n",
              "      <td>0</td>\n",
              "      <td>1629.83350</td>\n",
              "      <td>1</td>\n",
              "      <td>0</td>\n",
              "      <td>1</td>\n",
              "      <td>0</td>\n",
              "      <td>0</td>\n",
              "      <td>0</td>\n",
              "      <td>1</td>\n",
              "      <td>0</td>\n",
              "    </tr>\n",
              "    <tr>\n",
              "      <th>1336</th>\n",
              "      <td>21</td>\n",
              "      <td>25.800</td>\n",
              "      <td>0</td>\n",
              "      <td>2007.94500</td>\n",
              "      <td>1</td>\n",
              "      <td>0</td>\n",
              "      <td>1</td>\n",
              "      <td>0</td>\n",
              "      <td>0</td>\n",
              "      <td>0</td>\n",
              "      <td>0</td>\n",
              "      <td>1</td>\n",
              "    </tr>\n",
              "    <tr>\n",
              "      <th>1337</th>\n",
              "      <td>61</td>\n",
              "      <td>29.070</td>\n",
              "      <td>0</td>\n",
              "      <td>29141.36030</td>\n",
              "      <td>1</td>\n",
              "      <td>0</td>\n",
              "      <td>0</td>\n",
              "      <td>1</td>\n",
              "      <td>0</td>\n",
              "      <td>1</td>\n",
              "      <td>0</td>\n",
              "      <td>0</td>\n",
              "    </tr>\n",
              "  </tbody>\n",
              "</table>\n",
              "<p>1338 rows × 12 columns</p>\n",
              "</div>\n",
              "      <button class=\"colab-df-convert\" onclick=\"convertToInteractive('df-02bd000e-7791-43a3-89ee-740ed5422930')\"\n",
              "              title=\"Convert this dataframe to an interactive table.\"\n",
              "              style=\"display:none;\">\n",
              "        \n",
              "  <svg xmlns=\"http://www.w3.org/2000/svg\" height=\"24px\"viewBox=\"0 0 24 24\"\n",
              "       width=\"24px\">\n",
              "    <path d=\"M0 0h24v24H0V0z\" fill=\"none\"/>\n",
              "    <path d=\"M18.56 5.44l.94 2.06.94-2.06 2.06-.94-2.06-.94-.94-2.06-.94 2.06-2.06.94zm-11 1L8.5 8.5l.94-2.06 2.06-.94-2.06-.94L8.5 2.5l-.94 2.06-2.06.94zm10 10l.94 2.06.94-2.06 2.06-.94-2.06-.94-.94-2.06-.94 2.06-2.06.94z\"/><path d=\"M17.41 7.96l-1.37-1.37c-.4-.4-.92-.59-1.43-.59-.52 0-1.04.2-1.43.59L10.3 9.45l-7.72 7.72c-.78.78-.78 2.05 0 2.83L4 21.41c.39.39.9.59 1.41.59.51 0 1.02-.2 1.41-.59l7.78-7.78 2.81-2.81c.8-.78.8-2.07 0-2.86zM5.41 20L4 18.59l7.72-7.72 1.47 1.35L5.41 20z\"/>\n",
              "  </svg>\n",
              "      </button>\n",
              "      \n",
              "  <style>\n",
              "    .colab-df-container {\n",
              "      display:flex;\n",
              "      flex-wrap:wrap;\n",
              "      gap: 12px;\n",
              "    }\n",
              "\n",
              "    .colab-df-convert {\n",
              "      background-color: #E8F0FE;\n",
              "      border: none;\n",
              "      border-radius: 50%;\n",
              "      cursor: pointer;\n",
              "      display: none;\n",
              "      fill: #1967D2;\n",
              "      height: 32px;\n",
              "      padding: 0 0 0 0;\n",
              "      width: 32px;\n",
              "    }\n",
              "\n",
              "    .colab-df-convert:hover {\n",
              "      background-color: #E2EBFA;\n",
              "      box-shadow: 0px 1px 2px rgba(60, 64, 67, 0.3), 0px 1px 3px 1px rgba(60, 64, 67, 0.15);\n",
              "      fill: #174EA6;\n",
              "    }\n",
              "\n",
              "    [theme=dark] .colab-df-convert {\n",
              "      background-color: #3B4455;\n",
              "      fill: #D2E3FC;\n",
              "    }\n",
              "\n",
              "    [theme=dark] .colab-df-convert:hover {\n",
              "      background-color: #434B5C;\n",
              "      box-shadow: 0px 1px 3px 1px rgba(0, 0, 0, 0.15);\n",
              "      filter: drop-shadow(0px 1px 2px rgba(0, 0, 0, 0.3));\n",
              "      fill: #FFFFFF;\n",
              "    }\n",
              "  </style>\n",
              "\n",
              "      <script>\n",
              "        const buttonEl =\n",
              "          document.querySelector('#df-02bd000e-7791-43a3-89ee-740ed5422930 button.colab-df-convert');\n",
              "        buttonEl.style.display =\n",
              "          google.colab.kernel.accessAllowed ? 'block' : 'none';\n",
              "\n",
              "        async function convertToInteractive(key) {\n",
              "          const element = document.querySelector('#df-02bd000e-7791-43a3-89ee-740ed5422930');\n",
              "          const dataTable =\n",
              "            await google.colab.kernel.invokeFunction('convertToInteractive',\n",
              "                                                     [key], {});\n",
              "          if (!dataTable) return;\n",
              "\n",
              "          const docLinkHtml = 'Like what you see? Visit the ' +\n",
              "            '<a target=\"_blank\" href=https://colab.research.google.com/notebooks/data_table.ipynb>data table notebook</a>'\n",
              "            + ' to learn more about interactive tables.';\n",
              "          element.innerHTML = '';\n",
              "          dataTable['output_type'] = 'display_data';\n",
              "          await google.colab.output.renderOutput(dataTable, element);\n",
              "          const docLink = document.createElement('div');\n",
              "          docLink.innerHTML = docLinkHtml;\n",
              "          element.appendChild(docLink);\n",
              "        }\n",
              "      </script>\n",
              "    </div>\n",
              "  </div>\n",
              "  "
            ]
          },
          "metadata": {},
          "execution_count": 23
        }
      ]
    },
    {
      "cell_type": "code",
      "source": [
        "X = insurance_one_hot.drop(\"charges\", axis=1)\n",
        "y = insurance_one_hot[\"charges\"]\n",
        "X, y"
      ],
      "metadata": {
        "colab": {
          "base_uri": "https://localhost:8080/"
        },
        "id": "48QWcLVyhUlE",
        "outputId": "9849b0b0-764a-4777-aa2a-ffa3ec30675b"
      },
      "execution_count": null,
      "outputs": [
        {
          "output_type": "execute_result",
          "data": {
            "text/plain": [
              "(      age     bmi  children  sex_female  sex_male  smoker_no  smoker_yes  \\\n",
              " 0      19  27.900         0           1         0          0           1   \n",
              " 1      18  33.770         1           0         1          1           0   \n",
              " 2      28  33.000         3           0         1          1           0   \n",
              " 3      33  22.705         0           0         1          1           0   \n",
              " 4      32  28.880         0           0         1          1           0   \n",
              " ...   ...     ...       ...         ...       ...        ...         ...   \n",
              " 1333   50  30.970         3           0         1          1           0   \n",
              " 1334   18  31.920         0           1         0          1           0   \n",
              " 1335   18  36.850         0           1         0          1           0   \n",
              " 1336   21  25.800         0           1         0          1           0   \n",
              " 1337   61  29.070         0           1         0          0           1   \n",
              " \n",
              "       region_northeast  region_northwest  region_southeast  region_southwest  \n",
              " 0                    0                 0                 0                 1  \n",
              " 1                    0                 0                 1                 0  \n",
              " 2                    0                 0                 1                 0  \n",
              " 3                    0                 1                 0                 0  \n",
              " 4                    0                 1                 0                 0  \n",
              " ...                ...               ...               ...               ...  \n",
              " 1333                 0                 1                 0                 0  \n",
              " 1334                 1                 0                 0                 0  \n",
              " 1335                 0                 0                 1                 0  \n",
              " 1336                 0                 0                 0                 1  \n",
              " 1337                 0                 1                 0                 0  \n",
              " \n",
              " [1338 rows x 11 columns], 0       16884.92400\n",
              " 1        1725.55230\n",
              " 2        4449.46200\n",
              " 3       21984.47061\n",
              " 4        3866.85520\n",
              "            ...     \n",
              " 1333    10600.54830\n",
              " 1334     2205.98080\n",
              " 1335     1629.83350\n",
              " 1336     2007.94500\n",
              " 1337    29141.36030\n",
              " Name: charges, Length: 1338, dtype: float64)"
            ]
          },
          "metadata": {},
          "execution_count": 24
        }
      ]
    },
    {
      "cell_type": "code",
      "source": [
        "X_train, X_test, y_train, y_test = train_test_split(X, y, test_size=0.33, random_state=42)"
      ],
      "metadata": {
        "id": "GNdHNd5WiFHG"
      },
      "execution_count": null,
      "outputs": []
    },
    {
      "cell_type": "code",
      "source": [
        "insurance_model = tf.keras.Sequential([\n",
        "    tf.keras.layers.Dense(10, activation=\"relu\"),\n",
        "    tf.keras.layers.Dense(1)\n",
        "])\n",
        "\n",
        "insurance_model.compile(loss=\"mae\",\n",
        "              optimizer=tf.keras.optimizers.Adam(lr=0.01),\n",
        "              metrics=[\"mae\"])\n",
        "\n",
        "h = insurance_model.fit(X_train, y_train, epochs=100)"
      ],
      "metadata": {
        "colab": {
          "base_uri": "https://localhost:8080/"
        },
        "id": "vg8QMn8HjGhM",
        "outputId": "9ad5d1b1-beb4-4744-b0f0-cd232fff0da9"
      },
      "execution_count": null,
      "outputs": [
        {
          "output_type": "stream",
          "name": "stdout",
          "text": [
            "Epoch 1/100\n"
          ]
        },
        {
          "output_type": "stream",
          "name": "stderr",
          "text": [
            "/usr/local/lib/python3.7/dist-packages/keras/optimizer_v2/adam.py:105: UserWarning: The `lr` argument is deprecated, use `learning_rate` instead.\n",
            "  super(Adam, self).__init__(name, **kwargs)\n"
          ]
        },
        {
          "output_type": "stream",
          "name": "stdout",
          "text": [
            "28/28 [==============================] - 1s 3ms/step - loss: 13345.2676 - mae: 13345.2676\n",
            "Epoch 2/100\n",
            "28/28 [==============================] - 0s 3ms/step - loss: 13236.0645 - mae: 13236.0645\n",
            "Epoch 3/100\n",
            "28/28 [==============================] - 0s 3ms/step - loss: 13038.1416 - mae: 13038.1416\n",
            "Epoch 4/100\n",
            "28/28 [==============================] - 0s 7ms/step - loss: 12726.2998 - mae: 12726.2998\n",
            "Epoch 5/100\n",
            "28/28 [==============================] - 0s 8ms/step - loss: 12293.0371 - mae: 12293.0371\n",
            "Epoch 6/100\n",
            "28/28 [==============================] - 0s 3ms/step - loss: 11734.4873 - mae: 11734.4873\n",
            "Epoch 7/100\n",
            "28/28 [==============================] - 0s 4ms/step - loss: 11062.8311 - mae: 11062.8311\n",
            "Epoch 8/100\n",
            "28/28 [==============================] - 0s 4ms/step - loss: 10280.4307 - mae: 10280.4307\n",
            "Epoch 9/100\n",
            "28/28 [==============================] - 0s 3ms/step - loss: 9486.5293 - mae: 9486.5293\n",
            "Epoch 10/100\n",
            "28/28 [==============================] - 0s 3ms/step - loss: 8743.1221 - mae: 8743.1221\n",
            "Epoch 11/100\n",
            "28/28 [==============================] - 0s 3ms/step - loss: 8146.2383 - mae: 8146.2383\n",
            "Epoch 12/100\n",
            "28/28 [==============================] - 0s 6ms/step - loss: 7773.2671 - mae: 7773.2671\n",
            "Epoch 13/100\n",
            "28/28 [==============================] - 0s 3ms/step - loss: 7587.5327 - mae: 7587.5327\n",
            "Epoch 14/100\n",
            "28/28 [==============================] - 0s 3ms/step - loss: 7520.0576 - mae: 7520.0576\n",
            "Epoch 15/100\n",
            "28/28 [==============================] - 0s 3ms/step - loss: 7492.8364 - mae: 7492.8364\n",
            "Epoch 16/100\n",
            "28/28 [==============================] - 0s 3ms/step - loss: 7471.4370 - mae: 7471.4370\n",
            "Epoch 17/100\n",
            "28/28 [==============================] - 0s 2ms/step - loss: 7458.8765 - mae: 7458.8765\n",
            "Epoch 18/100\n",
            "28/28 [==============================] - 0s 3ms/step - loss: 7443.6392 - mae: 7443.6392\n",
            "Epoch 19/100\n",
            "28/28 [==============================] - 0s 6ms/step - loss: 7430.1719 - mae: 7430.1719\n",
            "Epoch 20/100\n",
            "28/28 [==============================] - 0s 7ms/step - loss: 7415.9463 - mae: 7415.9463\n",
            "Epoch 21/100\n",
            "28/28 [==============================] - 0s 4ms/step - loss: 7404.1045 - mae: 7404.1045\n",
            "Epoch 22/100\n",
            "28/28 [==============================] - 0s 3ms/step - loss: 7388.7300 - mae: 7388.7300\n",
            "Epoch 23/100\n",
            "28/28 [==============================] - 0s 3ms/step - loss: 7373.3403 - mae: 7373.3403\n",
            "Epoch 24/100\n",
            "28/28 [==============================] - 0s 7ms/step - loss: 7359.3032 - mae: 7359.3032\n",
            "Epoch 25/100\n",
            "28/28 [==============================] - 0s 4ms/step - loss: 7344.3701 - mae: 7344.3701\n",
            "Epoch 26/100\n",
            "28/28 [==============================] - 0s 7ms/step - loss: 7329.7412 - mae: 7329.7412\n",
            "Epoch 27/100\n",
            "28/28 [==============================] - 0s 6ms/step - loss: 7314.3906 - mae: 7314.3906\n",
            "Epoch 28/100\n",
            "28/28 [==============================] - 0s 5ms/step - loss: 7299.7036 - mae: 7299.7036\n",
            "Epoch 29/100\n",
            "28/28 [==============================] - 0s 3ms/step - loss: 7283.6860 - mae: 7283.6860\n",
            "Epoch 30/100\n",
            "28/28 [==============================] - 0s 4ms/step - loss: 7267.7202 - mae: 7267.7202\n",
            "Epoch 31/100\n",
            "28/28 [==============================] - 0s 5ms/step - loss: 7252.3804 - mae: 7252.3804\n",
            "Epoch 32/100\n",
            "28/28 [==============================] - 0s 3ms/step - loss: 7236.5981 - mae: 7236.5981\n",
            "Epoch 33/100\n",
            "28/28 [==============================] - 0s 3ms/step - loss: 7218.5283 - mae: 7218.5283\n",
            "Epoch 34/100\n",
            "28/28 [==============================] - 0s 3ms/step - loss: 7203.1216 - mae: 7203.1216\n",
            "Epoch 35/100\n",
            "28/28 [==============================] - 0s 3ms/step - loss: 7183.0522 - mae: 7183.0522\n",
            "Epoch 36/100\n",
            "28/28 [==============================] - 0s 3ms/step - loss: 7166.0317 - mae: 7166.0317\n",
            "Epoch 37/100\n",
            "28/28 [==============================] - 0s 3ms/step - loss: 7147.7373 - mae: 7147.7373\n",
            "Epoch 38/100\n",
            "28/28 [==============================] - 0s 3ms/step - loss: 7129.7104 - mae: 7129.7104\n",
            "Epoch 39/100\n",
            "28/28 [==============================] - 0s 2ms/step - loss: 7109.7642 - mae: 7109.7642\n",
            "Epoch 40/100\n",
            "28/28 [==============================] - 0s 6ms/step - loss: 7091.0479 - mae: 7091.0479\n",
            "Epoch 41/100\n",
            "28/28 [==============================] - 0s 3ms/step - loss: 7072.1118 - mae: 7072.1118\n",
            "Epoch 42/100\n",
            "28/28 [==============================] - 0s 3ms/step - loss: 7052.8003 - mae: 7052.8003\n",
            "Epoch 43/100\n",
            "28/28 [==============================] - 0s 3ms/step - loss: 7032.1924 - mae: 7032.1924\n",
            "Epoch 44/100\n",
            "28/28 [==============================] - 0s 3ms/step - loss: 7012.1123 - mae: 7012.1123\n",
            "Epoch 45/100\n",
            "28/28 [==============================] - 0s 3ms/step - loss: 6990.3315 - mae: 6990.3315\n",
            "Epoch 46/100\n",
            "28/28 [==============================] - 0s 3ms/step - loss: 6969.4150 - mae: 6969.4150\n",
            "Epoch 47/100\n",
            "28/28 [==============================] - 0s 3ms/step - loss: 6947.6021 - mae: 6947.6021\n",
            "Epoch 48/100\n",
            "28/28 [==============================] - 0s 4ms/step - loss: 6928.5728 - mae: 6928.5728\n",
            "Epoch 49/100\n",
            "28/28 [==============================] - 0s 3ms/step - loss: 6907.7891 - mae: 6907.7891\n",
            "Epoch 50/100\n",
            "28/28 [==============================] - 0s 3ms/step - loss: 6880.9204 - mae: 6880.9204\n",
            "Epoch 51/100\n",
            "28/28 [==============================] - 0s 4ms/step - loss: 6860.5576 - mae: 6860.5576\n",
            "Epoch 52/100\n",
            "28/28 [==============================] - 0s 4ms/step - loss: 6836.1099 - mae: 6836.1099\n",
            "Epoch 53/100\n",
            "28/28 [==============================] - 0s 3ms/step - loss: 6811.0366 - mae: 6811.0366\n",
            "Epoch 54/100\n",
            "28/28 [==============================] - 0s 3ms/step - loss: 6787.4341 - mae: 6787.4341\n",
            "Epoch 55/100\n",
            "28/28 [==============================] - 0s 3ms/step - loss: 6764.2061 - mae: 6764.2061\n",
            "Epoch 56/100\n",
            "28/28 [==============================] - 0s 3ms/step - loss: 6741.9878 - mae: 6741.9878\n",
            "Epoch 57/100\n",
            "28/28 [==============================] - 0s 3ms/step - loss: 6719.2334 - mae: 6719.2334\n",
            "Epoch 58/100\n",
            "28/28 [==============================] - 0s 3ms/step - loss: 6698.5264 - mae: 6698.5264\n",
            "Epoch 59/100\n",
            "28/28 [==============================] - 0s 6ms/step - loss: 6677.7603 - mae: 6677.7603\n",
            "Epoch 60/100\n",
            "28/28 [==============================] - 0s 6ms/step - loss: 6658.4937 - mae: 6658.4937\n",
            "Epoch 61/100\n",
            "28/28 [==============================] - 0s 5ms/step - loss: 6638.9272 - mae: 6638.9272\n",
            "Epoch 62/100\n",
            "28/28 [==============================] - 0s 3ms/step - loss: 6624.9736 - mae: 6624.9736\n",
            "Epoch 63/100\n",
            "28/28 [==============================] - 0s 3ms/step - loss: 6605.0669 - mae: 6605.0669\n",
            "Epoch 64/100\n",
            "28/28 [==============================] - 0s 4ms/step - loss: 6588.8086 - mae: 6588.8086\n",
            "Epoch 65/100\n",
            "28/28 [==============================] - 0s 3ms/step - loss: 6574.2178 - mae: 6574.2178\n",
            "Epoch 66/100\n",
            "28/28 [==============================] - 0s 5ms/step - loss: 6560.6909 - mae: 6560.6909\n",
            "Epoch 67/100\n",
            "28/28 [==============================] - 0s 5ms/step - loss: 6547.6807 - mae: 6547.6807\n",
            "Epoch 68/100\n",
            "28/28 [==============================] - 0s 4ms/step - loss: 6536.7905 - mae: 6536.7905\n",
            "Epoch 69/100\n",
            "28/28 [==============================] - 0s 4ms/step - loss: 6523.7397 - mae: 6523.7397\n",
            "Epoch 70/100\n",
            "28/28 [==============================] - 0s 3ms/step - loss: 6515.9443 - mae: 6515.9443\n",
            "Epoch 71/100\n",
            "28/28 [==============================] - 0s 3ms/step - loss: 6507.7529 - mae: 6507.7529\n",
            "Epoch 72/100\n",
            "28/28 [==============================] - 0s 2ms/step - loss: 6495.4683 - mae: 6495.4683\n",
            "Epoch 73/100\n",
            "28/28 [==============================] - 0s 4ms/step - loss: 6488.8125 - mae: 6488.8125\n",
            "Epoch 74/100\n",
            "28/28 [==============================] - 0s 6ms/step - loss: 6478.8540 - mae: 6478.8540\n",
            "Epoch 75/100\n",
            "28/28 [==============================] - 0s 2ms/step - loss: 6472.0024 - mae: 6472.0024\n",
            "Epoch 76/100\n",
            "28/28 [==============================] - 0s 4ms/step - loss: 6464.7974 - mae: 6464.7974\n",
            "Epoch 77/100\n",
            "28/28 [==============================] - 0s 5ms/step - loss: 6455.3413 - mae: 6455.3413\n",
            "Epoch 78/100\n",
            "28/28 [==============================] - 0s 6ms/step - loss: 6446.4810 - mae: 6446.4810\n",
            "Epoch 79/100\n",
            "28/28 [==============================] - 0s 5ms/step - loss: 6441.8506 - mae: 6441.8506\n",
            "Epoch 80/100\n",
            "28/28 [==============================] - 0s 4ms/step - loss: 6427.5537 - mae: 6427.5537\n",
            "Epoch 81/100\n",
            "28/28 [==============================] - 0s 2ms/step - loss: 6421.0298 - mae: 6421.0298\n",
            "Epoch 82/100\n",
            "28/28 [==============================] - 0s 2ms/step - loss: 6410.8501 - mae: 6410.8501\n",
            "Epoch 83/100\n",
            "28/28 [==============================] - 0s 2ms/step - loss: 6402.4297 - mae: 6402.4297\n",
            "Epoch 84/100\n",
            "28/28 [==============================] - 0s 2ms/step - loss: 6393.8232 - mae: 6393.8232\n",
            "Epoch 85/100\n",
            "28/28 [==============================] - 0s 2ms/step - loss: 6386.3398 - mae: 6386.3398\n",
            "Epoch 86/100\n",
            "28/28 [==============================] - 0s 2ms/step - loss: 6375.7896 - mae: 6375.7896\n",
            "Epoch 87/100\n",
            "28/28 [==============================] - 0s 2ms/step - loss: 6368.8833 - mae: 6368.8833\n",
            "Epoch 88/100\n",
            "28/28 [==============================] - 0s 2ms/step - loss: 6359.3726 - mae: 6359.3726\n",
            "Epoch 89/100\n",
            "28/28 [==============================] - 0s 2ms/step - loss: 6349.8662 - mae: 6349.8662\n",
            "Epoch 90/100\n",
            "28/28 [==============================] - 0s 2ms/step - loss: 6341.0459 - mae: 6341.0459\n",
            "Epoch 91/100\n",
            "28/28 [==============================] - 0s 2ms/step - loss: 6337.1138 - mae: 6337.1138\n",
            "Epoch 92/100\n",
            "28/28 [==============================] - 0s 2ms/step - loss: 6323.6411 - mae: 6323.6411\n",
            "Epoch 93/100\n",
            "28/28 [==============================] - 0s 2ms/step - loss: 6316.3823 - mae: 6316.3823\n",
            "Epoch 94/100\n",
            "28/28 [==============================] - 0s 2ms/step - loss: 6306.2700 - mae: 6306.2700\n",
            "Epoch 95/100\n",
            "28/28 [==============================] - 0s 2ms/step - loss: 6297.2881 - mae: 6297.2881\n",
            "Epoch 96/100\n",
            "28/28 [==============================] - 0s 2ms/step - loss: 6291.1455 - mae: 6291.1455\n",
            "Epoch 97/100\n",
            "28/28 [==============================] - 0s 2ms/step - loss: 6279.5991 - mae: 6279.5991\n",
            "Epoch 98/100\n",
            "28/28 [==============================] - 0s 2ms/step - loss: 6272.4907 - mae: 6272.4907\n",
            "Epoch 99/100\n",
            "28/28 [==============================] - 0s 2ms/step - loss: 6261.8936 - mae: 6261.8936\n",
            "Epoch 100/100\n",
            "28/28 [==============================] - 0s 2ms/step - loss: 6255.5933 - mae: 6255.5933\n"
          ]
        }
      ]
    },
    {
      "cell_type": "code",
      "source": [
        "insurance_model.evaluate(X_test, y_test)"
      ],
      "metadata": {
        "colab": {
          "base_uri": "https://localhost:8080/"
        },
        "id": "b4c6KXwnkHty",
        "outputId": "c6e38910-1e96-4faa-eaa6-0998dd919703"
      },
      "execution_count": null,
      "outputs": [
        {
          "output_type": "stream",
          "name": "stdout",
          "text": [
            "14/14 [==============================] - 0s 2ms/step - loss: 6017.8398 - mae: 6017.8398\n"
          ]
        },
        {
          "output_type": "execute_result",
          "data": {
            "text/plain": [
              "[6017.83984375, 6017.83984375]"
            ]
          },
          "metadata": {},
          "execution_count": 27
        }
      ]
    },
    {
      "cell_type": "code",
      "source": [
        "pd.DataFrame(h.history).plot()\n",
        "plt.ylabel(\"loss\")\n",
        "plt.xlabel(\"epochs\")"
      ],
      "metadata": {
        "colab": {
          "base_uri": "https://localhost:8080/"
        },
        "id": "_xB_kvYgctey",
        "outputId": "608158b2-b04c-48cb-a69c-c1e6130e21e1"
      },
      "execution_count": null,
      "outputs": [
        {
          "output_type": "execute_result",
          "data": {
            "text/plain": [
              "Text(0.5, 0, 'epochs')"
            ]
          },
          "metadata": {},
          "execution_count": 28
        },
        {
          "output_type": "display_data",
          "data": {
            "text/plain": [
              "<Figure size 432x288 with 1 Axes>"
            ],
            "image/png": "[encoded data removed]"
          },
          "metadata": {
            "needs_background": "light"
          }
        }
      ]
    },
    {
      "cell_type": "markdown",
      "source": [
        "\n",
        "\n",
        "\n",
        "\n",
        "\n",
        "\n",
        "\n",
        "\n",
        "\n",
        "\n",
        "##Data preprocessing (normalization) "
      ],
      "metadata": {
        "id": "Oe--KWgDePtF"
      }
    },
    {
      "cell_type": "code",
      "source": [
        "X"
      ],
      "metadata": {
        "colab": {
          "base_uri": "https://localhost:8080/"
        },
        "id": "jzhrxBDZeSzH",
        "outputId": "bb131821-412d-415d-aa5b-94cd4e7f0ddf"
      },
      "execution_count": null,
      "outputs": [
        {
          "output_type": "execute_result",
          "data": {
            "text/plain": [
              "      age     bmi  children  sex_female  sex_male  smoker_no  smoker_yes  \\\n",
              "0      19  27.900         0           1         0          0           1   \n",
              "1      18  33.770         1           0         1          1           0   \n",
              "2      28  33.000         3           0         1          1           0   \n",
              "3      33  22.705         0           0         1          1           0   \n",
              "4      32  28.880         0           0         1          1           0   \n",
              "...   ...     ...       ...         ...       ...        ...         ...   \n",
              "1333   50  30.970         3           0         1          1           0   \n",
              "1334   18  31.920         0           1         0          1           0   \n",
              "1335   18  36.850         0           1         0          1           0   \n",
              "1336   21  25.800         0           1         0          1           0   \n",
              "1337   61  29.070         0           1         0          0           1   \n",
              "\n",
              "      region_northeast  region_northwest  region_southeast  region_southwest  \n",
              "0                    0                 0                 0                 1  \n",
              "1                    0                 0                 1                 0  \n",
              "2                    0                 0                 1                 0  \n",
              "3                    0                 1                 0                 0  \n",
              "4                    0                 1                 0                 0  \n",
              "...                ...               ...               ...               ...  \n",
              "1333                 0                 1                 0                 0  \n",
              "1334                 1                 0                 0                 0  \n",
              "1335                 0                 0                 1                 0  \n",
              "1336                 0                 0                 0                 1  \n",
              "1337                 0                 1                 0                 0  \n",
              "\n",
              "[1338 rows x 11 columns]"
            ],
            "text/html": [
              "\n",
              "  <div id=\"df-5d89d958-3d60-466f-9dc2-66fcf1bfc1d9\">\n",
              "    <div class=\"colab-df-container\">\n",
              "      <div>\n",
              "<style scoped>\n",
              "    .dataframe tbody tr th:only-of-type {\n",
              "        vertical-align: middle;\n",
              "    }\n",
              "\n",
              "    .dataframe tbody tr th {\n",
              "        vertical-align: top;\n",
              "    }\n",
              "\n",
              "    .dataframe thead th {\n",
              "        text-align: right;\n",
              "    }\n",
              "</style>\n",
              "<table border=\"1\" class=\"dataframe\">\n",
              "  <thead>\n",
              "    <tr style=\"text-align: right;\">\n",
              "      <th></th>\n",
              "      <th>age</th>\n",
              "      <th>bmi</th>\n",
              "      <th>children</th>\n",
              "      <th>sex_female</th>\n",
              "      <th>sex_male</th>\n",
              "      <th>smoker_no</th>\n",
              "      <th>smoker_yes</th>\n",
              "      <th>region_northeast</th>\n",
              "      <th>region_northwest</th>\n",
              "      <th>region_southeast</th>\n",
              "      <th>region_southwest</th>\n",
              "    </tr>\n",
              "  </thead>\n",
              "  <tbody>\n",
              "    <tr>\n",
              "      <th>0</th>\n",
              "      <td>19</td>\n",
              "      <td>27.900</td>\n",
              "      <td>0</td>\n",
              "      <td>1</td>\n",
              "      <td>0</td>\n",
              "      <td>0</td>\n",
              "      <td>1</td>\n",
              "      <td>0</td>\n",
              "      <td>0</td>\n",
              "      <td>0</td>\n",
              "      <td>1</td>\n",
              "    </tr>\n",
              "    <tr>\n",
              "      <th>1</th>\n",
              "      <td>18</td>\n",
              "      <td>33.770</td>\n",
              "      <td>1</td>\n",
              "      <td>0</td>\n",
              "      <td>1</td>\n",
              "      <td>1</td>\n",
              "      <td>0</td>\n",
              "      <td>0</td>\n",
              "      <td>0</td>\n",
              "      <td>1</td>\n",
              "      <td>0</td>\n",
              "    </tr>\n",
              "    <tr>\n",
              "      <th>2</th>\n",
              "      <td>28</td>\n",
              "      <td>33.000</td>\n",
              "      <td>3</td>\n",
              "      <td>0</td>\n",
              "      <td>1</td>\n",
              "      <td>1</td>\n",
              "      <td>0</td>\n",
              "      <td>0</td>\n",
              "      <td>0</td>\n",
              "      <td>1</td>\n",
              "      <td>0</td>\n",
              "    </tr>\n",
              "    <tr>\n",
              "      <th>3</th>\n",
              "      <td>33</td>\n",
              "      <td>22.705</td>\n",
              "      <td>0</td>\n",
              "      <td>0</td>\n",
              "      <td>1</td>\n",
              "      <td>1</td>\n",
              "      <td>0</td>\n",
              "      <td>0</td>\n",
              "      <td>1</td>\n",
              "      <td>0</td>\n",
              "      <td>0</td>\n",
              "    </tr>\n",
              "    <tr>\n",
              "      <th>4</th>\n",
              "      <td>32</td>\n",
              "      <td>28.880</td>\n",
              "      <td>0</td>\n",
              "      <td>0</td>\n",
              "      <td>1</td>\n",
              "      <td>1</td>\n",
              "      <td>0</td>\n",
              "      <td>0</td>\n",
              "      <td>1</td>\n",
              "      <td>0</td>\n",
              "      <td>0</td>\n",
              "    </tr>\n",
              "    <tr>\n",
              "      <th>...</th>\n",
              "      <td>...</td>\n",
              "      <td>...</td>\n",
              "      <td>...</td>\n",
              "      <td>...</td>\n",
              "      <td>...</td>\n",
              "      <td>...</td>\n",
              "      <td>...</td>\n",
              "      <td>...</td>\n",
              "      <td>...</td>\n",
              "      <td>...</td>\n",
              "      <td>...</td>\n",
              "    </tr>\n",
              "    <tr>\n",
              "      <th>1333</th>\n",
              "      <td>50</td>\n",
              "      <td>30.970</td>\n",
              "      <td>3</td>\n",
              "      <td>0</td>\n",
              "      <td>1</td>\n",
              "      <td>1</td>\n",
              "      <td>0</td>\n",
              "      <td>0</td>\n",
              "      <td>1</td>\n",
              "      <td>0</td>\n",
              "      <td>0</td>\n",
              "    </tr>\n",
              "    <tr>\n",
              "      <th>1334</th>\n",
              "      <td>18</td>\n",
              "      <td>31.920</td>\n",
              "      <td>0</td>\n",
              "      <td>1</td>\n",
              "      <td>0</td>\n",
              "      <td>1</td>\n",
              "      <td>0</td>\n",
              "      <td>1</td>\n",
              "      <td>0</td>\n",
              "      <td>0</td>\n",
              "      <td>0</td>\n",
              "    </tr>\n",
              "    <tr>\n",
              "      <th>1335</th>\n",
              "      <td>18</td>\n",
              "      <td>36.850</td>\n",
              "      <td>0</td>\n",
              "      <td>1</td>\n",
              "      <td>0</td>\n",
              "      <td>1</td>\n",
              "      <td>0</td>\n",
              "      <td>0</td>\n",
              "      <td>0</td>\n",
              "      <td>1</td>\n",
              "      <td>0</td>\n",
              "    </tr>\n",
              "    <tr>\n",
              "      <th>1336</th>\n",
              "      <td>21</td>\n",
              "      <td>25.800</td>\n",
              "      <td>0</td>\n",
              "      <td>1</td>\n",
              "      <td>0</td>\n",
              "      <td>1</td>\n",
              "      <td>0</td>\n",
              "      <td>0</td>\n",
              "      <td>0</td>\n",
              "      <td>0</td>\n",
              "      <td>1</td>\n",
              "    </tr>\n",
              "    <tr>\n",
              "      <th>1337</th>\n",
              "      <td>61</td>\n",
              "      <td>29.070</td>\n",
              "      <td>0</td>\n",
              "      <td>1</td>\n",
              "      <td>0</td>\n",
              "      <td>0</td>\n",
              "      <td>1</td>\n",
              "      <td>0</td>\n",
              "      <td>1</td>\n",
              "      <td>0</td>\n",
              "      <td>0</td>\n",
              "    </tr>\n",
              "  </tbody>\n",
              "</table>\n",
              "<p>1338 rows × 11 columns</p>\n",
              "</div>\n",
              "      <button class=\"colab-df-convert\" onclick=\"convertToInteractive('df-5d89d958-3d60-466f-9dc2-66fcf1bfc1d9')\"\n",
              "              title=\"Convert this dataframe to an interactive table.\"\n",
              "              style=\"display:none;\">\n",
              "        \n",
              "  <svg xmlns=\"http://www.w3.org/2000/svg\" height=\"24px\"viewBox=\"0 0 24 24\"\n",
              "       width=\"24px\">\n",
              "    <path d=\"M0 0h24v24H0V0z\" fill=\"none\"/>\n",
              "    <path d=\"M18.56 5.44l.94 2.06.94-2.06 2.06-.94-2.06-.94-.94-2.06-.94 2.06-2.06.94zm-11 1L8.5 8.5l.94-2.06 2.06-.94-2.06-.94L8.5 2.5l-.94 2.06-2.06.94zm10 10l.94 2.06.94-2.06 2.06-.94-2.06-.94-.94-2.06-.94 2.06-2.06.94z\"/><path d=\"M17.41 7.96l-1.37-1.37c-.4-.4-.92-.59-1.43-.59-.52 0-1.04.2-1.43.59L10.3 9.45l-7.72 7.72c-.78.78-.78 2.05 0 2.83L4 21.41c.39.39.9.59 1.41.59.51 0 1.02-.2 1.41-.59l7.78-7.78 2.81-2.81c.8-.78.8-2.07 0-2.86zM5.41 20L4 18.59l7.72-7.72 1.47 1.35L5.41 20z\"/>\n",
              "  </svg>\n",
              "      </button>\n",
              "      \n",
              "  <style>\n",
              "    .colab-df-container {\n",
              "      display:flex;\n",
              "      flex-wrap:wrap;\n",
              "      gap: 12px;\n",
              "    }\n",
              "\n",
              "    .colab-df-convert {\n",
              "      background-color: #E8F0FE;\n",
              "      border: none;\n",
              "      border-radius: 50%;\n",
              "      cursor: pointer;\n",
              "      display: none;\n",
              "      fill: #1967D2;\n",
              "      height: 32px;\n",
              "      padding: 0 0 0 0;\n",
              "      width: 32px;\n",
              "    }\n",
              "\n",
              "    .colab-df-convert:hover {\n",
              "      background-color: #E2EBFA;\n",
              "      box-shadow: 0px 1px 2px rgba(60, 64, 67, 0.3), 0px 1px 3px 1px rgba(60, 64, 67, 0.15);\n",
              "      fill: #174EA6;\n",
              "    }\n",
              "\n",
              "    [theme=dark] .colab-df-convert {\n",
              "      background-color: #3B4455;\n",
              "      fill: #D2E3FC;\n",
              "    }\n",
              "\n",
              "    [theme=dark] .colab-df-convert:hover {\n",
              "      background-color: #434B5C;\n",
              "      box-shadow: 0px 1px 3px 1px rgba(0, 0, 0, 0.15);\n",
              "      filter: drop-shadow(0px 1px 2px rgba(0, 0, 0, 0.3));\n",
              "      fill: #FFFFFF;\n",
              "    }\n",
              "  </style>\n",
              "\n",
              "      <script>\n",
              "        const buttonEl =\n",
              "          document.querySelector('#df-5d89d958-3d60-466f-9dc2-66fcf1bfc1d9 button.colab-df-convert');\n",
              "        buttonEl.style.display =\n",
              "          google.colab.kernel.accessAllowed ? 'block' : 'none';\n",
              "\n",
              "        async function convertToInteractive(key) {\n",
              "          const element = document.querySelector('#df-5d89d958-3d60-466f-9dc2-66fcf1bfc1d9');\n",
              "          const dataTable =\n",
              "            await google.colab.kernel.invokeFunction('convertToInteractive',\n",
              "                                                     [key], {});\n",
              "          if (!dataTable) return;\n",
              "\n",
              "          const docLinkHtml = 'Like what you see? Visit the ' +\n",
              "            '<a target=\"_blank\" href=https://colab.research.google.com/notebooks/data_table.ipynb>data table notebook</a>'\n",
              "            + ' to learn more about interactive tables.';\n",
              "          element.innerHTML = '';\n",
              "          dataTable['output_type'] = 'display_data';\n",
              "          await google.colab.output.renderOutput(dataTable, element);\n",
              "          const docLink = document.createElement('div');\n",
              "          docLink.innerHTML = docLinkHtml;\n",
              "          element.appendChild(docLink);\n",
              "        }\n",
              "      </script>\n",
              "    </div>\n",
              "  </div>\n",
              "  "
            ]
          },
          "metadata": {},
          "execution_count": 29
        }
      ]
    },
    {
      "cell_type": "code",
      "source": [
        "\n",
        "X[\"age\"].plot(kind=\"hist\")"
      ],
      "metadata": {
        "colab": {
          "base_uri": "https://localhost:8080/"
        },
        "id": "uS1pCYe6eij1",
        "outputId": "516c74fc-a15d-4821-e925-883eb7ad2414"
      },
      "execution_count": null,
      "outputs": [
        {
          "output_type": "execute_result",
          "data": {
            "text/plain": [
              "<matplotlib.axes._subplots.AxesSubplot at 0x7fefd6ae5d90>"
            ]
          },
          "metadata": {},
          "execution_count": 30
        },
        {
          "output_type": "display_data",
          "data": {
            "text/plain": [
              "<Figure size 432x288 with 1 Axes>"
            ],
            "image/png": "[encoded data removed]"
          },
          "metadata": {
            "needs_background": "light"
          }
        }
      ]
    },
    {
      "cell_type": "code",
      "source": [
        "ct = make_column_transformer(\n",
        "    (MinMaxScaler(), [\"age\", \"bmi\", \"children\"]),\n",
        "    (OneHotEncoder(handle_unknown=\"ignore\"), [\"sex\", \"smoker\"])\n",
        ")\n",
        "\n",
        "X = insurance.drop(\"charges\", axis=1)\n",
        "y = insurance[\"charges\"]\n",
        "\n",
        "# type(insurance), X, y\n",
        "X_train, X_test, y_train, y_test = train_test_split(X, y, test_size=0.33, random_state=42)\n",
        "\n",
        "ct.fit(X_train)\n",
        "X_train_normal = ct.transform(X_train)\n",
        "X_test_normal = ct.transform(X_test)\n",
        "\n",
        "X_train_normal"
      ],
      "metadata": {
        "colab": {
          "base_uri": "https://localhost:8080/"
        },
        "id": "VVR0yTBjZcMz",
        "outputId": "91511738-22f8-4c28-e4f4-2b9445c2b3d2"
      },
      "execution_count": null,
      "outputs": [
        {
          "output_type": "execute_result",
          "data": {
            "text/plain": [
              "array([[0.54347826, 0.24535916, 0.        , ..., 0.        , 1.        ,\n",
              "        0.        ],\n",
              "       [0.45652174, 0.52031208, 0.4       , ..., 1.        , 0.        ,\n",
              "        1.        ],\n",
              "       [0.58695652, 0.39104116, 0.2       , ..., 0.        , 0.        ,\n",
              "        1.        ],\n",
              "       ...,\n",
              "       [0.86956522, 0.24791499, 0.        , ..., 1.        , 1.        ,\n",
              "        0.        ],\n",
              "       [0.41304348, 0.85122411, 0.4       , ..., 0.        , 0.        ,\n",
              "        1.        ],\n",
              "       [0.80434783, 0.37503363, 0.        , ..., 1.        , 1.        ,\n",
              "        0.        ]])"
            ]
          },
          "metadata": {},
          "execution_count": 31
        }
      ]
    },
    {
      "cell_type": "code",
      "source": [
        "ins_mdl_normalized = tf.keras.Sequential([\n",
        "    tf.keras.layers.Dense(100, activation=\"relu\"),\n",
        "    tf.keras.layers.Dense(1)\n",
        "])\n",
        "\n",
        "ins_mdl_normalized.compile(loss=\"mae\",\n",
        "                           optimizer=tf.keras.optimizers.Adam(lr=0.01),\n",
        "                           metrics=[\"mae\"])\n",
        "\n",
        "histpry2 = ins_mdl_normalized.fit(X_train_normal, y_train, epochs=100)"
      ],
      "metadata": {
        "colab": {
          "base_uri": "https://localhost:8080/"
        },
        "id": "ruaLIpN6fXUl",
        "outputId": "17a49c65-f89a-4c1f-f382-2161f3bb6950"
      },
      "execution_count": null,
      "outputs": [
        {
          "output_type": "stream",
          "name": "stdout",
          "text": [
            "Epoch 1/100\n"
          ]
        },
        {
          "output_type": "stream",
          "name": "stderr",
          "text": [
            "/usr/local/lib/python3.7/dist-packages/keras/optimizer_v2/adam.py:105: UserWarning: The `lr` argument is deprecated, use `learning_rate` instead.\n",
            "  super(Adam, self).__init__(name, **kwargs)\n"
          ]
        },
        {
          "output_type": "stream",
          "name": "stdout",
          "text": [
            "28/28 [==============================] - 0s 2ms/step - loss: 13371.3838 - mae: 13371.3838\n",
            "Epoch 2/100\n",
            "28/28 [==============================] - 0s 2ms/step - loss: 13321.8457 - mae: 13321.8457\n",
            "Epoch 3/100\n",
            "28/28 [==============================] - 0s 2ms/step - loss: 13203.0225 - mae: 13203.0225\n",
            "Epoch 4/100\n",
            "28/28 [==============================] - 0s 2ms/step - loss: 12997.7939 - mae: 12997.7939\n",
            "Epoch 5/100\n",
            "28/28 [==============================] - 0s 2ms/step - loss: 12699.6436 - mae: 12699.6436\n",
            "Epoch 6/100\n",
            "28/28 [==============================] - 0s 2ms/step - loss: 12307.0479 - mae: 12307.0479\n",
            "Epoch 7/100\n",
            "28/28 [==============================] - 0s 2ms/step - loss: 11827.3984 - mae: 11827.3984\n",
            "Epoch 8/100\n",
            "28/28 [==============================] - 0s 2ms/step - loss: 11290.3838 - mae: 11290.3838\n",
            "Epoch 9/100\n",
            "28/28 [==============================] - 0s 2ms/step - loss: 10760.6484 - mae: 10760.6484\n",
            "Epoch 10/100\n",
            "28/28 [==============================] - 0s 2ms/step - loss: 10244.6064 - mae: 10244.6064\n",
            "Epoch 11/100\n",
            "28/28 [==============================] - 0s 2ms/step - loss: 9745.4092 - mae: 9745.4092\n",
            "Epoch 12/100\n",
            "28/28 [==============================] - 0s 2ms/step - loss: 9309.2129 - mae: 9309.2129\n",
            "Epoch 13/100\n",
            "28/28 [==============================] - 0s 2ms/step - loss: 8929.9512 - mae: 8929.9512\n",
            "Epoch 14/100\n",
            "28/28 [==============================] - 0s 2ms/step - loss: 8624.9365 - mae: 8624.9365\n",
            "Epoch 15/100\n",
            "28/28 [==============================] - 0s 2ms/step - loss: 8373.5576 - mae: 8373.5576\n",
            "Epoch 16/100\n",
            "28/28 [==============================] - 0s 2ms/step - loss: 8173.8354 - mae: 8173.8354\n",
            "Epoch 17/100\n",
            "28/28 [==============================] - 0s 2ms/step - loss: 8034.8940 - mae: 8034.8940\n",
            "Epoch 18/100\n",
            "28/28 [==============================] - 0s 2ms/step - loss: 7926.9409 - mae: 7926.9409\n",
            "Epoch 19/100\n",
            "28/28 [==============================] - 0s 2ms/step - loss: 7841.0132 - mae: 7841.0132\n",
            "Epoch 20/100\n",
            "28/28 [==============================] - 0s 2ms/step - loss: 7764.3516 - mae: 7764.3516\n",
            "Epoch 21/100\n",
            "28/28 [==============================] - 0s 2ms/step - loss: 7693.3799 - mae: 7693.3799\n",
            "Epoch 22/100\n",
            "28/28 [==============================] - 0s 2ms/step - loss: 7620.2222 - mae: 7620.2222\n",
            "Epoch 23/100\n",
            "28/28 [==============================] - 0s 2ms/step - loss: 7550.9287 - mae: 7550.9287\n",
            "Epoch 24/100\n",
            "28/28 [==============================] - 0s 2ms/step - loss: 7482.7783 - mae: 7482.7783\n",
            "Epoch 25/100\n",
            "28/28 [==============================] - 0s 2ms/step - loss: 7412.6743 - mae: 7412.6743\n",
            "Epoch 26/100\n",
            "28/28 [==============================] - 0s 2ms/step - loss: 7341.8604 - mae: 7341.8604\n",
            "Epoch 27/100\n",
            "28/28 [==============================] - 0s 2ms/step - loss: 7269.8242 - mae: 7269.8242\n",
            "Epoch 28/100\n",
            "28/28 [==============================] - 0s 2ms/step - loss: 7195.3843 - mae: 7195.3843\n",
            "Epoch 29/100\n",
            "28/28 [==============================] - 0s 2ms/step - loss: 7118.5835 - mae: 7118.5835\n",
            "Epoch 30/100\n",
            "28/28 [==============================] - 0s 2ms/step - loss: 7039.7969 - mae: 7039.7969\n",
            "Epoch 31/100\n",
            "28/28 [==============================] - 0s 2ms/step - loss: 6958.3877 - mae: 6958.3877\n",
            "Epoch 32/100\n",
            "28/28 [==============================] - 0s 2ms/step - loss: 6876.0991 - mae: 6876.0991\n",
            "Epoch 33/100\n",
            "28/28 [==============================] - 0s 2ms/step - loss: 6787.9453 - mae: 6787.9453\n",
            "Epoch 34/100\n",
            "28/28 [==============================] - 0s 2ms/step - loss: 6700.1846 - mae: 6700.1846\n",
            "Epoch 35/100\n",
            "28/28 [==============================] - 0s 2ms/step - loss: 6601.0195 - mae: 6601.0195\n",
            "Epoch 36/100\n",
            "28/28 [==============================] - 0s 2ms/step - loss: 6504.2104 - mae: 6504.2104\n",
            "Epoch 37/100\n",
            "28/28 [==============================] - 0s 2ms/step - loss: 6402.4307 - mae: 6402.4307\n",
            "Epoch 38/100\n",
            "28/28 [==============================] - 0s 2ms/step - loss: 6294.8721 - mae: 6294.8721\n",
            "Epoch 39/100\n",
            "28/28 [==============================] - 0s 2ms/step - loss: 6182.7964 - mae: 6182.7964\n",
            "Epoch 40/100\n",
            "28/28 [==============================] - 0s 2ms/step - loss: 6067.7314 - mae: 6067.7314\n",
            "Epoch 41/100\n",
            "28/28 [==============================] - 0s 2ms/step - loss: 5947.1924 - mae: 5947.1924\n",
            "Epoch 42/100\n",
            "28/28 [==============================] - 0s 2ms/step - loss: 5821.0664 - mae: 5821.0664\n",
            "Epoch 43/100\n",
            "28/28 [==============================] - 0s 2ms/step - loss: 5691.2729 - mae: 5691.2729\n",
            "Epoch 44/100\n",
            "28/28 [==============================] - 0s 2ms/step - loss: 5554.4180 - mae: 5554.4180\n",
            "Epoch 45/100\n",
            "28/28 [==============================] - 0s 2ms/step - loss: 5416.5044 - mae: 5416.5044\n",
            "Epoch 46/100\n",
            "28/28 [==============================] - 0s 2ms/step - loss: 5278.9038 - mae: 5278.9038\n",
            "Epoch 47/100\n",
            "28/28 [==============================] - 0s 2ms/step - loss: 5137.2632 - mae: 5137.2632\n",
            "Epoch 48/100\n",
            "28/28 [==============================] - 0s 2ms/step - loss: 5000.0337 - mae: 5000.0337\n",
            "Epoch 49/100\n",
            "28/28 [==============================] - 0s 2ms/step - loss: 4861.7578 - mae: 4861.7578\n",
            "Epoch 50/100\n",
            "28/28 [==============================] - 0s 2ms/step - loss: 4723.7876 - mae: 4723.7876\n",
            "Epoch 51/100\n",
            "28/28 [==============================] - 0s 2ms/step - loss: 4585.4497 - mae: 4585.4497\n",
            "Epoch 52/100\n",
            "28/28 [==============================] - 0s 2ms/step - loss: 4451.2368 - mae: 4451.2368\n",
            "Epoch 53/100\n",
            "28/28 [==============================] - 0s 2ms/step - loss: 4329.9995 - mae: 4329.9995\n",
            "Epoch 54/100\n",
            "28/28 [==============================] - 0s 2ms/step - loss: 4221.6284 - mae: 4221.6284\n",
            "Epoch 55/100\n",
            "28/28 [==============================] - 0s 2ms/step - loss: 4127.3179 - mae: 4127.3179\n",
            "Epoch 56/100\n",
            "28/28 [==============================] - 0s 2ms/step - loss: 4047.7969 - mae: 4047.7969\n",
            "Epoch 57/100\n",
            "28/28 [==============================] - 0s 2ms/step - loss: 3984.1816 - mae: 3984.1816\n",
            "Epoch 58/100\n",
            "28/28 [==============================] - 0s 2ms/step - loss: 3933.7024 - mae: 3933.7024\n",
            "Epoch 59/100\n",
            "28/28 [==============================] - 0s 2ms/step - loss: 3895.6765 - mae: 3895.6765\n",
            "Epoch 60/100\n",
            "28/28 [==============================] - 0s 2ms/step - loss: 3851.2754 - mae: 3851.2754\n",
            "Epoch 61/100\n",
            "28/28 [==============================] - 0s 2ms/step - loss: 3821.4221 - mae: 3821.4221\n",
            "Epoch 62/100\n",
            "28/28 [==============================] - 0s 2ms/step - loss: 3796.1074 - mae: 3796.1074\n",
            "Epoch 63/100\n",
            "28/28 [==============================] - 0s 2ms/step - loss: 3775.2271 - mae: 3775.2271\n",
            "Epoch 64/100\n",
            "28/28 [==============================] - 0s 2ms/step - loss: 3758.1990 - mae: 3758.1990\n",
            "Epoch 65/100\n",
            "28/28 [==============================] - 0s 2ms/step - loss: 3744.6821 - mae: 3744.6821\n",
            "Epoch 66/100\n",
            "28/28 [==============================] - 0s 2ms/step - loss: 3736.6375 - mae: 3736.6375\n",
            "Epoch 67/100\n",
            "28/28 [==============================] - 0s 2ms/step - loss: 3728.6831 - mae: 3728.6831\n",
            "Epoch 68/100\n",
            "28/28 [==============================] - 0s 2ms/step - loss: 3721.5044 - mae: 3721.5044\n",
            "Epoch 69/100\n",
            "28/28 [==============================] - 0s 2ms/step - loss: 3716.1941 - mae: 3716.1941\n",
            "Epoch 70/100\n",
            "28/28 [==============================] - 0s 2ms/step - loss: 3712.9836 - mae: 3712.9836\n",
            "Epoch 71/100\n",
            "28/28 [==============================] - 0s 2ms/step - loss: 3706.9045 - mae: 3706.9045\n",
            "Epoch 72/100\n",
            "28/28 [==============================] - 0s 2ms/step - loss: 3704.1772 - mae: 3704.1772\n",
            "Epoch 73/100\n",
            "28/28 [==============================] - 0s 2ms/step - loss: 3700.2212 - mae: 3700.2212\n",
            "Epoch 74/100\n",
            "28/28 [==============================] - 0s 2ms/step - loss: 3698.2922 - mae: 3698.2922\n",
            "Epoch 75/100\n",
            "28/28 [==============================] - 0s 2ms/step - loss: 3696.8828 - mae: 3696.8828\n",
            "Epoch 76/100\n",
            "28/28 [==============================] - 0s 2ms/step - loss: 3694.2651 - mae: 3694.2651\n",
            "Epoch 77/100\n",
            "28/28 [==============================] - 0s 2ms/step - loss: 3692.7605 - mae: 3692.7605\n",
            "Epoch 78/100\n",
            "28/28 [==============================] - 0s 2ms/step - loss: 3690.8845 - mae: 3690.8845\n",
            "Epoch 79/100\n",
            "28/28 [==============================] - 0s 2ms/step - loss: 3687.1326 - mae: 3687.1326\n",
            "Epoch 80/100\n",
            "28/28 [==============================] - 0s 2ms/step - loss: 3684.4836 - mae: 3684.4836\n",
            "Epoch 81/100\n",
            "28/28 [==============================] - 0s 2ms/step - loss: 3685.2104 - mae: 3685.2104\n",
            "Epoch 82/100\n",
            "28/28 [==============================] - 0s 2ms/step - loss: 3681.2402 - mae: 3681.2402\n",
            "Epoch 83/100\n",
            "28/28 [==============================] - 0s 2ms/step - loss: 3681.1543 - mae: 3681.1543\n",
            "Epoch 84/100\n",
            "28/28 [==============================] - 0s 2ms/step - loss: 3677.7290 - mae: 3677.7290\n",
            "Epoch 85/100\n",
            "28/28 [==============================] - 0s 2ms/step - loss: 3674.9722 - mae: 3674.9722\n",
            "Epoch 86/100\n",
            "28/28 [==============================] - 0s 2ms/step - loss: 3672.8296 - mae: 3672.8296\n",
            "Epoch 87/100\n",
            "28/28 [==============================] - 0s 2ms/step - loss: 3670.9016 - mae: 3670.9016\n",
            "Epoch 88/100\n",
            "28/28 [==============================] - 0s 2ms/step - loss: 3668.6785 - mae: 3668.6785\n",
            "Epoch 89/100\n",
            "28/28 [==============================] - 0s 2ms/step - loss: 3667.2266 - mae: 3667.2266\n",
            "Epoch 90/100\n",
            "28/28 [==============================] - 0s 2ms/step - loss: 3667.8616 - mae: 3667.8616\n",
            "Epoch 91/100\n",
            "28/28 [==============================] - 0s 2ms/step - loss: 3666.5242 - mae: 3666.5242\n",
            "Epoch 92/100\n",
            "28/28 [==============================] - 0s 2ms/step - loss: 3662.9524 - mae: 3662.9524\n",
            "Epoch 93/100\n",
            "28/28 [==============================] - 0s 2ms/step - loss: 3661.3052 - mae: 3661.3052\n",
            "Epoch 94/100\n",
            "28/28 [==============================] - 0s 2ms/step - loss: 3659.2561 - mae: 3659.2561\n",
            "Epoch 95/100\n",
            "28/28 [==============================] - 0s 2ms/step - loss: 3661.1809 - mae: 3661.1809\n",
            "Epoch 96/100\n",
            "28/28 [==============================] - 0s 3ms/step - loss: 3658.0601 - mae: 3658.0601\n",
            "Epoch 97/100\n",
            "28/28 [==============================] - 0s 2ms/step - loss: 3657.1646 - mae: 3657.1646\n",
            "Epoch 98/100\n",
            "28/28 [==============================] - 0s 2ms/step - loss: 3657.8655 - mae: 3657.8655\n",
            "Epoch 99/100\n",
            "28/28 [==============================] - 0s 2ms/step - loss: 3651.8906 - mae: 3651.8906\n",
            "Epoch 100/100\n",
            "28/28 [==============================] - 0s 2ms/step - loss: 3653.1697 - mae: 3653.1697\n"
          ]
        }
      ]
    },
    {
      "cell_type": "code",
      "source": [
        "pd.DataFrame(histpry2.history).plot()"
      ],
      "metadata": {
        "colab": {
          "base_uri": "https://localhost:8080/"
        },
        "id": "-oKCsJG6gRjr",
        "outputId": "8cc92565-8024-44bb-9931-71b12ee310b2"
      },
      "execution_count": null,
      "outputs": [
        {
          "output_type": "execute_result",
          "data": {
            "text/plain": [
              "<matplotlib.axes._subplots.AxesSubplot at 0x7fefd484fe50>"
            ]
          },
          "metadata": {},
          "execution_count": 33
        },
        {
          "output_type": "display_data",
          "data": {
            "text/plain": [
              "<Figure size 432x288 with 1 Axes>"
            ],
            "image/png": "[encoded data removed]"
          },
          "metadata": {
            "needs_background": "light"
          }
        }
      ]
    }
  ]
}
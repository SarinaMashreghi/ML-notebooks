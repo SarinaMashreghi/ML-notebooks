{
  "cells": [
    {
      "cell_type": "markdown",
      "metadata": {
        "id": "view-in-github",
        "colab_type": "text"
      },
      "source": [
        "<a href=\"https://colab.research.google.com/github/SarinaMashreghi/ML-notebooks/blob/main/tensorflow_4.ipynb\" target=\"_parent\"><img src=\"https://colab.research.google.com/assets/colab-badge.svg\" alt=\"Open In Colab\"/></a>"
      ]
    },
    {
      "cell_type": "markdown",
      "metadata": {
        "id": "kTbOuJ8sudq0"
      },
      "source": [
        "#Multiclass classification"
      ]
    },
    {
      "cell_type": "code",
      "execution_count": null,
      "metadata": {
        "id": "WGjwGVF5usxO"
      },
      "outputs": [],
      "source": [
        "import tensorflow as tf\n",
        "from tensorflow.keras.datasets import fashion_mnist\n",
        "# tf.__version__\n",
        "\n",
        "(train_data, train_labels), (test_data, test_labels) = fashion_mnist.load_data()"
      ]
    },
    {
      "cell_type": "code",
      "execution_count": null,
      "metadata": {
        "colab": {
          "base_uri": "https://localhost:8080/"
        },
        "id": "uYXgBnXAvhDc",
        "outputId": "84281efd-b2dd-4181-f86b-fb8f7f2cb58a"
      },
      "outputs": [
        {
          "output_type": "execute_result",
          "data": {
            "text/plain": [
              "((60000, 28, 28), (60000,))"
            ]
          },
          "metadata": {},
          "execution_count": 2
        }
      ],
      "source": [
        "train_data.shape, train_labels.shape"
      ]
    },
    {
      "cell_type": "code",
      "execution_count": null,
      "metadata": {
        "colab": {
          "base_uri": "https://localhost:8080/",
          "height": 282
        },
        "id": "Kh7aVeMLvsor",
        "outputId": "34525182-a9e1-49d5-dcad-734eacfd9a4f"
      },
      "outputs": [
        {
          "output_type": "execute_result",
          "data": {
            "text/plain": [
              "<matplotlib.image.AxesImage at 0x7f846426e490>"
            ]
          },
          "metadata": {},
          "execution_count": 3
        },
        {
          "output_type": "display_data",
          "data": {
            "text/plain": [
              "<Figure size 432x288 with 1 Axes>"
            ],
            "image/png": "[encoded data removed]"
          },
          "metadata": {
            "needs_background": "light"
          }
        }
      ],
      "source": [
        "import matplotlib.pyplot as plt\n",
        "\n",
        "plt.imshow(train_data[0])"
      ]
    },
    {
      "cell_type": "code",
      "execution_count": null,
      "metadata": {
        "id": "zkny73d8wAsS"
      },
      "outputs": [],
      "source": [
        "class_names = ['T-shirt/top', 'Trouser', 'Pullover', 'Dress', 'Coat', \n",
        "               'Sandal', 'Shirt', 'Sneaker', 'Bag', 'Ankle boots']\n"
      ]
    },
    {
      "cell_type": "code",
      "execution_count": null,
      "metadata": {
        "colab": {
          "base_uri": "https://localhost:8080/",
          "height": 298
        },
        "id": "hwNeGiubwglc",
        "outputId": "597b3055-e57a-40be-8044-c71150dadc49"
      },
      "outputs": [
        {
          "output_type": "execute_result",
          "data": {
            "text/plain": [
              "Text(0.5, 1.0, 'Bag')"
            ]
          },
          "metadata": {},
          "execution_count": 5
        },
        {
          "output_type": "display_data",
          "data": {
            "text/plain": [
              "<Figure size 432x288 with 1 Axes>"
            ],
            "image/png": "[encoded data removed]"
          },
          "metadata": {
            "needs_background": "light"
          }
        }
      ],
      "source": [
        "index = 100\n",
        "plt.imshow(train_data[index], cmap=plt.cm.binary)\n",
        "plt.title(class_names[train_labels[index]])"
      ]
    },
    {
      "cell_type": "code",
      "execution_count": null,
      "metadata": {
        "colab": {
          "base_uri": "https://localhost:8080/",
          "height": 145
        },
        "id": "u3zJQ4ktmWQJ",
        "outputId": "0094ad21-e89e-4372-bb41-03e7901216af"
      },
      "outputs": [
        {
          "output_type": "display_data",
          "data": {
            "text/plain": [
              "<Figure size 432x288 with 3 Axes>"
            ],
            "image/png": "[encoded data removed]"
          },
          "metadata": {
            "needs_background": "light"
          }
        }
      ],
      "source": [
        "from os import name\n",
        "import random\n",
        "plt.figure()\n",
        "for i in range(3):\n",
        "  ax=plt.subplot(1,3,i+1)\n",
        "  rand=random.randrange(len(train_data))\n",
        "  plt.imshow(train_data[rand])\n",
        "  plt.title(class_names[train_labels[rand]])\n",
        "  plt.axis(False)\n"
      ]
    },
    {
      "cell_type": "code",
      "execution_count": null,
      "metadata": {
        "colab": {
          "base_uri": "https://localhost:8080/"
        },
        "id": "myc4Y-tMovSW",
        "outputId": "624b75c3-7489-4da4-928d-14135108b6e3"
      },
      "outputs": [
        {
          "output_type": "stream",
          "name": "stdout",
          "text": [
            "Epoch 1/100\n",
            "1875/1875 [==============================] - 12s 4ms/step - loss: 2.3702 - accuracy: 0.1077 - val_loss: 2.2691 - val_accuracy: 0.1176\n",
            "Epoch 2/100\n",
            "1875/1875 [==============================] - 5s 3ms/step - loss: 2.2230 - accuracy: 0.1373 - val_loss: 2.0464 - val_accuracy: 0.1658\n",
            "Epoch 3/100\n",
            "1875/1875 [==============================] - 4s 2ms/step - loss: 1.7988 - accuracy: 0.2497 - val_loss: 1.6995 - val_accuracy: 0.2852\n",
            "Epoch 4/100\n",
            "1875/1875 [==============================] - 4s 2ms/step - loss: 1.6419 - accuracy: 0.2944 - val_loss: 1.6092 - val_accuracy: 0.3127\n",
            "Epoch 5/100\n",
            "1875/1875 [==============================] - 4s 2ms/step - loss: 1.6055 - accuracy: 0.3090 - val_loss: 1.6693 - val_accuracy: 0.2704\n",
            "Epoch 6/100\n",
            "1875/1875 [==============================] - 4s 2ms/step - loss: 1.5561 - accuracy: 0.3413 - val_loss: 1.5664 - val_accuracy: 0.3414\n",
            "Epoch 7/100\n",
            "1875/1875 [==============================] - 4s 2ms/step - loss: 1.4327 - accuracy: 0.4004 - val_loss: 1.3903 - val_accuracy: 0.4315\n",
            "Epoch 8/100\n",
            "1875/1875 [==============================] - 4s 2ms/step - loss: 1.2945 - accuracy: 0.4493 - val_loss: 1.2829 - val_accuracy: 0.4516\n",
            "Epoch 9/100\n",
            "1875/1875 [==============================] - 4s 2ms/step - loss: 1.2807 - accuracy: 0.4498 - val_loss: 1.3275 - val_accuracy: 0.4403\n",
            "Epoch 10/100\n",
            "1875/1875 [==============================] - 5s 3ms/step - loss: 1.2304 - accuracy: 0.4894 - val_loss: 1.1814 - val_accuracy: 0.5201\n",
            "Epoch 11/100\n",
            "1875/1875 [==============================] - 5s 3ms/step - loss: 1.1433 - accuracy: 0.5250 - val_loss: 1.1517 - val_accuracy: 0.5294\n",
            "Epoch 12/100\n",
            "1875/1875 [==============================] - 5s 2ms/step - loss: 1.0921 - accuracy: 0.5408 - val_loss: 1.0715 - val_accuracy: 0.5587\n",
            "Epoch 13/100\n",
            "1875/1875 [==============================] - 4s 2ms/step - loss: 1.0699 - accuracy: 0.5491 - val_loss: 1.0775 - val_accuracy: 0.5596\n",
            "Epoch 14/100\n",
            "1875/1875 [==============================] - 4s 2ms/step - loss: 1.0730 - accuracy: 0.5501 - val_loss: 1.0784 - val_accuracy: 0.5612\n",
            "Epoch 15/100\n",
            "1875/1875 [==============================] - 4s 2ms/step - loss: 1.0627 - accuracy: 0.5519 - val_loss: 1.0628 - val_accuracy: 0.5606\n",
            "Epoch 16/100\n",
            "1875/1875 [==============================] - 5s 2ms/step - loss: 1.0617 - accuracy: 0.5533 - val_loss: 1.0528 - val_accuracy: 0.5630\n",
            "Epoch 17/100\n",
            "1875/1875 [==============================] - 5s 2ms/step - loss: 1.0549 - accuracy: 0.5560 - val_loss: 1.1083 - val_accuracy: 0.5359\n",
            "Epoch 18/100\n",
            "1875/1875 [==============================] - 5s 2ms/step - loss: 1.0569 - accuracy: 0.5559 - val_loss: 1.0431 - val_accuracy: 0.5680\n",
            "Epoch 19/100\n",
            "1875/1875 [==============================] - 4s 2ms/step - loss: 1.0430 - accuracy: 0.5549 - val_loss: 1.0373 - val_accuracy: 0.5664\n",
            "Epoch 20/100\n",
            "1875/1875 [==============================] - 4s 2ms/step - loss: 1.0489 - accuracy: 0.5541 - val_loss: 1.0512 - val_accuracy: 0.5650\n",
            "Epoch 21/100\n",
            "1875/1875 [==============================] - 4s 2ms/step - loss: 1.0369 - accuracy: 0.5607 - val_loss: 1.0180 - val_accuracy: 0.5746\n",
            "Epoch 22/100\n",
            "1875/1875 [==============================] - 4s 2ms/step - loss: 1.0422 - accuracy: 0.5593 - val_loss: 1.1483 - val_accuracy: 0.5602\n",
            "Epoch 23/100\n",
            "1875/1875 [==============================] - 4s 2ms/step - loss: 1.0275 - accuracy: 0.5662 - val_loss: 1.0648 - val_accuracy: 0.5638\n",
            "Epoch 24/100\n",
            "1875/1875 [==============================] - 4s 2ms/step - loss: 1.0309 - accuracy: 0.5626 - val_loss: 1.0557 - val_accuracy: 0.5635\n",
            "Epoch 25/100\n",
            "1875/1875 [==============================] - 4s 2ms/step - loss: 1.0221 - accuracy: 0.5663 - val_loss: 1.0273 - val_accuracy: 0.5780\n",
            "Epoch 26/100\n",
            "1875/1875 [==============================] - 4s 2ms/step - loss: 1.0287 - accuracy: 0.5666 - val_loss: 1.0285 - val_accuracy: 0.5817\n",
            "Epoch 27/100\n",
            "1875/1875 [==============================] - 4s 2ms/step - loss: 1.0156 - accuracy: 0.5689 - val_loss: 1.0188 - val_accuracy: 0.5477\n",
            "Epoch 28/100\n",
            "1875/1875 [==============================] - 4s 2ms/step - loss: 1.0233 - accuracy: 0.5683 - val_loss: 1.0967 - val_accuracy: 0.5397\n",
            "Epoch 29/100\n",
            "1875/1875 [==============================] - 4s 2ms/step - loss: 1.0212 - accuracy: 0.5704 - val_loss: 1.0522 - val_accuracy: 0.5666\n",
            "Epoch 30/100\n",
            "1875/1875 [==============================] - 4s 2ms/step - loss: 1.0123 - accuracy: 0.5727 - val_loss: 1.0698 - val_accuracy: 0.5545\n",
            "Epoch 31/100\n",
            "1875/1875 [==============================] - 4s 2ms/step - loss: 1.0114 - accuracy: 0.5740 - val_loss: 1.0269 - val_accuracy: 0.5827\n",
            "Epoch 32/100\n",
            "1875/1875 [==============================] - 5s 3ms/step - loss: 1.0126 - accuracy: 0.5734 - val_loss: 1.0321 - val_accuracy: 0.5583\n",
            "Epoch 33/100\n",
            "1875/1875 [==============================] - 4s 2ms/step - loss: 1.0108 - accuracy: 0.5725 - val_loss: 1.0410 - val_accuracy: 0.5627\n",
            "Epoch 34/100\n",
            "1875/1875 [==============================] - 4s 2ms/step - loss: 1.0061 - accuracy: 0.5805 - val_loss: 1.0279 - val_accuracy: 0.5870\n",
            "Epoch 35/100\n",
            "1875/1875 [==============================] - 4s 2ms/step - loss: 1.0048 - accuracy: 0.5830 - val_loss: 1.0052 - val_accuracy: 0.5797\n",
            "Epoch 36/100\n",
            "1875/1875 [==============================] - 4s 2ms/step - loss: 0.9952 - accuracy: 0.5816 - val_loss: 1.0199 - val_accuracy: 0.5749\n",
            "Epoch 37/100\n",
            "1875/1875 [==============================] - 5s 2ms/step - loss: 0.9906 - accuracy: 0.6016 - val_loss: 0.9935 - val_accuracy: 0.6234\n",
            "Epoch 38/100\n",
            "1875/1875 [==============================] - 4s 2ms/step - loss: 0.9735 - accuracy: 0.6091 - val_loss: 0.9516 - val_accuracy: 0.6309\n",
            "Epoch 39/100\n",
            "1875/1875 [==============================] - 4s 2ms/step - loss: 0.9483 - accuracy: 0.6165 - val_loss: 0.9718 - val_accuracy: 0.6158\n",
            "Epoch 40/100\n",
            "1875/1875 [==============================] - 4s 2ms/step - loss: 0.9463 - accuracy: 0.6210 - val_loss: 0.9357 - val_accuracy: 0.6398\n",
            "Epoch 41/100\n",
            "1875/1875 [==============================] - 4s 2ms/step - loss: 0.9288 - accuracy: 0.6287 - val_loss: 0.9291 - val_accuracy: 0.6268\n",
            "Epoch 42/100\n",
            "1875/1875 [==============================] - 4s 2ms/step - loss: 0.9167 - accuracy: 0.6264 - val_loss: 0.9354 - val_accuracy: 0.6282\n",
            "Epoch 43/100\n",
            "1875/1875 [==============================] - 5s 2ms/step - loss: 0.9053 - accuracy: 0.6284 - val_loss: 0.9188 - val_accuracy: 0.6454\n",
            "Epoch 44/100\n",
            "1875/1875 [==============================] - 5s 2ms/step - loss: 0.8847 - accuracy: 0.6418 - val_loss: 0.9132 - val_accuracy: 0.6350\n",
            "Epoch 45/100\n",
            "1875/1875 [==============================] - 5s 2ms/step - loss: 0.8771 - accuracy: 0.6451 - val_loss: 0.8790 - val_accuracy: 0.6461\n",
            "Epoch 46/100\n",
            "1875/1875 [==============================] - 4s 2ms/step - loss: 0.8888 - accuracy: 0.6359 - val_loss: 0.9241 - val_accuracy: 0.6289\n",
            "Epoch 47/100\n",
            "1875/1875 [==============================] - 4s 2ms/step - loss: 0.8569 - accuracy: 0.6505 - val_loss: 0.9690 - val_accuracy: 0.6042\n",
            "Epoch 48/100\n",
            "1875/1875 [==============================] - 4s 2ms/step - loss: 0.8629 - accuracy: 0.6454 - val_loss: 0.8508 - val_accuracy: 0.6579\n",
            "Epoch 49/100\n",
            "1875/1875 [==============================] - 4s 2ms/step - loss: 0.8522 - accuracy: 0.6534 - val_loss: 0.8958 - val_accuracy: 0.6284\n",
            "Epoch 50/100\n",
            "1875/1875 [==============================] - 4s 2ms/step - loss: 0.8565 - accuracy: 0.6452 - val_loss: 0.9145 - val_accuracy: 0.6106\n",
            "Epoch 51/100\n",
            "1875/1875 [==============================] - 5s 2ms/step - loss: 0.8470 - accuracy: 0.6502 - val_loss: 0.9001 - val_accuracy: 0.6236\n",
            "Epoch 52/100\n",
            "1875/1875 [==============================] - 4s 2ms/step - loss: 0.8507 - accuracy: 0.6458 - val_loss: 0.8470 - val_accuracy: 0.6528\n",
            "Epoch 53/100\n",
            "1875/1875 [==============================] - 5s 2ms/step - loss: 0.8304 - accuracy: 0.6580 - val_loss: 0.8448 - val_accuracy: 0.6487\n",
            "Epoch 54/100\n",
            "1875/1875 [==============================] - 4s 2ms/step - loss: 0.8299 - accuracy: 0.6607 - val_loss: 0.8289 - val_accuracy: 0.6650\n",
            "Epoch 55/100\n",
            "1875/1875 [==============================] - 4s 2ms/step - loss: 0.8337 - accuracy: 0.6589 - val_loss: 0.8503 - val_accuracy: 0.6439\n",
            "Epoch 56/100\n",
            "1875/1875 [==============================] - 4s 2ms/step - loss: 0.8280 - accuracy: 0.6590 - val_loss: 0.8799 - val_accuracy: 0.6375\n",
            "Epoch 57/100\n",
            "1875/1875 [==============================] - 4s 2ms/step - loss: 0.8440 - accuracy: 0.6465 - val_loss: 0.8748 - val_accuracy: 0.6569\n",
            "Epoch 58/100\n",
            "1875/1875 [==============================] - 5s 2ms/step - loss: 0.8436 - accuracy: 0.6444 - val_loss: 0.8352 - val_accuracy: 0.6376\n",
            "Epoch 59/100\n",
            "1875/1875 [==============================] - 4s 2ms/step - loss: 0.8193 - accuracy: 0.6689 - val_loss: 0.8359 - val_accuracy: 0.6882\n",
            "Epoch 60/100\n",
            "1875/1875 [==============================] - 4s 2ms/step - loss: 0.7921 - accuracy: 0.7042 - val_loss: 0.8201 - val_accuracy: 0.7093\n",
            "Epoch 61/100\n",
            "1875/1875 [==============================] - 4s 2ms/step - loss: 0.7969 - accuracy: 0.7006 - val_loss: 0.8385 - val_accuracy: 0.6972\n",
            "Epoch 62/100\n",
            "1875/1875 [==============================] - 5s 3ms/step - loss: 0.8042 - accuracy: 0.6977 - val_loss: 0.8135 - val_accuracy: 0.6974\n",
            "Epoch 63/100\n",
            "1875/1875 [==============================] - 4s 2ms/step - loss: 0.7909 - accuracy: 0.7037 - val_loss: 0.8082 - val_accuracy: 0.6919\n",
            "Epoch 64/100\n",
            "1875/1875 [==============================] - 5s 2ms/step - loss: 0.7841 - accuracy: 0.7084 - val_loss: 0.7935 - val_accuracy: 0.7020\n",
            "Epoch 65/100\n",
            "1875/1875 [==============================] - 4s 2ms/step - loss: 0.7628 - accuracy: 0.7206 - val_loss: 0.8006 - val_accuracy: 0.7117\n",
            "Epoch 66/100\n",
            "1875/1875 [==============================] - 5s 2ms/step - loss: 0.7744 - accuracy: 0.7150 - val_loss: 0.8504 - val_accuracy: 0.6775\n",
            "Epoch 67/100\n",
            "1875/1875 [==============================] - 5s 2ms/step - loss: 0.7721 - accuracy: 0.7180 - val_loss: 0.8514 - val_accuracy: 0.6699\n",
            "Epoch 68/100\n",
            "1875/1875 [==============================] - 5s 2ms/step - loss: 0.7606 - accuracy: 0.7240 - val_loss: 0.7799 - val_accuracy: 0.7197\n",
            "Epoch 69/100\n",
            "1875/1875 [==============================] - 4s 2ms/step - loss: 0.7652 - accuracy: 0.7176 - val_loss: 0.7999 - val_accuracy: 0.7023\n",
            "Epoch 70/100\n",
            "1875/1875 [==============================] - 4s 2ms/step - loss: 0.7694 - accuracy: 0.7130 - val_loss: 0.7653 - val_accuracy: 0.7162\n",
            "Epoch 71/100\n",
            "1875/1875 [==============================] - 4s 2ms/step - loss: 0.7540 - accuracy: 0.7178 - val_loss: 0.8757 - val_accuracy: 0.6785\n",
            "Epoch 72/100\n",
            "1875/1875 [==============================] - 5s 2ms/step - loss: 0.7429 - accuracy: 0.7238 - val_loss: 0.7511 - val_accuracy: 0.7302\n",
            "Epoch 73/100\n",
            "1875/1875 [==============================] - 5s 2ms/step - loss: 0.7306 - accuracy: 0.7318 - val_loss: 0.7664 - val_accuracy: 0.7260\n",
            "Epoch 74/100\n",
            "1875/1875 [==============================] - 4s 2ms/step - loss: 0.7400 - accuracy: 0.7266 - val_loss: 0.7512 - val_accuracy: 0.7403\n",
            "Epoch 75/100\n",
            "1875/1875 [==============================] - 4s 2ms/step - loss: 0.7344 - accuracy: 0.7272 - val_loss: 0.7827 - val_accuracy: 0.7286\n",
            "Epoch 76/100\n",
            "1875/1875 [==============================] - 4s 2ms/step - loss: 0.7270 - accuracy: 0.7328 - val_loss: 0.7758 - val_accuracy: 0.7136\n",
            "Epoch 77/100\n",
            "1875/1875 [==============================] - 4s 2ms/step - loss: 0.7295 - accuracy: 0.7325 - val_loss: 0.7953 - val_accuracy: 0.6952\n",
            "Epoch 78/100\n",
            "1875/1875 [==============================] - 5s 2ms/step - loss: 0.7468 - accuracy: 0.7209 - val_loss: 0.7665 - val_accuracy: 0.7148\n",
            "Epoch 79/100\n",
            "1875/1875 [==============================] - 4s 2ms/step - loss: 0.7148 - accuracy: 0.7342 - val_loss: 0.7460 - val_accuracy: 0.7314\n",
            "Epoch 80/100\n",
            "1875/1875 [==============================] - 5s 2ms/step - loss: 0.7256 - accuracy: 0.7314 - val_loss: 0.7659 - val_accuracy: 0.7283\n",
            "Epoch 81/100\n",
            "1875/1875 [==============================] - 5s 2ms/step - loss: 0.7286 - accuracy: 0.7316 - val_loss: 0.8046 - val_accuracy: 0.6854\n",
            "Epoch 82/100\n",
            "1875/1875 [==============================] - 4s 2ms/step - loss: 0.7245 - accuracy: 0.7288 - val_loss: 0.7465 - val_accuracy: 0.7268\n",
            "Epoch 83/100\n",
            "1875/1875 [==============================] - 4s 2ms/step - loss: 0.7189 - accuracy: 0.7345 - val_loss: 0.8147 - val_accuracy: 0.6978\n",
            "Epoch 84/100\n",
            "1875/1875 [==============================] - 4s 2ms/step - loss: 0.7221 - accuracy: 0.7292 - val_loss: 0.7424 - val_accuracy: 0.7174\n",
            "Epoch 85/100\n",
            "1875/1875 [==============================] - 4s 2ms/step - loss: 0.7093 - accuracy: 0.7359 - val_loss: 0.7455 - val_accuracy: 0.7389\n",
            "Epoch 86/100\n",
            "1875/1875 [==============================] - 5s 2ms/step - loss: 0.7236 - accuracy: 0.7321 - val_loss: 0.7747 - val_accuracy: 0.7231\n",
            "Epoch 87/100\n",
            "1875/1875 [==============================] - 5s 2ms/step - loss: 0.7293 - accuracy: 0.7286 - val_loss: 0.7762 - val_accuracy: 0.7183\n",
            "Epoch 88/100\n",
            "1875/1875 [==============================] - 5s 2ms/step - loss: 0.7284 - accuracy: 0.7294 - val_loss: 0.7933 - val_accuracy: 0.7077\n",
            "Epoch 89/100\n",
            "1875/1875 [==============================] - 5s 2ms/step - loss: 0.7325 - accuracy: 0.7279 - val_loss: 0.7371 - val_accuracy: 0.7322\n",
            "Epoch 90/100\n",
            "1875/1875 [==============================] - 5s 2ms/step - loss: 0.7267 - accuracy: 0.7300 - val_loss: 0.7825 - val_accuracy: 0.7134\n",
            "Epoch 91/100\n",
            "1875/1875 [==============================] - 5s 2ms/step - loss: 0.7243 - accuracy: 0.7309 - val_loss: 0.7411 - val_accuracy: 0.7304\n",
            "Epoch 92/100\n",
            "1875/1875 [==============================] - 6s 3ms/step - loss: 0.7170 - accuracy: 0.7352 - val_loss: 0.7451 - val_accuracy: 0.7339\n",
            "Epoch 93/100\n",
            "1875/1875 [==============================] - 4s 2ms/step - loss: 0.7264 - accuracy: 0.7301 - val_loss: 0.7463 - val_accuracy: 0.7315\n",
            "Epoch 94/100\n",
            "1875/1875 [==============================] - 5s 2ms/step - loss: 0.7258 - accuracy: 0.7327 - val_loss: 0.7419 - val_accuracy: 0.7356\n",
            "Epoch 95/100\n",
            "1875/1875 [==============================] - 4s 2ms/step - loss: 0.7243 - accuracy: 0.7302 - val_loss: 0.7394 - val_accuracy: 0.7368\n",
            "Epoch 96/100\n",
            "1875/1875 [==============================] - 5s 2ms/step - loss: 0.7139 - accuracy: 0.7380 - val_loss: 0.7452 - val_accuracy: 0.7300\n",
            "Epoch 97/100\n",
            "1875/1875 [==============================] - 4s 2ms/step - loss: 0.7082 - accuracy: 0.7382 - val_loss: 0.7467 - val_accuracy: 0.7258\n",
            "Epoch 98/100\n",
            "1875/1875 [==============================] - 5s 2ms/step - loss: 0.7149 - accuracy: 0.7374 - val_loss: 0.7678 - val_accuracy: 0.7284\n",
            "Epoch 99/100\n",
            "1875/1875 [==============================] - 5s 2ms/step - loss: 0.7320 - accuracy: 0.7277 - val_loss: 0.7509 - val_accuracy: 0.7255\n",
            "Epoch 100/100\n",
            "1875/1875 [==============================] - 4s 2ms/step - loss: 0.7176 - accuracy: 0.7323 - val_loss: 0.7294 - val_accuracy: 0.7367\n"
          ]
        }
      ],
      "source": [
        "tf.random.set_seed(42)\n",
        "model=tf.keras.Sequential([\n",
        "  tf.keras.layers.Flatten(input_shape=(28,28)),\n",
        "  tf.keras.layers.Dense(4, activation=\"relu\"),\n",
        "  tf.keras.layers.Dense(10, activation=\"relu\"),\n",
        "  tf.keras.layers.Dense(10, activation=tf.keras.activations.softmax)  \n",
        "])\n",
        "\n",
        "model.compile(loss=tf.keras.losses.sparse_categorical_crossentropy,\n",
        "              optimizer=tf.keras.optimizers.Adam(),\n",
        "              metrics=[\"accuracy\"])\n",
        "\n",
        "history = model.fit(train_data, \n",
        "                    train_labels, \n",
        "                    epochs=100,\n",
        "                    validation_data=(test_data, test_labels))"
      ]
    },
    {
      "cell_type": "code",
      "execution_count": null,
      "metadata": {
        "colab": {
          "base_uri": "https://localhost:8080/"
        },
        "id": "cB7hkWnAvT0Q",
        "outputId": "27f4780e-d2f3-46b2-fcda-e1576ae8dd05"
      },
      "outputs": [
        {
          "output_type": "stream",
          "name": "stdout",
          "text": [
            "Model: \"sequential\"\n",
            "_________________________________________________________________\n",
            " Layer (type)                Output Shape              Param #   \n",
            "=================================================================\n",
            " flatten (Flatten)           (None, 784)               0         \n",
            "                                                                 \n",
            " dense (Dense)               (None, 4)                 3140      \n",
            "                                                                 \n",
            " dense_1 (Dense)             (None, 10)                50        \n",
            "                                                                 \n",
            " dense_2 (Dense)             (None, 10)                110       \n",
            "                                                                 \n",
            "=================================================================\n",
            "Total params: 3,300\n",
            "Trainable params: 3,300\n",
            "Non-trainable params: 0\n",
            "_________________________________________________________________\n"
          ]
        }
      ],
      "source": [
        "model.summary()"
      ]
    },
    {
      "cell_type": "code",
      "execution_count": null,
      "metadata": {
        "colab": {
          "base_uri": "https://localhost:8080/"
        },
        "id": "EcAICoirwAX2",
        "outputId": "bf1334f7-0400-4215-aaaa-1b56a908052e"
      },
      "outputs": [
        {
          "output_type": "stream",
          "name": "stdout",
          "text": [
            "Epoch 1/10\n",
            "1875/1875 [==============================] - 5s 3ms/step - loss: 0.6973 - accuracy: 0.7524 - val_loss: 0.5060 - val_accuracy: 0.8190\n",
            "Epoch 2/10\n",
            "1875/1875 [==============================] - 5s 2ms/step - loss: 0.4645 - accuracy: 0.8332 - val_loss: 0.5339 - val_accuracy: 0.8150\n",
            "Epoch 3/10\n",
            "1875/1875 [==============================] - 5s 2ms/step - loss: 0.4375 - accuracy: 0.8432 - val_loss: 0.4746 - val_accuracy: 0.8234\n",
            "Epoch 4/10\n",
            "1875/1875 [==============================] - 4s 2ms/step - loss: 0.4200 - accuracy: 0.8509 - val_loss: 0.4649 - val_accuracy: 0.8348\n",
            "Epoch 5/10\n",
            "1875/1875 [==============================] - 4s 2ms/step - loss: 0.4118 - accuracy: 0.8514 - val_loss: 0.4676 - val_accuracy: 0.8340\n",
            "Epoch 6/10\n",
            "1875/1875 [==============================] - 4s 2ms/step - loss: 0.4026 - accuracy: 0.8556 - val_loss: 0.4544 - val_accuracy: 0.8380\n",
            "Epoch 7/10\n",
            "1875/1875 [==============================] - 5s 2ms/step - loss: 0.3963 - accuracy: 0.8590 - val_loss: 0.4549 - val_accuracy: 0.8344\n",
            "Epoch 8/10\n",
            "1875/1875 [==============================] - 4s 2ms/step - loss: 0.3892 - accuracy: 0.8604 - val_loss: 0.4476 - val_accuracy: 0.8399\n",
            "Epoch 9/10\n",
            "1875/1875 [==============================] - 4s 2ms/step - loss: 0.3851 - accuracy: 0.8624 - val_loss: 0.4277 - val_accuracy: 0.8466\n",
            "Epoch 10/10\n",
            "1875/1875 [==============================] - 4s 2ms/step - loss: 0.3819 - accuracy: 0.8624 - val_loss: 0.4307 - val_accuracy: 0.8471\n"
          ]
        }
      ],
      "source": [
        "train_data_scaled = train_data/255.0\n",
        "test_data_scaled = test_data/255.0\n",
        "\n",
        "model2 = tf.keras.Sequential([\n",
        "    tf.keras.layers.Flatten(input_shape=(28,28)),\n",
        "    tf.keras.layers.Dense(10, activation=\"relu\"),\n",
        "    tf.keras.layers.Dense(10,activation=\"relu\"),\n",
        "    tf.keras.layers.Dense(10, activation=\"softmax\")\n",
        "])\n",
        "\n",
        "model2.compile(loss=tf.keras.losses.sparse_categorical_crossentropy,\n",
        "               optimizer=\"adam\",\n",
        "               metrics=[\"accuracy\"])\n",
        "\n",
        "history_normalized=model2.fit(train_data_scaled,\n",
        "          train_labels,\n",
        "          epochs=10,\n",
        "          validation_data=(test_data_scaled, test_labels))"
      ]
    },
    {
      "cell_type": "code",
      "execution_count": null,
      "metadata": {
        "colab": {
          "base_uri": "https://localhost:8080/",
          "height": 562
        },
        "id": "8cysaLu41Mp7",
        "outputId": "b14c8b59-e288-43cf-9985-2c54d1bc6a4e"
      },
      "outputs": [
        {
          "output_type": "execute_result",
          "data": {
            "text/plain": [
              "<matplotlib.axes._subplots.AxesSubplot at 0x7f83fc73f5d0>"
            ]
          },
          "metadata": {},
          "execution_count": 10
        },
        {
          "output_type": "display_data",
          "data": {
            "text/plain": [
              "<Figure size 432x288 with 1 Axes>"
            ],
            "image/png": "[encoded data removed]"
          },
          "metadata": {
            "needs_background": "light"
          }
        },
        {
          "output_type": "display_data",
          "data": {
            "text/plain": [
              "<Figure size 432x288 with 1 Axes>"
            ],
            "image/png": "[encoded data removed]"
          },
          "metadata": {
            "needs_background": "light"
          }
        }
      ],
      "source": [
        "import pandas as pd\n",
        "pd.DataFrame(history.history).plot(title=\"non normalized\")\n",
        "pd.DataFrame(history_normalized.history).plot(title=\"normalized\")"
      ]
    }
  ],
  "metadata": {
    "accelerator": "GPU",
    "colab": {
      "provenance": [],
      "authorship_tag": "ABX9TyNuUThfplAR38uj9pnIsZPR",
      "include_colab_link": true
    },
    "kernelspec": {
      "display_name": "Python 3",
      "name": "python3"
    },
    "language_info": {
      "name": "python"
    }
  },
  "nbformat": 4,
  "nbformat_minor": 0
}